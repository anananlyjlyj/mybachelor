{
 "cells": [
  {
   "cell_type": "code",
   "execution_count": 1,
   "metadata": {},
   "outputs": [
    {
     "ename": "SyntaxError",
     "evalue": "invalid syntax (<ipython-input-1-64ffc817248a>, line 1)",
     "output_type": "error",
     "traceback": [
      "\u001b[1;36m  File \u001b[1;32m\"<ipython-input-1-64ffc817248a>\"\u001b[1;36m, line \u001b[1;32m1\u001b[0m\n\u001b[1;33m    1.0000E+08  2.0800E+03\u001b[0m\n\u001b[1;37m                         ^\u001b[0m\n\u001b[1;31mSyntaxError\u001b[0m\u001b[1;31m:\u001b[0m invalid syntax\n"
     ]
    }
   ],
   "source": [
    "1.0000E+08  2.0800E+03\n",
    "1.0000E+09  1.0400E+03\n",
    "2.2000E+10  4.1100E+02\n",
    "2.5000E+11  2.0400E+02\n",
    "1.0000E+12  1.2000E+02\n",
    "3.0000E+12  1.8400E+02\n",
    "5.0000E+12  2.1000E+02\n",
    "1.2000E+13  6.7000E+01\n",
    "2.5000E+13  3.7000E+01\n",
    "1.3636E+14  9.1200E+00\n",
    "1.8750E+14  9.3300E+00\n",
    "4.0541E+14  5.2500E+00\n",
    "6.3830E+14  4.2600E+00\n",
    "9.0909E+14  1.9100E+00\n",
    "1.9355E+15  1.3700E+00\n",
    "5.9784E+17  2.1962E-03\n",
    "6.9566E+17  1.8496E-03\n",
    "1.0219E+18  1.2259E-03\n",
    "1.4731E+18  8.2194E-04\n",
    "1.9719E+18  6.0857E-04\n",
    "2.5316E+18  4.6603E-04\n",
    "3.6579E+18  3.1529E-04\n",
    "5.4298E+18  2.1113E-04\n",
    "1.0830E+19  1.2074E-04\n",
    "1.6445E+19  4.9187E-05\n",
    "2.1239E+20  1.4928E-06\n",
    "2.7307E+20  1.1605E-06\n",
    "3.3375E+20  1.0228E-06\n",
    "4.2477E+20  7.1264E-07\n",
    "5.4614E+20  4.5441E-07\n",
    "6.6750E+20  3.9386E-07\n",
    "8.4955E+20  3.0307E-07\n",
    "1.2136E+21  2.0229E-07\n",
    "1.6991E+21  1.3121E-07\n",
    "2.1845E+21  9.7238E-08\n",
    "3.0341E+21  6.0555E-08\n",
    "5.4614E+21  2.9849E-08\n",
    "1.2136E+22  4.9500E-09\n",
    "2.9127E+22  7.1280E-10\n",
    "4.8545E+22  1.9800E-10\n",
    "9.7091E+22  5.2800E-11\n",
    "1.9418E+23  1.5840E-11\n",
    "4.8545E+23  1.5840E-11\n",
    "1.9418E+24  1.5840E-11\n",
    "8.8595E+25  4.7457E-14\n",
    "1.1821E+26  5.6570E-14\n",
    "1.5753E+26  3.7608E-14\n",
    "2.1020E+26  2.2977E-14\n",
    "2.8035E+26  1.4255E-14\n",
    "3.7380E+26  9.1984E-15\n",
    "4.9856E+26  6.1139E-15\n",
    "6.6459E+26  3.9033E-15\n",
    "8.8644E+26  2.2488E-15\n",
    "1.1821E+27  1.3435E-15\n",
    "1.5763E+27  8.2721E-16\n",
    "2.1020E+27  5.8299E-16\n",
    "3.2368E+27  2.8868E-16\n",
    "5.7560E+27  8.2639E-17\n",
    "1.0236E+28  3.0615E-18\n",
    "1.8202E+28  1.0146E-17"
   ]
  },
  {
   "cell_type": "code",
   "execution_count": 8,
   "metadata": {},
   "outputs": [
    {
     "ename": "AttributeError",
     "evalue": "module 'astropy.constants' has no attribute 'l_sun'",
     "output_type": "error",
     "traceback": [
      "\u001b[1;31m---------------------------------------------------------------------------\u001b[0m",
      "\u001b[1;31mAttributeError\u001b[0m                            Traceback (most recent call last)",
      "\u001b[1;32m<ipython-input-8-7f58de8500aa>\u001b[0m in \u001b[0;36m<module>\u001b[1;34m()\u001b[0m\n\u001b[0;32m      1\u001b[0m \u001b[1;32mimport\u001b[0m \u001b[0mastropy\u001b[0m\u001b[1;33m.\u001b[0m\u001b[0mconstants\u001b[0m \u001b[1;32mas\u001b[0m \u001b[0mconst\u001b[0m\u001b[1;33m\u001b[0m\u001b[0m\n\u001b[1;32m----> 2\u001b[1;33m \u001b[0mconst\u001b[0m\u001b[1;33m.\u001b[0m\u001b[0ml_sun\u001b[0m\u001b[1;33m\u001b[0m\u001b[0m\n\u001b[0m",
      "\u001b[1;31mAttributeError\u001b[0m: module 'astropy.constants' has no attribute 'l_sun'"
     ]
    }
   ],
   "source": [
    "import astropy.constants as const\n",
    "const.l_sun"
   ]
  }
 ],
 "metadata": {
  "kernelspec": {
   "display_name": "Python 3",
   "language": "python",
   "name": "python3"
  },
  "language_info": {
   "codemirror_mode": {
    "name": "ipython",
    "version": 3
   },
   "file_extension": ".py",
   "mimetype": "text/x-python",
   "name": "python",
   "nbconvert_exporter": "python",
   "pygments_lexer": "ipython3",
   "version": "3.6.3"
  }
 },
 "nbformat": 4,
 "nbformat_minor": 2
}
