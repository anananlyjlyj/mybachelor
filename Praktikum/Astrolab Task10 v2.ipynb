{
  "nbformat": 4,
  "nbformat_minor": 0,
  "metadata": {
    "kernelspec": {
      "display_name": "Python 3",
      "language": "python",
      "name": "python3"
    },
    "language_info": {
      "codemirror_mode": {
        "name": "ipython",
        "version": 3
      },
      "file_extension": ".py",
      "mimetype": "text/x-python",
      "name": "python",
      "nbconvert_exporter": "python",
      "pygments_lexer": "ipython3",
      "version": "3.8.3"
    },
    "colab": {
      "name": "Astrolab Task10.ipynb",
      "provenance": [],
      "collapsed_sections": [],
      "toc_visible": true
    }
  },
  "cells": [
    {
      "cell_type": "markdown",
      "metadata": {
        "id": "xCXxw0i0BspF"
      },
      "source": [
        "## 10. THE HUBBLE–LAW AND THE EXPANSION OF THE UNIVERSE"
      ]
    },
    {
      "cell_type": "code",
      "metadata": {
        "id": "tW3BedJpBspO"
      },
      "source": [
        "import numpy as np\n",
        "import matplotlib.pyplot as plt\n",
        "from astropy.io import ascii"
      ],
      "execution_count": null,
      "outputs": []
    },
    {
      "cell_type": "markdown",
      "metadata": {
        "id": "yUJOGp8vBsp3"
      },
      "source": [
        "## Lab–Tasks I\n",
        "\n",
        "1. Describe the positions of RR Lyrae and δ Cepheid stars in the Hertzsprung-Russell Diagram.\n",
        "    * Along the instability strip (RR Lyrae further down, Cepheids further up). RR Lyrae: half the mass of the sun, horizontal branch. Cepheids: Larger stars ...\n",
        "2. Describe the period–luminosity relation for δ Cepheid stars.\n",
        "    * $ M_V = -2.760 ( \\log P - 1)-4.160$ with $P$ in days \n",
        "3. What is the observed wavelength of Lyα for a quasar with redshift z = 6.4?\n",
        "    * $\\lambda_e = 1215.67 A$, $\\lambda_o = (1+z)\\lambda_e=8995.96 A$\n",
        "4. Find out the maximum redshift observed for quasars (see Sloan Digital Sky Survey project).\n",
        "    * ULAS J1342+0928 with $z = 7.54$ [from Wikipedia](https://arxiv.org/abs/1712.01860)\n",
        "5. What is the meaning of isotropy for the expansion of the Universe? How can one test the isotropy of the Universe?\n",
        "    * the universe looks the same in every direction\n",
        "6. Is the Universe really homogeneous?\n",
        "    * only on very larger scales (even then we have voids and galaxie clusters)\n",
        "    \n",
        "![Cepheids](https://upload.wikimedia.org/wikipedia/commons/thumb/c/c7/HR-diag-instability-strip.svg/1024px-HR-diag-instability-strip.svg.png)"
      ]
    },
    {
      "cell_type": "markdown",
      "metadata": {
        "id": "WSF8BrO_BsqG"
      },
      "source": [
        "## Lab–Tasks II: The Cepheid Method\n",
        "1. Data in Table 3.1 give the lightcurve in the visual of the Cepheid Nr. 6\n",
        "in M 101 (NGC 5457) as a function of the Julian date. Determine from\n",
        "these data the mean magnitude mV , the period P, and using the relation\n",
        "from eq. (5) the distance modulus $DM = mV − MV$ . (Keep in mind that\n",
        "data sampling might not had been taken at equally space time intervals.\n",
        "Is your estimate of P consistent with values in Figure 4?)\n",
        "2. Make a plot for the data in Table 3.1: velocity V [in 1000km/s] vs. distance\n",
        "D [in Mpc].\n",
        "3. Determine the best linear fit to these data.\n",
        "4. The slope of this curve directly provides the Hubble constant H0.\n",
        "5. The inverse $T_0 = 1/H_0$ of the Hubble constant has the meaning of a time,\n",
        "and is therefore a measure for the age of the Universe (Why?). Determine\n",
        "the age T0 with your data."
      ]
    },
    {
      "cell_type": "code",
      "metadata": {
        "id": "_C1f5i1RBsqO"
      },
      "source": [
        "from astropy.io import ascii\n",
        "tbl1 = ascii.read('https://www.lsw.uni-heidelberg.de/users/jheidt/praktikum/Astrolab_SS2020/Task10/Cosmology_tab1.txt')\n",
        "del tbl1['V']\n",
        "tbl1.rename_columns(['Julian','date','[mag]'],['Date','V','errV'])"
      ],
      "execution_count": null,
      "outputs": []
    },
    {
      "cell_type": "code",
      "metadata": {
        "id": "_6uH6X1uBsqj",
        "outputId": "cdf65c32-2439-4e81-eeae-d1bbc3a2a4d7",
        "colab": {
          "base_uri": "https://localhost:8080/",
          "height": 296
        }
      },
      "source": [
        "mean_mV = np.mean(tbl1['V'])\n",
        "print(f'mean mV={mean_mV:.2f}')\n",
        "\n",
        "fig,ax = plt.subplots()\n",
        "ax.errorbar(tbl1['Date'],tbl1['V'],yerr=tbl1['errV'],fmt='o')\n",
        "ax.set(xlabel='jmd',ylabel='mV/mag')\n",
        "plt.grid()\n",
        "plt.show()"
      ],
      "execution_count": null,
      "outputs": [
        {
          "output_type": "stream",
          "text": [
            "mean mV=23.60\n"
          ],
          "name": "stdout"
        },
        {
          "output_type": "display_data",
          "data": {
            "image/png": "[encoded data removed]",
            "text/plain": [
              "<Figure size 432x288 with 1 Axes>"
            ]
          },
          "metadata": {
            "tags": [],
            "needs_background": "light"
          }
        }
      ]
    },
    {
      "cell_type": "code",
      "metadata": {
        "id": "76wS_gjTBsq_",
        "outputId": "2303ddfc-105b-4663-d70e-df1ff2838713",
        "colab": {
          "base_uri": "https://localhost:8080/",
          "height": 68
        }
      },
      "source": [
        "from astropy.coordinates import Distance\n",
        "import astropy.units as u\n",
        "\n",
        "P = 100\n",
        "Mv = -2.760 * (np.log10(P) - 1)-4.160\n",
        "DM = mean_mV-Mv\n",
        "dMpc = Distance(distmod=DM)\n",
        "print(f'Mv={Mv:.2f}\\nDM={DM:.2f}\\nd ={dMpc.to(u.Mpc):.2f}')"
      ],
      "execution_count": null,
      "outputs": [
        {
          "output_type": "stream",
          "text": [
            "Mv=-6.92\n",
            "DM=30.52\n",
            "d =12.71 Mpc\n"
          ],
          "name": "stdout"
        }
      ]
    },
    {
      "cell_type": "markdown",
      "metadata": {
        "id": "x7QrJiHHBsrV"
      },
      "source": [
        "now with multiple cepheids"
      ]
    },
    {
      "cell_type": "code",
      "metadata": {
        "id": "PKkkYH3cBsrZ"
      },
      "source": [
        "tbl2 = ascii.read('https://www.lsw.uni-heidelberg.de/users/jheidt/praktikum/Astrolab_SS2020/Task10/Cosmology_tab2.txt',data_start=2)\n",
        "#del tbl['V']\n",
        "tbl2['name'] = [i+j for i,j in zip(tbl2['col1'],tbl2['col2'])]\n",
        "tbl2.rename_columns([f'col{i}' for i in range(3,8)],['n','mu','errmu','v_Helio','v_CMB'])\n",
        "del tbl2['col1']\n",
        "del tbl2['col2']"
      ],
      "execution_count": null,
      "outputs": []
    },
    {
      "cell_type": "code",
      "metadata": {
        "id": "RAgP4AQJBsrr",
        "outputId": "638ac24f-9b04-4154-cab4-a2c175126386",
        "colab": {
          "base_uri": "https://localhost:8080/",
          "height": 313
        }
      },
      "source": [
        "from astropy.modeling import models, fitting\n",
        "from astropy.coordinates import Distance\n",
        "\n",
        "# define a model for a line\n",
        "line_orig = models.Linear1D(slope=1.0, intercept=0.5)\n",
        "\n",
        "x = Distance(distmod=tbl2['mu']).value\n",
        "xerr = Distance(distmod=tbl2['mu']+tbl2['errmu']).value - Distance(distmod=tbl2['mu']).value\n",
        "y = tbl2['v_CMB']\n",
        "\n",
        "# initialize a linear fitter\n",
        "fit = fitting.LinearLSQFitter()\n",
        "\n",
        "# initialize a linear model\n",
        "line_init = models.Linear1D()\n",
        "\n",
        "# fit the data with the fitter weights=1/yerr for yerr\n",
        "fitted_line = fit(line_init, x,y)\n",
        "\n",
        "# plot the model\n",
        "fig,ax = plt.subplots()\n",
        "ax.errorbar(x,y,xerr=xerr,fmt='o')\n",
        "ax.plot(x, fitted_line(x), 'k-', label='Fitted Model')\n",
        "plt.xlabel('D/Mpc')\n",
        "plt.ylabel('v/ (km/s)')\n",
        "plt.legend()\n",
        "plt.show()\n",
        "\n",
        "H0 = fitted_line.parameters[0] * u.km/u.s/u.Mpc\n",
        "T0 = 1/H0.to(1/u.Gyr)\n",
        "print(f'H0={H0:.2f}\\nT0={T0:.2f}')"
      ],
      "execution_count": null,
      "outputs": [
        {
          "output_type": "display_data",
          "data": {
            "image/png": "[encoded data removed]",
            "text/plain": [
              "<Figure size 432x288 with 1 Axes>"
            ]
          },
          "metadata": {
            "tags": [],
            "needs_background": "light"
          }
        },
        {
          "output_type": "stream",
          "text": [
            "H0=78.72 km / (Mpc s)\n",
            "T0=12.42 Gyr\n"
          ],
          "name": "stdout"
        }
      ]
    },
    {
      "cell_type": "markdown",
      "metadata": {
        "id": "L9oJWqYUBssk"
      },
      "source": [
        "## Lab–Tasks III: Hubble Constant from Local Supernovae\n",
        "1. Why are Supernovae of type II not suitable for cosmological standard\n",
        "candles?\n",
        "  * the progenitor of a type II SN is a large star. Because the size of the progenitor is no longer fixed like in the case of a type II SN, the luminosity is also arbitrary.\n",
        "2. What is the difference in the spectra of Type I and Type II Supernovae?\n",
        "  * Type I: no hydrogen (exploding White Dwarf, massive star that has lost its hydrogen envelope), Type II: strong hydrogen line, strong Helium line\n",
        "3. What is the meaning of the K–Correction in Cosmology?\n",
        "  * account for flux shifted out of filter due to redshift\n",
        "4. Make a Hubble-Diagram with the data of Table 4 and Table 5: ($z, m^{eff}_B$ ), linear in $logz$ (in the range $0.01≤ z< 1.0$) and linear in the B–band magnitude $m_{eff}$\n",
        "B . Discuss the error bars.\n",
        "5. Use the classical Hubble–law\n",
        "    $$ m(z) − M_B = 5 \\log {\\frac{d[z]}{[Mpc]}} + 25 $$\n",
        "  with the distance\n",
        "  $$ d[z] = \\frac{c}{H0} z $$\n",
        "Since Supernovae are standard candles, we may write\n",
        "$$ m(z) = M + 5 \\log z $$\n",
        "with the constant $$ M = MB − 5 \\log \\frac{H0 [Mpc]}{c} + 25 $$\n",
        "\n",
        "This represents a linear relation in the Hubble–diagram. Determine by\n",
        "using the data for z ≤ 0.1 the constant M (called calibration constant).\n",
        "What is your value for H0 according to your fit if the absolute magnitude\n",
        "of a Supernova MB=-19.47±0.2?\n",
        "(SN–calibration by Tammann 1999)\n",
        "Estimate the error for your Hubble constant.\n",
        "6. Discuss alternative methods to determine the Hubble constant."
      ]
    },
    {
      "cell_type": "code",
      "metadata": {
        "id": "zAjzMtymd-gq"
      },
      "source": [
        "from astropy.io import ascii\n",
        "from astropy.table import vstack\n",
        "\n",
        "tbl3 = ascii.read('https://www.lsw.uni-heidelberg.de/users/jheidt/praktikum/Astrolab_SS2020/Task10/Cosmology_tab3.txt',data_start=2)\n",
        "tbl3.rename_columns([f'col{i}' for i in range(1,10)],[\"SN\",'z','sigma_z','m','sigma', \"A_E\", \"K\", \"Delta\", \"sigma_B\"])\n",
        "\n",
        "tbl4 = ascii.read('https://www.lsw.uni-heidelberg.de/users/jheidt/praktikum/Astrolab_SS2020/Task10/Cosmology_tab4.txt',data_start=2)\n",
        "tbl4.rename_columns([f'col{i}' for i in range(1,10)],[\"SN\",'z','sigma_z','m','sigma', \"A_E\", \"K\", \"Delta\", \"sigma_B\"])\n",
        "\n",
        "tbl3['meff'] = tbl3['m'] + tbl3['Delta'] - tbl3['K'] - tbl3['A_E']\n",
        "tbl4['meff'] = tbl4['m'] + tbl4['Delta'] - tbl4['K'] - tbl4['A_E']\n",
        "\n",
        "tbl5 = vstack([tbl3,tbl4])"
      ],
      "execution_count": null,
      "outputs": []
    },
    {
      "cell_type": "markdown",
      "metadata": {
        "id": "ZUFRnELrnT_n"
      },
      "source": [
        "* $\\Delta_{corr}$: light curve correction\n",
        "* $K$: K-correction\n",
        "* $A_E$: galactic extinction"
      ]
    },
    {
      "cell_type": "markdown",
      "metadata": {
        "id": "QEOKasLdm9A-"
      },
      "source": [
        ""
      ]
    },
    {
      "cell_type": "code",
      "metadata": {
        "id": "zzfPik75fh7m",
        "outputId": "38e248a1-0c33-4c90-bc9b-8f0b9206c1dc",
        "colab": {
          "base_uri": "https://localhost:8080/",
          "height": 283
        }
      },
      "source": [
        "# plot the model\n",
        "fig,ax = plt.subplots()\n",
        "ax.errorbar(tbl3['z'],tbl3['meff'],xerr=tbl3['sigma_z'],yerr=tbl3['sigma_B'],fmt='ob')\n",
        "ax.errorbar(tbl4['z'],tbl4['meff'],xerr=tbl4['sigma_z'],yerr=tbl4['sigma_B'],fmt='og')\n",
        "ax.set(xlabel='z',ylabel='m',xscale='log',xlim=[1e-2,1])\n",
        "ax.grid(True, which = \"both\")\n",
        "plt.show()"
      ],
      "execution_count": null,
      "outputs": [
        {
          "output_type": "display_data",
          "data": {
            "image/png": "[encoded data removed]",
            "text/plain": [
              "<Figure size 432x288 with 1 Axes>"
            ]
          },
          "metadata": {
            "tags": [],
            "needs_background": "light"
          }
        }
      ]
    },
    {
      "cell_type": "code",
      "metadata": {
        "id": "EUTOvdovoJ3U",
        "outputId": "d93da2d0-365e-4099-8d45-0385ff5ff8e8",
        "colab": {
          "base_uri": "https://localhost:8080/",
          "height": 279
        }
      },
      "source": [
        "from astropy.modeling import models, fitting\n",
        "\n",
        "x = np.log10(tbl5['z'][tbl5['z']<0.1])\n",
        "y = tbl5['meff'][tbl5['z']<0.1]\n",
        "yerr = tbl5['sigma_B'][tbl5['z']<0.1]\n",
        "\n",
        "# initialize a linear fitter\n",
        "fit = fitting.LinearLSQFitter()\n",
        "\n",
        "# initialize a linear model\n",
        "line_init = models.Linear1D(slope=5)\n",
        "line_init.slope.fixed = True\n",
        "\n",
        "# fit the data with the fitter \n",
        "fitted_line = fit(line_init, x,y,weights=1/yerr)\n",
        "\n",
        "# plot the model\n",
        "fig,ax = plt.subplots()\n",
        "ax.errorbar(x,y,yerr=yerr,fmt='o')\n",
        "ax.plot(x, fitted_line(x), 'k-', label='Fitted Model')\n",
        "\n",
        "'''\n",
        "fitted_line.intercept=24.276\n",
        "ax.plot(x, fitted_line(x), 'k-', label='Fitted Model')\n",
        "fitted_line.intercept=23.876\n",
        "ax.plot(x, fitted_line(x), 'k-', label='Fitted Model')\n",
        "'''\n",
        "\n",
        "plt.xlabel('log10(z)')\n",
        "plt.ylabel('meff')\n",
        "plt.legend()\n",
        "plt.show()"
      ],
      "execution_count": null,
      "outputs": [
        {
          "output_type": "display_data",
          "data": {
            "image/png": "[encoded data removed]",
            "text/plain": [
              "<Figure size 432x288 with 1 Axes>"
            ]
          },
          "metadata": {
            "tags": [],
            "needs_background": "light"
          }
        }
      ]
    },
    {
      "cell_type": "markdown",
      "metadata": {
        "id": "d6nucAknxiWa"
      },
      "source": [
        "$$H_0 = 10^{(M_B+25-\\mathcal{M})/5} \\cdot \\frac{c}{Mpc}$$\n",
        "\n",
        "$$\\delta H_0 = \\sqrt{ (\\partial_{M_B} H_0 \\cdot \\delta M_B)^2 + (\\partial_\\mathcal{M} H_0 \\cdot \\delta \\mathcal{M})^2} = \\sqrt{ (H_0 \\cdot \\frac{\\ln{10}}{5} \\cdot \\delta M_B)^2 + ( H_0 \\cdot \\frac{\\ln{10}}{5} \\cdot \\delta \\mathcal{M})^2} $$"
      ]
    },
    {
      "cell_type": "code",
      "metadata": {
        "id": "Td7eeygtrXUm",
        "outputId": "76f30d1f-df60-4a25-d557-bed4b5b60312",
        "colab": {
          "base_uri": "https://localhost:8080/",
          "height": 51
        }
      },
      "source": [
        "import astropy.constants as c\n",
        "import astropy.units as u\n",
        "\n",
        "M = fitted_line.parameters[1]\n",
        "MB = -19.47\n",
        "H0_func = lambda M: (10**((MB+25-M)/5)*c.c/u.Mpc).to(u.km/u.s/u.Mpc)\n",
        "\n",
        "dMB = 0.2\n",
        "dM  = 0.2\n",
        "dH0 = np.sqrt((H0_func(M)*np.log(10)*dMB/5)**2 + (H0_func(M)*np.log(10)*dM/5)**2)\n",
        "\n",
        "print(f'M={M:.2f}\\nH0={H0_func(M):.2f}+-{dH0:.2f}')"
      ],
      "execution_count": null,
      "outputs": [
        {
          "output_type": "stream",
          "text": [
            "M=24.08\n",
            "H0=58.56 km / (Mpc s)+-7.63 km / (Mpc s)\n"
          ],
          "name": "stdout"
        }
      ]
    },
    {
      "cell_type": "markdown",
      "metadata": {
        "id": "6kS4mOvP4h3_"
      },
      "source": [
        "### Measuring the Hubble constant\n",
        "\n",
        "* from the distance ladder (HST-key project)\n",
        "* from CMB fluctuations (Planck mission)\n",
        "* Tulley Fisher relation -> large error\n"
      ]
    },
    {
      "cell_type": "markdown",
      "metadata": {
        "id": "o-H8cz0fBssm"
      },
      "source": [
        "## Lab–Tasks IV: Extracting the best Cosmological model from your own Hubble diagram.\n",
        "1. Calculate from the distance modulus $m^{eff}_B − MB$, the luminosity distance\n",
        "$d_L$, for the Supernovae in Table 3 and 4. Plot this diagram with $d_L$ in\n",
        "Gigaparsec as $x$–axis and $cz$ in units of km/sec as y–axis. Test the linearity\n",
        "of the Hubble-relation for redshifts $z > 0.15$.\n",
        "2. Show that for $z ≪ 1$,the Mattig–formula converges towards the Hubble–\n",
        "law, independent of the deceleration parameter $q_0$. Notice that $q_0 < 1$.\n",
        "3. Plot in your Hubble diagram theoretical curves for $Ω_Λ = 0$. Is this com-\n",
        "patible with the data? consider in particular SCDM with\n",
        " $$ d_L(z,H_0) = \\frac{2c}{H_0} (1+z-\\sqrt{1+z})$$\n",
        "4. Make a plot for the distance modulus DM as a function of the redshift\n",
        "for the redshift range $0.01 < z < 5.0 (linear in redshift) for the following\n",
        "models: deSitter, SCDM, and ΛCDM."
      ]
    },
    {
      "cell_type": "code",
      "metadata": {
        "id": "WLe6WA6Ww9Jm",
        "outputId": "2da08709-de1e-4806-e749-b9e855331914",
        "colab": {
          "base_uri": "https://localhost:8080/",
          "height": 280
        }
      },
      "source": [
        "from astropy.modeling import models, fitting\n",
        "from astropy.coordinates import Distance\n",
        "\n",
        "tbl5['mu'] = tbl5['meff']-MB\n",
        "x = Distance(distmod = tbl5['mu']).to(u.Mpc).value\n",
        "y = (tbl5['z']*c.c).to(u.km/u.s).value\n",
        "yerr  = (tbl5['sigma_z']*c.c).to(u.km/u.s).value\n",
        "\n",
        "# define a model for a line\n",
        "line_orig = models.Linear1D(slope=1.0, intercept=0.5)\n",
        "\n",
        "# initialize a linear fitter\n",
        "fit = fitting.LinearLSQFitter()\n",
        "\n",
        "# initialize a linear model\n",
        "line_init = models.Linear1D()\n",
        "\n",
        "# fit the data with the fitter weights=1/yerr for yerr\n",
        "threshold = 0.15*c.c.to(u.km/u.s).value\n",
        "fitted_line = fit(line_init, x[y > threshold],y[y> threshold])\n",
        "\n",
        "# plot the model\n",
        "fig,ax = plt.subplots()\n",
        "ax.errorbar(x,y,yerr=yerr, fmt='o')\n",
        "ax.plot(x[y > threshold], fitted_line(x[y > threshold]), 'k-', label='Fitted Model')\n",
        "plt.xlabel('d_L/Mpc')\n",
        "plt.ylabel('cz/ (km/s)')\n",
        "plt.axhline(0.15*c.c.to(u.km/u.s).value, color = \"r\")\n",
        "plt.grid()\n",
        "plt.legend()\n",
        "plt.show()"
      ],
      "execution_count": null,
      "outputs": [
        {
          "output_type": "display_data",
          "data": {
            "image/png": "[encoded data removed]",
            "text/plain": [
              "<Figure size 432x288 with 1 Axes>"
            ]
          },
          "metadata": {
            "tags": [],
            "needs_background": "light"
          }
        }
      ]
    },
    {
      "cell_type": "markdown",
      "metadata": {
        "id": "IiOotzkO-N_w"
      },
      "source": [
        ""
      ]
    },
    {
      "cell_type": "code",
      "metadata": {
        "id": "8HexJeAxrx0s"
      },
      "source": [
        "def eta(z, Omega_M):\n",
        "  s = (1/Omega_M - 1)**(1/3)\n",
        "  a = 1+z\n",
        "  res = 2*np.sqrt(s**3+1)*(a**4-0.1540 * s * a**3+0.4304 * s**2* a**2+0.19097 * s**3 * a + 0.066941 * s**4)**(-1/8)\n",
        "  return res\n",
        "def LCDM(z, Omega_M, H0):\n",
        "  return (c.c/H0 * (1+z) * (eta(0, Omega_M) - eta(z, Omega_M))).to(u.Mpc)\n",
        "\n",
        "def SCDM(z, Omega_M, H0):\n",
        "  q0 = Omega_M/2\n",
        "  return (c.c/H0 * (1/q0**2) * (q0 * z + (q0 - 1)*(np.sqrt(1+2*q0*z) - 1))).to(u.Mpc)\n",
        "\n",
        "def deSitter(z, H0):\n",
        "  return (c.c/H0 * z * (1+z)).to(u.Mpc)"
      ],
      "execution_count": null,
      "outputs": []
    },
    {
      "cell_type": "code",
      "metadata": {
        "id": "tyZ0WwVNEdnD",
        "outputId": "99847c92-774f-4ca6-aceb-6d2115fc6c11",
        "colab": {
          "base_uri": "https://localhost:8080/",
          "height": 280
        }
      },
      "source": [
        "from astropy.modeling import models, fitting\n",
        "from astropy.coordinates import Distance\n",
        "\n",
        "tbl5['mu'] = tbl5['meff']-MB\n",
        "x = Distance(distmod = tbl5['mu']).to(u.Mpc).value\n",
        "y = (tbl5['z']*c.c).to(u.km/u.s).value\n",
        "\n",
        "# define a model for a line\n",
        "line_orig = models.Linear1D(slope=1.0, intercept=0.5)\n",
        "\n",
        "# initialize a linear fitter\n",
        "fit = fitting.LinearLSQFitter()\n",
        "\n",
        "# initialize a linear model\n",
        "line_init = models.Linear1D()\n",
        "\n",
        "# fit the data with the fitter weights=1/yerr for yerr\n",
        "threshold = 0.15*c.c.to(u.km/u.s).value\n",
        "fitted_line = fit(line_init, x[y > threshold],y[y> threshold])\n",
        "\n",
        "H0 = 50*u.km/u.s/u.Mpc\n",
        "Omega_M = 0.3\n",
        "z = np.linspace(0,1.1)\n",
        "D_LCDM = LCDM(z,Omega_M,H0)\n",
        "D_SCDM = SCDM(z,Omega_M,H0)\n",
        "\n",
        "\n",
        "# plot the model\n",
        "fig,ax = plt.subplots()\n",
        "ax.errorbar(x,y,fmt='o')\n",
        "ax.plot(x[y > threshold], fitted_line(x[y > threshold]), 'k-', label='Fitted Model')\n",
        "ax.plot(D_LCDM,(z*c.c).to(u.km/u.s),color='green',label='LCDM')\n",
        "ax.plot(D_SCDM,(z*c.c).to(u.km/u.s),color='orange',label='SCDM')\n",
        "\n",
        "\n",
        "plt.xlabel('d_L/Mpc')\n",
        "plt.ylabel('cz/ (km/s)')\n",
        "plt.axhline(0.15*c.c.to(u.km/u.s).value, color = \"r\")\n",
        "plt.grid()\n",
        "plt.legend()\n",
        "plt.show()"
      ],
      "execution_count": null,
      "outputs": [
        {
          "output_type": "display_data",
          "data": {
            "image/png": "[encoded data removed]",
            "text/plain": [
              "<Figure size 432x288 with 1 Axes>"
            ]
          },
          "metadata": {
            "tags": [],
            "needs_background": "light"
          }
        }
      ]
    },
    {
      "cell_type": "code",
      "metadata": {
        "id": "CkWmkR1fEn8d"
      },
      "source": [
        "(1 +/- x)^{1/2} ~ (1 +/- x/2) für x << 1\n",
        "für 2*q0*z << 1 anwenden\n",
        "und d_L darüber nähern\n",
        "-> d_L ~ c/H0 *z\n"
      ],
      "execution_count": null,
      "outputs": []
    },
    {
      "cell_type": "markdown",
      "metadata": {
        "id": "eJiE9qbCEqfU"
      },
      "source": [
        ""
      ]
    },
    {
      "cell_type": "code",
      "metadata": {
        "id": "8yBDH7IYBoCD",
        "outputId": "c633f836-be12-43ca-fc11-bebbe1219493",
        "colab": {
          "base_uri": "https://localhost:8080/",
          "height": 501
        }
      },
      "source": [
        "z = np.linspace(0.01, 5.0, 100)\n",
        "plt.figure(figsize = (8, 8))\n",
        "plt.errorbar(x, tbl5['z'],fmt='o')\n",
        "plt.plot(LCDM(z, 0.3, H0),z, label = \"LCDM\")\n",
        "plt.plot(SCDM(z, 1, H0),z, label = \"SCDM\")\n",
        "plt.plot(deSitter(z, H0),z, label = \"deSitter\")\n",
        "plt.grid()\n",
        "plt.ylabel(\"z\")\n",
        "plt.xlabel(\"d_L [Mpc]\")\n",
        "plt.xscale(\"log\")\n",
        "plt.yscale(\"log\")\n",
        "plt.legend()\n",
        "plt.show()"
      ],
      "execution_count": null,
      "outputs": [
        {
          "output_type": "display_data",
          "data": {
            "image/png": "[encoded data removed]",
            "text/plain": [
              "<Figure size 576x576 with 1 Axes>"
            ]
          },
          "metadata": {
            "tags": [],
            "needs_background": "light"
          }
        }
      ]
    },
    {
      "cell_type": "markdown",
      "metadata": {
        "id": "KJJhiCQ6KfZ2"
      },
      "source": [
        "## Lab–Tasks V: From the plot for the Fundamental Plane of Cosmology\n",
        "\n",
        "give the positions and discuss the following models:\n",
        "1. A flat model with $Ω_k = 0$.\n",
        "2. The transition from decelerated to accelerated models, i.e. $q_0 = 0$.\n",
        "    $$q_0 = \\Omega_M/2 - \\Omega_\\Lambda = 0$$\n",
        "3. Constrains from the Supernova projects.\n",
        "4. Constrains from mass/luminosity observations in galaxy clusters.\n",
        "5. Constrains from observations of the Cosmic Microwave Background (CMB)\n",
        "from the Cosmic Background Explorer (COBE) and the Balloon Observations Of Millimetric Extragalactic Radiation and Geophysics (BOOMERang).\n",
        "6. Constrains from observations of the CMB from the Wilkinson Microwave\n",
        "Anisotropy Probe (WMAP).\n",
        "7. Constrains from observations of the CMB from Planck Space Observatory.\n",
        "8. How would you determine lines of constant ages on this plane?"
      ]
    },
    {
      "cell_type": "markdown",
      "metadata": {
        "id": "vKTFGOHqpg-H"
      },
      "source": [
        "![FundmPlane](https://www.researchgate.net/profile/Juan_Garcia-Bellido/publication/1805222/figure/fig18/AS:394729960296457@1471122364576/The-OM-OL-plane-with-the-present-data-set-of-cosmological-observations-the.png)"
      ]
    },
    {
      "cell_type": "markdown",
      "metadata": {
        "id": "OYE5hB22Pngw"
      },
      "source": [
        "![age](https://upload.wikimedia.org/wikipedia/commons/thumb/b/b9/Age_Universe_Planck_2013.png/800px-Age_Universe_Planck_2013.png)\n",
        "\n"
      ]
    },
    {
      "cell_type": "code",
      "metadata": {
        "id": "IwaOQj5KO3ZR",
        "outputId": "d9886753-423f-4cc3-dd67-640818115d30",
        "colab": {
          "base_uri": "https://localhost:8080/",
          "height": 37
        }
      },
      "source": [
        "H0 = 70 * u.km/u.s/u.Mpc\n",
        "(1/H0).to(u.Gyr)*0.667"
      ],
      "execution_count": null,
      "outputs": [
        {
          "output_type": "execute_result",
          "data": {
            "text/latex": "$9.316963 \\; \\mathrm{Gyr}$",
            "text/plain": [
              "<Quantity 9.31696303 Gyr>"
            ]
          },
          "metadata": {
            "tags": []
          },
          "execution_count": 36
        }
      ]
    }
  ]
}