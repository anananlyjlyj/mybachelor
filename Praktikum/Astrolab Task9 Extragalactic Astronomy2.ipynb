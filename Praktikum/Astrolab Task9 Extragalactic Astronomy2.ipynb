{
 "cells": [
  {
   "cell_type": "markdown",
   "metadata": {},
   "source": [
    "# Task 9. EXTRAGALACTIC ASTRONOMY"
   ]
  },
  {
   "cell_type": "markdown",
   "metadata": {},
   "source": [
    "## 1 Classification of galaxies in the Virgo cluster."
   ]
  },
  {
   "cell_type": "code",
   "execution_count": null,
   "metadata": {},
   "outputs": [],
   "source": [
    "from astropy.io import ascii\n",
    "from astropy.coordinates import SkyCoord\n",
    "import astropy.units as u\n",
    "import astropy.constants as c\n",
    "import numpy as np\n",
    "import matplotlib.pyplot as plt\n",
    "from astropy.visualization import simple_norm\n",
    "from astropy.wcs import WCS"
   ]
  },
  {
   "cell_type": "code",
   "execution_count": null,
   "metadata": {},
   "outputs": [],
   "source": [
    "def create_RGB(r,g,b,stretch='linear',weights=None,percentile=95):\n",
    "    '''combie three arrays to one RGB image\n",
    "    \n",
    "    Parameters\n",
    "    ----------\n",
    "    r : ndarray\n",
    "        (n,m) array that is used for the red channel\n",
    "        \n",
    "    g : ndarray\n",
    "        (n,m) array that is used for the green channel\n",
    "        \n",
    "    b : ndarray\n",
    "        (n,m) array that is used for the blue channel\n",
    "    \n",
    "    percentile : float\n",
    "        percentile that is used for the normalization\n",
    "        \n",
    "    Returns\n",
    "    -------\n",
    "    rgb : ndarray\n",
    "        (n,m,3) array that is normalized to 1\n",
    "    '''\n",
    "\n",
    "    if not r.shape == g.shape == b.shape:\n",
    "        raise ValueError('input arrays must have the dimensions')\n",
    "    \n",
    "    # create an empty array with the correct size\n",
    "    rgb = np.empty((*r.shape,3))\n",
    "    \n",
    "    if type(percentile)==float or type(percentile)==int:\n",
    "        percentile = 3*[percentile]\n",
    "\n",
    "    # assign the input arrays to the 3 channels and normalize them to 1\n",
    "    rgb[...,0] = r / np.nanpercentile(r,percentile[0])\n",
    "    rgb[...,1] = g / np.nanpercentile(g,percentile[1])\n",
    "    rgb[...,2] = b / np.nanpercentile(b,percentile[2])\n",
    "\n",
    "    if weights:\n",
    "        rgb[...,0] *= weights[0]\n",
    "        rgb[...,1] *= weights[1]\n",
    "        rgb[...,2] *= weights[2]\n",
    "\n",
    "    #rgb /= np.nanpercentile(rgb,percentile)\n",
    "    \n",
    "    # clip values (we use percentile for the normalization) and fill nan\n",
    "    rgb = np.clip(np.nan_to_num(rgb,nan=1),a_min=0,a_max=1)\n",
    "    \n",
    "    return rgb"
   ]
  },
  {
   "cell_type": "code",
   "execution_count": null,
   "metadata": {},
   "outputs": [],
   "source": [
    "link = 'https://www.lsw.uni-heidelberg.de/users/jheidt/praktikum/Astrolab_SS2020/Task9/Galaxies_Virgo.txt'\n",
    "\n",
    "tbl = ascii.read(link,delimiter='\\s',data_start=1,names=['ID','RA','Dec'])\n",
    "tbl['SkyCoord'] = SkyCoord(tbl['RA']*u.degree,tbl['Dec']*u.degree)\n",
    "tbl['RaDec'] = tbl['SkyCoord'].to_string(style='hmsdms',precision=2)"
   ]
  },
  {
   "cell_type": "code",
   "execution_count": null,
   "metadata": {},
   "outputs": [],
   "source": [
    "from astroquery.skyview import SkyView\n",
    "from astroquery.ned import Ned"
   ]
  },
  {
   "cell_type": "code",
   "execution_count": null,
   "metadata": {},
   "outputs": [],
   "source": [
    "ID = 49\n",
    "row = tbl[tbl['ID']==ID][0]"
   ]
  },
  {
   "cell_type": "code",
   "execution_count": null,
   "metadata": {},
   "outputs": [],
   "source": [
    "img = SkyView.get_images(row['SkyCoord'],survey=['SDSSi','SDSSr','SDSSg'],height=4*u.arcmin,width=4*u.arcmin)"
   ]
  },
  {
   "cell_type": "code",
   "execution_count": null,
   "metadata": {},
   "outputs": [],
   "source": [
    "r = img[0][0].data\n",
    "g = img[1][0].data\n",
    "b = img[2][0].data\n",
    "\n",
    "rgb=create_RGB(r,g,b,percentile=[99.,99.,99.5],weights=[0.9,0.9,0.85])\n",
    "\n",
    "fig = plt.figure(figsize=(8,8))\n",
    "ax  = fig.add_subplot(projection=WCS(img[0][0].header))\n",
    "ax.imshow(rgb)\n",
    "print(f'Nr. {ID}, {row[\"RaDec\"]}')\n",
    "\n",
    "plt.show()"
   ]
  },
  {
   "cell_type": "code",
   "execution_count": null,
   "metadata": {},
   "outputs": [],
   "source": [
    "result_table = Ned.query_region(row['SkyCoord'], radius=15 * u.arcsec)"
   ]
  },
  {
   "cell_type": "code",
   "execution_count": null,
   "metadata": {},
   "outputs": [],
   "source": [
    "gal_types = ['E0','E3','E7','S0','Sa','Sb','Sc','SBa','SBb','SBc','Irr']\n",
    "\n",
    "virgo = ascii.read('class.txt',delimiter=';')\n",
    "virgo['SkyCoord'] = SkyCoord(virgo['Ra']*u.degree,virgo['Dec']*u.degree)\n",
    "virgo['RaDec'] = virgo['SkyCoord'].to_string(style='hmsdms',precision=2)\n",
    "\n",
    "local_group = np.array([2,0,0,0,4,2,0,0,2,0,27])# / (1-0.69)\n",
    "field_gal   = np.array([10,0,0,8,7,17,30,3,6,2,3])# / (1-0.1)"
   ]
  },
  {
   "cell_type": "code",
   "execution_count": null,
   "metadata": {},
   "outputs": [],
   "source": [
    "hist = np.array([np.sum(virgo['class']==c) for c in gal_types])\n",
    "\n",
    "fig, ax = plt.subplots()\n",
    "\n",
    "ax.bar(np.arange(len(hist)),100*hist/len(virgo),width=0.3,label='virgo')\n",
    "ax.bar(np.arange(len(hist))+0.33,field_gal,width=0.3,label='Field galaxies')\n",
    "ax.bar(np.arange(len(hist))-0.33,local_group,width=0.3,label='local group')\n",
    "ax.set_xticks(np.arange(len(hist)))\n",
    "ax.set_xticklabels(gal_types)\n",
    "ax.set(xlabel='class',ylabel='percentage')\n",
    "plt.legend()\n",
    "plt.show()"
   ]
  },
  {
   "cell_type": "code",
   "execution_count": null,
   "metadata": {
    "scrolled": true
   },
   "outputs": [],
   "source": [
    "virgo_center = SkyCoord(187.73961*u.degree,11.46850*u.degree)\n",
    "\n",
    "def calc_ratios(tbl):\n",
    "    E   = np.sum((tbl['class'] == 'E0') | (tbl['class'] == 'E3') | (tbl['class'] == 'E7'))\n",
    "    S0  = np.sum(tbl['class']=='S0')\n",
    "    S   = np.sum((tbl['class'] == 'Sa') | (tbl['class'] == 'Sb') | (tbl['class'] == 'Sc'))\n",
    "    SB  = np.sum((tbl['class'] == 'SBa') | (tbl['class'] == 'SBb') | (tbl['class'] == 'SBc'))\n",
    "    Irr = np.sum(tbl['class']=='Irr')\n",
    "\n",
    "    print(f'(E+S0)/(S+SB+Irr) = {(E+S0)/(S+SB+Irr):.2f}\\nSB/S = {SB/S:.2f}')\n",
    "    \n",
    "print(f'full sample ({len(virgo)} galaxies)')\n",
    "calc_ratios(virgo)\n",
    "\n",
    "sub_sample = virgo[virgo['SkyCoord'].separation(virgo_center).__lt__(75*u.arcmin)]\n",
    "print(f\"\\nwithin 75' of center ({len(sub_sample)} galaxies)\")\n",
    "calc_ratios(sub_sample)\n",
    "\n",
    "sub_sample = virgo[virgo['SkyCoord'].separation(virgo_center).__gt__(75*u.arcmin)]\n",
    "print(f\"\\noutside 75' of center ({len(sub_sample)} galaxies)\")\n",
    "calc_ratios(sub_sample)"
   ]
  },
  {
   "cell_type": "code",
   "execution_count": null,
   "metadata": {},
   "outputs": [],
   "source": [
    "d = 16.5*u.Mpc\n",
    "a = (75*u.arcmin).to(u.radian)\n",
    "(d*a/u.radian).to(u.kpc)"
   ]
  },
  {
   "cell_type": "code",
   "execution_count": null,
   "metadata": {},
   "outputs": [],
   "source": [
    "from astropy.coordinates import match_coordinates_sky\n",
    "\n",
    "wiki = ascii.read('virgo_wiki.txt',delimiter=';')\n",
    "wiki['Ra'] = [row['Ra'].replace(' ','h') for row in wiki]\n",
    "wiki['Dec'] = [float(row['Dec'].split(' ')[0])+(float(row['Dec'].split(' ')[1])/60) for row in wiki]\n",
    "wiki['SkyCoord'] = [SkyCoord(row['Ra'],row['Dec']*u.degree) for row in wiki]\n",
    "\n",
    "\n",
    "# match with wikipedia catalogue\n",
    "idx, sep, _ = match_coordinates_sky(wiki['SkyCoord'],virgo['SkyCoord'])\n",
    "\n",
    "wiki['class'] = virgo[idx]['class']\n",
    "wiki['ID'] = virgo[idx]['ID']\n",
    "wiki['RaDec'] = virgo[idx]['RaDec']\n",
    "\n",
    "wiki['sep'] = sep\n",
    "\n",
    "wiki[sep.__lt__(30*u.arcmin)][['Name','ID','RaDec','type','class']]"
   ]
  },
  {
   "cell_type": "markdown",
   "metadata": {},
   "source": [
    "why do we see more galaxies with a large eccentricity?\n",
    "\n",
    "assume that all galaxies are round and that the inclination is sampled uniformaly.\n",
    "\n",
    "Because e = sin(i), this leads to more galaxies with large e\n"
   ]
  },
  {
   "cell_type": "code",
   "execution_count": null,
   "metadata": {},
   "outputs": [],
   "source": [
    "sin^2 i = 1 - cos^2 i"
   ]
  },
  {
   "cell_type": "code",
   "execution_count": null,
   "metadata": {},
   "outputs": [],
   "source": [
    "e = sqrt(1-b^2/a^2) = sqrt(1-cos^2 i) = sin i \n",
    "b = a cos i \n"
   ]
  },
  {
   "cell_type": "code",
   "execution_count": null,
   "metadata": {},
   "outputs": [],
   "source": [
    "inc = np.random.uniform(0,np.pi/2,100000)\n",
    "ec  = np.sin(inc)\n",
    "\n",
    "plt.hist(ec,bins=10)"
   ]
  },
  {
   "cell_type": "markdown",
   "metadata": {},
   "source": [
    "![hubble](https://upload.wikimedia.org/wikipedia/commons/thumb/0/0d/Hubble_ultra_deep_field_high_rez_edit1.jpg/1280px-Hubble_ultra_deep_field_high_rez_edit1.jpg)"
   ]
  },
  {
   "cell_type": "markdown",
   "metadata": {},
   "source": [
    "## 2 The Galaxy Zoo\n",
    "\n",
    "1. Using a Web browser go to the SDSS home page (www.sdss.org) and get\n",
    "familiar with it. What is the meaning of SDSS I and SDSS II? How was\n",
    "the photometry done in the SDSS I? Which filter set was used for the\n",
    "photometry?\n",
    "2. Go now to the Galaxy Zoo Project (https://www.galaxyzoo.org), then\n",
    "read about the science to be undertaken “learn more”.\n",
    "Go back, and\n",
    "continue with “get started”, go through the tutorial and then start right\n",
    "away with your classification.\n",
    "In order to actively take part and your\n",
    "results being saved, you need to log-in (or sign-in) with the UID: jheidt\n",
    "and PW: try2deep before. Enjoy yourself by classifying 20-30 galaxies\n",
    "3. Finally, logout\n",
    "\n",
    "\n",
    "https://speclite.readthedocs.io/en/latest/filters.html\n",
    "    \n",
    "https://iopscience.iop.org/article/10.1088/0004-6256/139/4/1628/pdf"
   ]
  },
  {
   "cell_type": "markdown",
   "metadata": {},
   "source": [
    "## 3 Quasars and cosmology\n",
    "\n",
    "1. What is the 3C catalogue? When were the quasars discovered?\n",
    "    *  [Third Cambridge Catalogue of Radio Sources](https://en.wikipedia.org/wiki/Third_Cambridge_Catalogue_of_Radio_Sources) was publisehd 1959 (updates 3CR 1962, 3CRR 1983)\n",
    "    \n",
    "2. Compare the positions of the Balmer lines of 3C 273 with the positions of the laboratory spectrum. Determine the plate scale with the laboratory spectrum and then the redshift z of the Balmer lines of 3C 273 (Figure 1) How large is the Doppler velocity?"
   ]
  },
  {
   "cell_type": "code",
   "execution_count": null,
   "metadata": {},
   "outputs": [],
   "source": [
    "Hb = 486 * u.nm\n",
    "Hc = 434 * u.nm\n",
    "Hd = 410 * u.nm\n",
    "\n",
    "dHb_cm = 3.9*u.cm\n",
    "dHbHd_cm = 4.4*u.cm\n",
    "\n",
    "dHb = dHb_cm / dHbHd_cm * (Hb-Hd)\n",
    "\n",
    "z = dHb/Hb\n",
    "v = z*c.c\n",
    "\n",
    "print(f'z={z:.3f}, v={v:.2f}')"
   ]
  },
  {
   "cell_type": "markdown",
   "metadata": {},
   "source": [
    "3. What is the Hubble law? Determine the distance of 3C 273 from the Hubble law. Determine the length of the jet of 3C 273 on the B–band image in Figure 2 with the reference stars given in Table 3. What is the physical length of this jet? What is the physical dimension of the underlying galaxy (assume the black part of the 3C 273 image to be the host galaxy)?"
   ]
  },
  {
   "cell_type": "code",
   "execution_count": null,
   "metadata": {},
   "outputs": [],
   "source": [
    "H0 = 70 * u.km / u.s / u.Mpc\n",
    "D = (v / H0).to(u.Mpc)\n",
    "print(f'D={D:.2f}')"
   ]
  },
  {
   "cell_type": "code",
   "execution_count": null,
   "metadata": {},
   "outputs": [],
   "source": [
    "quasar = SkyCoord('12h26m33.25s','2d19m43.3s')\n",
    "starG  = SkyCoord('12h26m29.77s','2d19m53.3s')\n",
    "starX  = SkyCoord('12h26m34.41s','2d20m10.5s')\n",
    "starB  = SkyCoord('12h26m29.40s','2d18m51.1s')\n",
    "\n",
    "img = SkyView.get_images(quasar,survey=['SDSSu'],height=4*u.arcmin,width=4*u.arcmin)\n",
    "\n",
    "wcs = WCS(img[0][0].header)\n",
    "\n",
    "\n",
    "fig = plt.figure(figsize=(8,8))\n",
    "ax  = fig.add_subplot(projection=wcs)\n",
    "norm = simple_norm(img[0][0].data,max_percent=95)\n",
    "ax.imshow(0*img[0][0].data,norm=norm,cmap=plt.cm.gray)\n",
    "for point,name in zip([quasar,starG,starX,starB],['quasar','starG','starX','starB']):\n",
    "    x,y = point.to_pixel(wcs)\n",
    "    ax.scatter(x,y,marker='*',color='yellow',s=200)\n",
    "    ax.text(x+8,y+8,name,color='tab:red')\n",
    "    \n",
    "plt.show()"
   ]
  },
  {
   "cell_type": "code",
   "execution_count": null,
   "metadata": {},
   "outputs": [],
   "source": [
    "dBX_cm = 8.7*u.cm\n",
    "dq_cm  = 1.8*u.cm\n",
    "dg_cm  = 1.4*u.cm\n",
    "\n",
    "dBX = starB.separation(starX).to(u.radian) * D / u.radian\n",
    "\n",
    "dq = dq_cm / dBX_cm * dBX\n",
    "dg = dg_cm / dBX_cm * dBX\n",
    "\n",
    "print(f'd_quasar = {dq.to(u.kpc):.2f}\\nd_galaxy = {dg.to(u.kpc):.2f}')"
   ]
  },
  {
   "cell_type": "markdown",
   "metadata": {},
   "source": [
    "4. Quasars were proven up to a redshifts of z > 6. Is the Hubble law also correct for quasars with a redshifts of Z = 4? Which relation applies between angular diameter and physical diameter of 30 kpc (spiral galaxy) at a redshift of z = 2 on optical images? What is the apparent magnitude of such a galaxy (use the absolute magnitude of the Milky Way as example)?\n",
    "    * the linear Hubble relation is not valid for z>0.1\n",
    "        $$ d(z) = \\frac{c}{H_0} \\frac{2}{\\Omega^2} \\left( \\Omega z + (\\Omega -2 ) \\left( \\sqrt{1+\\Omega z}-1 \\right) \\right) $$\n",
    "    * The relation between physical diameter $D$ and angular diameter $\\Theta$ of an object is\n",
    "        $$ \\Theta= (1+z)^2 \\frac{D}{d(z)} $$"
   ]
  },
  {
   "cell_type": "code",
   "execution_count": null,
   "metadata": {},
   "outputs": [],
   "source": [
    "from astropy.coordinates import Distance\n",
    "\n",
    "H0 = 73 * u.km / u.s / u.Mpc\n",
    "Omega = 0.24\n",
    "z = 2 \n",
    "d = lambda z: (c.c/H0 * 2/Omega**2 * (Omega*z+(Omega-2)*(np.sqrt(1+Omega*z)-1))).to(u.Gpc)\n",
    "\n",
    "Theta  = ((1+z)**2 * (30*u.kpc)/d(z)*u.radian).to(u.arcmin)\n",
    "Theta2 = ((30*u.kpc)/d(z)*u.radian).to(u.arcmin)\n",
    "print(f'Theta={Theta:.2f} (without correction: {Theta2:.2f})')\n",
    "\n",
    "# luminosity distance?\n",
    "DM = Distance(d(z)).distmod\n",
    "MV_MW = -20.9*u.mag\n",
    "mV_MW = MV_MW + DM\n",
    "\n",
    "print(f'distance={d(z):.2f}, mV={mV_MW:.2f}')"
   ]
  },
  {
   "cell_type": "markdown",
   "metadata": {},
   "source": [
    "5. Determine the absolute magnitude of 3C 273 from the distance and the apparent magnitude. How this compare to the absolute magnitude of a Schechter luminosity function–galaxy? Compare your result with the absolute magnitude of optically selected quasars in Figure 3.\n",
    "    * they are between -20 and -28. 3C 273 is right in the middle"
   ]
  },
  {
   "cell_type": "code",
   "execution_count": null,
   "metadata": {},
   "outputs": [],
   "source": [
    "z  = 0.139\n",
    "DM = Distance(d(z)).distmod\n",
    "\n",
    "mV_q = 12.9*u.mag\n",
    "MV_q = mV_q - DM\n",
    "print(f'MV_quasar={MV_q:.2f}')"
   ]
  },
  {
   "cell_type": "markdown",
   "metadata": {},
   "source": [
    "6. Determine the maximal dimension of the emission line region responsible for the fastest variations in the 3C 273 light curve in Figure 4."
   ]
  },
  {
   "cell_type": "code",
   "execution_count": null,
   "metadata": {},
   "outputs": [],
   "source": [
    "tmax = 1*u.yr\n",
    "rmax = tmax*c.c\n",
    "print(f'rmax={rmax.to(u.pc):.2f}')"
   ]
  },
  {
   "cell_type": "markdown",
   "metadata": {},
   "source": [
    "7. Compare the distribution of the continuum energy of 3C 273 with the Milky Way and IR–galaxy spectra in Figure 5. What is the UV bump of a quasar? Discussion: Why do we graph λFλ vs log(λ) instead of Fλ vs log(λ).\n",
    "    * IR and MW are similar but IR is shifted to longer wavelenghts.\n",
    "    * UV bump (Lyman-break): UV radiation is energetic enough to ionize hydrogen (which is re-emitted in Lyman lines).\n",
    "    * photons with smaller wavelenghts have higher energys. By multiplying with $\\nu$ we plot the total energy"
   ]
  },
  {
   "cell_type": "markdown",
   "metadata": {},
   "source": [
    "8. What is VLBI? VLBI maps of 3C 273 in Figure 6 show knots of emission, which move away from the core over the years. Determine the angular velocity in milliarcseconds per year (mas yr−1) from the VLBI map and convert the result in absolute expansion velocity v⊥ and then interpret your result. When was the superluminal motion phenomenon discovered for the first time?\n",
    "    * Very-long-baseline interferometry\n",
    "    * 1983"
   ]
  },
  {
   "cell_type": "code",
   "execution_count": null,
   "metadata": {},
   "outputs": [],
   "source": [
    "z = 0.139\n",
    "#Delta = np.array([9,13,15])*u.mm\n",
    "Delta = np.array([43,47,51])*u.mm\n",
    "#Delta = np.array([28,31,33])*u.mm\n",
    "\n",
    "time = np.array([1984.12,1984.93,1985.6])*u.yr\n",
    "scale = 2*u.mas / (17*u.mm)\n",
    "\n",
    "ang_vel = scale*(Delta[-1]-Delta[0]) / (time[-1]-time[0]) \n",
    "exp_vel = (d(z) / (1+z) * ang_vel.to(u.radian/u.yr) / u.radian / c.c).decompose()\n",
    "print(f'v_ang = {ang_vel:.2f}\\nv_exp = {exp_vel:.2f} c')"
   ]
  },
  {
   "cell_type": "code",
   "execution_count": null,
   "metadata": {},
   "outputs": [],
   "source": [
    "i = np.linspace(0,np.pi/2)\n",
    "for beta in [0.5,0.7,0.9]:\n",
    "    plt.plot(180*i/np.pi,beta*np.sin(i)/(1-beta*np.cos(i)),label=f'beta={beta}')\n",
    "plt.axhline(1,color='black')\n",
    "plt.xlabel('i / degree')\n",
    "plt.ylabel('v/c')\n",
    "plt.legend()\n",
    "plt.show()"
   ]
  }
 ],
 "metadata": {
  "kernelspec": {
   "display_name": "Python 3",
   "language": "python",
   "name": "python3"
  },
  "language_info": {
   "codemirror_mode": {
    "name": "ipython",
    "version": 3
   },
   "file_extension": ".py",
   "mimetype": "text/x-python",
   "name": "python",
   "nbconvert_exporter": "python",
   "pygments_lexer": "ipython3",
   "version": "3.7.9"
  }
 },
 "nbformat": 4,
 "nbformat_minor": 4
}
