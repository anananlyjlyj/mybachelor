{
 "cells": [
  {
   "cell_type": "code",
   "execution_count": 4,
   "metadata": {
    "collapsed": true
   },
   "outputs": [],
   "source": [
    "import numpy as np\n",
    "import matplotlib.pyplot as plt\n",
    "from IPython.display import display, Math, Latex\n",
    "from IPython.display import IFrame\n",
    "import math as m"
   ]
  },
  {
   "cell_type": "code",
   "execution_count": 5,
   "metadata": {
    "hideCode": false,
    "hidePrompt": false
   },
   "outputs": [
    {
     "name": "stdout",
     "output_type": "stream",
     "text": [
      "Radius: 8.5\tangle: 90.0\trel. velocity: 8.0\tvelocity: 228.0\t error:2.0\n",
      "Radius: 8.495\tangle: 88.0\trel. velocity: 10.0\tvelocity: 229.866\t error:2.0\n",
      "Radius: 8.479\tangle: 86.0\trel. velocity: 12.0\tvelocity: 231.464\t error:3.0\n",
      "Radius: 8.453\tangle: 84.0\trel. velocity: 12.0\tvelocity: 230.795\t error:3.0\n",
      "Radius: 8.417\tangle: 82.0\trel. velocity: 13.0\tvelocity: 230.859\t error:2.0\n",
      "Radius: 8.371\tangle: 80.0\trel. velocity: 15.0\tvelocity: 231.658\t error:4.0\n",
      "Radius: 8.314\tangle: 78.0\trel. velocity: 10.0\tvelocity: 225.192\t error:2.0\n",
      "Radius: 8.248\tangle: 76.0\trel. velocity: 11.0\tvelocity: 224.465\t error:2.0\n",
      "Radius: 8.171\tangle: 74.0\trel. velocity: 10.0\tvelocity: 221.478\t error:3.0\n",
      "Radius: 8.084\tangle: 72.0\trel. velocity: 14.0\tvelocity: 223.232\t error:4.0\n",
      "Radius: 7.987\tangle: 70.0\trel. velocity: 13.0\tvelocity: 219.732\t error:4.0\n",
      "Radius: 7.881\tangle: 68.0\trel. velocity: 16.0\tvelocity: 219.98\t error:3.0\n",
      "Radius: 7.765\tangle: 66.0\trel. velocity: 23.0\tvelocity: 223.98\t error:4.0\n",
      "Radius: 7.64\tangle: 64.0\trel. velocity: 25.0\tvelocity: 222.735\t error:4.0\n",
      "Radius: 7.505\tangle: 62.0\trel. velocity: 30.0\tvelocity: 224.248\t error:4.0\n",
      "Radius: 7.361\tangle: 60.0\trel. velocity: 32.0\tvelocity: 222.526\t error:5.0\n",
      "Radius: 7.286\tangle: 59.0\trel. velocity: 37.0\tvelocity: 225.577\t error:4.0\n",
      "Radius: 7.208\tangle: 58.0\trel. velocity: 39.0\tvelocity: 225.571\t error:4.0\n",
      "Radius: 7.129\tangle: 57.0\trel. velocity: 41.0\tvelocity: 225.508\t error:5.0\n",
      "Radius: 7.047\tangle: 56.0\trel. velocity: 42.0\tvelocity: 224.388\t error:5.0\n",
      "Radius: 6.963\tangle: 55.0\trel. velocity: 43.0\tvelocity: 223.213\t error:5.0\n",
      "Radius: 6.877\tangle: 54.0\trel. velocity: 48.0\tvelocity: 225.984\t error:5.0\n",
      "Radius: 6.788\tangle: 53.0\trel. velocity: 48.0\tvelocity: 223.7\t error:6.0\n",
      "Radius: 6.698\tangle: 52.0\trel. velocity: 52.0\tvelocity: 225.362\t error:8.0\n",
      "Radius: 6.606\tangle: 51.0\trel. velocity: 56.0\tvelocity: 226.972\t error:6.0\n",
      "Radius: 6.511\tangle: 50.0\trel. velocity: 57.0\tvelocity: 225.53\t error:6.0\n",
      "Radius: 6.415\tangle: 49.0\trel. velocity: 60.0\tvelocity: 226.036\t error:8.0\n",
      "Radius: 6.317\tangle: 48.0\trel. velocity: 64.0\tvelocity: 227.492\t error:5.0\n",
      "Radius: 6.217\tangle: 47.0\trel. velocity: 65.0\tvelocity: 225.898\t error:5.0\n",
      "Radius: 6.114\tangle: 46.0\trel. velocity: 67.0\tvelocity: 225.255\t error:6.0\n",
      "Radius: 6.01\tangle: 45.0\trel. velocity: 66.0\tvelocity: 221.563\t error:5.0\n",
      "Radius: 5.905\tangle: 44.0\trel. velocity: 68.0\tvelocity: 220.825\t error:5.0\n",
      "Radius: 5.797\tangle: 43.0\trel. velocity: 67.0\tvelocity: 217.04\t error:8.0\n",
      "Radius: 5.688\tangle: 42.0\trel. velocity: 68.0\tvelocity: 215.209\t error:6.0\n",
      "Radius: 5.577\tangle: 41.0\trel. velocity: 69.0\tvelocity: 213.333\t error:6.0\n",
      "Radius: 5.464\tangle: 40.0\trel. velocity: 74.0\tvelocity: 215.413\t error:8.0\n",
      "Radius: 5.349\tangle: 39.0\trel. velocity: 84.0\tvelocity: 222.45\t error:5.0\n",
      "Radius: 5.233\tangle: 38.0\trel. velocity: 85.0\tvelocity: 220.446\t error:5.0\n",
      "Radius: 5.115\tangle: 37.0\trel. velocity: 86.0\tvelocity: 218.399\t error:6.0\n",
      "Radius: 4.996\tangle: 36.0\trel. velocity: 90.0\tvelocity: 219.313\t error:7.0\n",
      "Radius: 4.875\tangle: 35.0\trel. velocity: 97.0\tvelocity: 223.187\t error:6.0\n",
      "Radius: 4.753\tangle: 34.0\trel. velocity: 98.0\tvelocity: 221.022\t error:7.0\n",
      "Radius: 4.629\tangle: 33.0\trel. velocity: 102.0\tvelocity: 221.821\t error:6.0\n",
      "Radius: 4.504\tangle: 32.0\trel. velocity: 103.0\tvelocity: 219.582\t error:7.0\n",
      "Radius: 4.378\tangle: 31.0\trel. velocity: 108.0\tvelocity: 221.308\t error:8.0\n",
      "Radius: 4.25\tangle: 30.0\trel. velocity: 108.0\tvelocity: 218.0\t error:8.0\n",
      "Radius: 4.121\tangle: 29.0\trel. velocity: 104.0\tvelocity: 210.658\t error:8.0\n",
      "Radius: 3.991\tangle: 28.0\trel. velocity: 98.0\tvelocity: 201.284\t error:9.0\n",
      "Radius: 3.859\tangle: 27.0\trel. velocity: 104.0\tvelocity: 203.878\t error:9.0\n",
      "Radius: 3.726\tangle: 26.0\trel. velocity: 105.0\tvelocity: 201.442\t error:9.0\n",
      "Radius: 3.592\tangle: 25.0\trel. velocity: 106.0\tvelocity: 198.976\t error:9.0\n",
      "Radius: 3.457\tangle: 24.0\trel. velocity: 107.0\tvelocity: 196.482\t error:9.0\n",
      "Radius: 3.321\tangle: 23.0\trel. velocity: 108.0\tvelocity: 193.961\t error:9.0\n",
      "Radius: 3.184\tangle: 22.0\trel. velocity: 116.0\tvelocity: 198.413\t error:10.0\n",
      "Radius: 3.046\tangle: 21.0\trel. velocity: 122.0\tvelocity: 200.841\t error:7.0\n",
      "Radius: 2.907\tangle: 20.0\trel. velocity: 124.0\tvelocity: 199.244\t error:7.0\n",
      "Radius: 2.767\tangle: 19.0\trel. velocity: 126.0\tvelocity: 197.625\t error:5.0\n",
      "Radius: 2.627\tangle: 18.0\trel. velocity: 131.0\tvelocity: 198.984\t error:5.0\n",
      "Radius: 2.485\tangle: 17.0\trel. velocity: 134.0\tvelocity: 198.322\t error:5.0\n"
     ]
    }
   ],
   "source": [
    "def calc_v_R(angle, delta_v_r, v_g = 220):\n",
    "    return v_g*m.sin(m.radians(angle)) + delta_v_r\n",
    "\n",
    "def calc_Radius(angle, R_g = 8.5):\n",
    "    return R_g * m.sin(m.radians(angle))\n",
    "\n",
    "\n",
    "DATA = np.genfromtxt('Experiment_8.txt', skip_header = 1, unpack = True)\n",
    "\n",
    "v_g = 220 # [km/s]\n",
    "R_g = 8.5 # [kpc]\n",
    "v_R = []\n",
    "R = []\n",
    "l = []\n",
    "rel_v_R = []\n",
    "error = []\n",
    "\n",
    "for i in range(len(DATA[0])):\n",
    "    angle = round(DATA[0][i], 3)\n",
    "    delta_v_R = round(DATA[1][i], 3)\n",
    "    rel_v_R.append(delta_v_R)\n",
    "    v_R.append(round(calc_v_R(angle, delta_v_R, v_g),3))\n",
    "    R.append(round(calc_Radius(angle, R_g), 3))\n",
    "    l.append(angle)\n",
    "    error.append(round(DATA[2][i], 3))\n",
    "    print('Radius: {}\\tangle: {}\\trel. velocity: {}\\tvelocity: {}\\t error:{}'.format(R[i], l[i], rel_v_R[i], v_R[i], error[i]))\n",
    "    "
   ]
  },
  {
   "cell_type": "code",
   "execution_count": 6,
   "metadata": {},
   "outputs": [
    {
     "data": {
      "image/png": "[encoded data removed]",
      "text/plain": [
       "<matplotlib.figure.Figure at 0x227bed345c0>"
      ]
     },
     "metadata": {},
     "output_type": "display_data"
    }
   ],
   "source": [
    "plt.figure(figsize=(8,6))\n",
    "plt.errorbar(R, v_R, xerr = 0, yerr = error)\n",
    "\n",
    "plt.title(\"Rotation Curve\", fontsize = 20)\n",
    "plt.xlabel(\"radius [kpc]\")\n",
    "plt.ylabel(\"radial velocity [km/s]\")\n",
    "#plt.xlim(0.0036,0.0063)\n",
    "plt.ylim(100,250)\n",
    "plt.show()"
   ]
  },
  {
   "cell_type": "code",
   "execution_count": 47,
   "metadata": {},
   "outputs": [
    {
     "name": "stdout",
     "output_type": "stream",
     "text": [
      "237.36828466306466 Myr\n",
      "5.270272587517435e-15 1 / s\n",
      "95654013822.33669 solMass\n"
     ]
    }
   ],
   "source": [
    "from astropy import units as u\n",
    "from astropy import constants as const\n",
    "# Umlaufzeit der Sonne um Galaxiezentrum\n",
    "t = (2*np.pi*8.5*u.kpc/(v_g * u.km / u.s))\n",
    "print(t.to(u.Myr))\n",
    "# Winkelgeschwindigkeit der Sonne\n",
    "w = 2*np.pi*v_g*u.km/u.s / (R_g*u.kpc)\n",
    "print(w.decompose())\n",
    "mass = (4 * np.pi**2 * (R_g*u.kpc)**3) / (const.G * t**2)\n",
    "print(mass.to(u.solMass))"
   ]
  }
 ],
 "metadata": {
  "celltoolbar": "Hide code",
  "kernelspec": {
   "display_name": "Python 3",
   "language": "python",
   "name": "python3"
  },
  "language_info": {
   "codemirror_mode": {
    "name": "ipython",
    "version": 3
   },
   "file_extension": ".py",
   "mimetype": "text/x-python",
   "name": "python",
   "nbconvert_exporter": "python",
   "pygments_lexer": "ipython3",
   "version": "3.6.3"
  }
 },
 "nbformat": 4,
 "nbformat_minor": 2
}
