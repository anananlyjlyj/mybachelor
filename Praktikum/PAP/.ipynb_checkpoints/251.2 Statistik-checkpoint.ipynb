{
 "cells": [
  {
   "cell_type": "code",
   "execution_count": 3,
   "metadata": {},
   "outputs": [],
   "source": [
    "import numpy as np\n",
    "import matplotlib.pyplot as plt\n",
    "from scipy.optimize import curve_fit"
   ]
  },
  {
   "cell_type": "code",
   "execution_count": 12,
   "metadata": {
    "collapsed": true
   },
   "outputs": [],
   "source": [
    "anzahl,hauf=np.loadtxt('data32.dat',unpack=True)\n",
    "fehler=np.sqrt(hauf)\n",
    "def gaussian(x,A,mu,sig):\n",
    "    return A/(np.sqrt(2*np.pi)*sig)*np.exp(-(x-mu)**2/2/sig**2)\n",
    "popt,pcov=curve_fit(gaussian,anzahl[:-1],hauf[:-1],p0=[6916,2.1,2.1],sigma=fehler[:-1])"
   ]
  },
  {
   "cell_type": "code",
   "execution_count": 14,
   "metadata": {},
   "outputs": [],
   "source": [
    "from scipy.special import gamma\n",
    "def poisson(x,A_p,mu_p):\n",
    "    return A_p*np.exp(-mu_p)*mu_p**x/gamma(x+1)\n",
    "popt_p,pcov_p=curve_fit(poisson, anzahl[:-1],hauf[:-1],p0=[6916,2.1],sigma=fehler[:-1])"
   ]
  },
  {
   "cell_type": "code",
   "execution_count": 23,
   "metadata": {},
   "outputs": [
    {
     "name": "stdout",
     "output_type": "stream",
     "text": [
      "Gaussfit:\n",
      "A= 6752.79404047 , Standardabweichung= 343.687494285\n",
      "mu= 4.49296768248 , Standardabweichung= 0.106947453839\n",
      "sig= 2.03755501505 , Standardabweichung= 0.0839930196441\n",
      "Poissonfit:\n",
      "A_p= 6889.32605642 , Standardabweichung= 120.204250448\n",
      "mu_p= 4.56209855993 , Standardabweichung= 0.0367572700294\n",
      "chi2_g= 208.159420598\n",
      "chi2_red_g= 17.3466183831\n",
      "chi2_p= 27.262713261\n",
      "chi2_red_p= 2.09713178931\n",
      "Wahrscheinlichkeit Gauss= 0.0 %\n",
      "Wahrscheinlichkeit Poisson= 1.0 %\n"
     ]
    }
   ],
   "source": [
    "plt.errorbar(anzahl[:-1], hauf[:-1], fehler[:-1], fmt='.',label='Messung')\n",
    "x=np.linspace(0,14,100)\n",
    "plt.plot(x,gaussian(x,*popt),label='Gaussian')\n",
    "plt.plot(x,poisson(x,*popt_p),label='Poisson',linestyle=':')\n",
    "plt.xlabel('Anzahl der Zerfaelle pro Zeiteinheit \\ 1/s')\n",
    "plt.ylabel('Haeufigkeit')\n",
    "plt.legend(loc='best')\n",
    "plt.yscale('log')\n",
    "plt.ylim((0,2000))\n",
    "plt.xlim((0,15))\n",
    "plt.title('Statistik des radioaktiven Zerfalls')\n",
    "#plt.show()\n",
    "plt.savefig('YC3.pdf',format='pdf',dpi=1000)\n",
    "print('Gaussfit:')\n",
    "print(\"A=\",popt[0],\", Standardabweichung=\",np.sqrt(pcov[0][0]))\n",
    "print(\"mu=\",popt[1],\", Standardabweichung=\",np.sqrt(pcov[1][1]))\n",
    "print(\"sig=\",popt[2],\", Standardabweichung=\",np.sqrt(pcov[2][2]))\n",
    "print(\"Poissonfit:\")\n",
    "print(\"A_p=\",popt_p[0],\", Standardabweichung=\",np.sqrt(pcov_p[0][0]))\n",
    "print(\"mu_p=\",popt_p[1],\", Standardabweichung=\",np.sqrt(pcov_p[1][1]))\n",
    "#Gauss\n",
    "chi2_g=np.sum((gaussian(anzahl[:-1],*popt)-hauf[:-1])**2/fehler[:-1]**2)\n",
    "dof_g=len(anzahl[:-1])-3\n",
    "chi2_red_g=chi2_g/dof_g\n",
    "print(\"chi2_g=\",chi2_g)\n",
    "print(\"chi2_red_g=\",chi2_red_g)\n",
    "#Poisson\n",
    "chi2_p=np.sum((poisson(anzahl[:-1],*popt_p)-hauf[:-1])**2/fehler[:-1]**2)\n",
    "dof_p=len(anzahl[:-1])-2\n",
    "chi2_red_p=chi2_p/dof_p\n",
    "print(\"chi2_p=\",chi2_p)\n",
    "print(\"chi2_red_p=\",chi2_red_p)\n",
    "from scipy.stats import chi2\n",
    "#Gauss\n",
    "prob_g=round(1-chi2.cdf(chi2_g,dof_g),2)*100\n",
    "print(\"Wahrscheinlichkeit Gauss=\",prob_g,\"%\")\n",
    "#Poisson\n",
    "prob_p=round(1-chi2.cdf(chi2_p,dof_p),2)*100\n",
    "print(\"Wahrscheinlichkeit Poisson=\",prob_p,\"%\")"
   ]
  }
 ],
 "metadata": {
  "kernelspec": {
   "display_name": "Python 3",
   "language": "python",
   "name": "python3"
  },
  "language_info": {
   "codemirror_mode": {
    "name": "ipython",
    "version": 3
   },
   "file_extension": ".py",
   "mimetype": "text/x-python",
   "name": "python",
   "nbconvert_exporter": "python",
   "pygments_lexer": "ipython3",
   "version": "3.6.3"
  }
 },
 "nbformat": 4,
 "nbformat_minor": 1
}
