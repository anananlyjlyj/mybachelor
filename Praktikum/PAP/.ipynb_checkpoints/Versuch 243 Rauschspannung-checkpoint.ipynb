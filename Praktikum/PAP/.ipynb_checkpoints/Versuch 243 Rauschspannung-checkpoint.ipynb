{
 "cells": [
  {
   "cell_type": "code",
   "execution_count": 22,
   "metadata": {
    "collapsed": true
   },
   "outputs": [],
   "source": [
    "import matplotlib.pyplot as plt\n",
    "import numpy as np\n",
    "import math\n",
    "\n",
    "f, U_aus = np.loadtxt('Verstaerker.txt', skiprows=1, usecols=(0,1), unpack =True)\n",
    "D=1e-3     # Abschwächung\n",
    "U_ein=0.21\n",
    "g=U_aus/(U_ein*D)"
   ]
  },
  {
   "cell_type": "code",
   "execution_count": 29,
   "metadata": {},
   "outputs": [
    {
     "name": "stdout",
     "output_type": "stream",
     "text": [
      "Verstärkung: 1.034e+03\n",
      "1sigma-Fehler der Verstärkung:1.0\n"
     ]
    }
   ],
   "source": [
    "from scipy.optimize import curve_fit\n",
    "def fit_func(f, V, W1, W2, n1, n2):\n",
    "    return V/(np.sqrt(1+1/(f/W1)**(2*n1))*np.sqrt(1+(f/W2)**(2*n2)))\n",
    "p0=[1000,1000,50000,5,5]\n",
    "popt,pcov=curve_fit(fit_func,f,g,p0)\n",
    "print('Verstärkung: {v:.3e}'.format(v=popt[0]))\n",
    "\n",
    "print('1sigma-Fehler der Verstärkung:{value:.2}'.format(value=math.sqrt(pcov[0,0])))"
   ]
  },
  {
   "cell_type": "code",
   "execution_count": 30,
   "metadata": {
    "collapsed": true
   },
   "outputs": [],
   "source": [
    "plt.loglog(f, g, linestyle='None', marker='.', label='Messdaten')\n",
    "plt.loglog(f, fit_func(f, *popt), label='Fit')\n",
    "plt.axis([3E2, 1.5e5,10,1.5E3])\n",
    "plt.xlabel('Frequenz/Hz')\n",
    "plt.ylabel('g(f)')\n",
    "plt.title('Frequenzgang')\n",
    "plt.legend(loc='best')\n",
    "plt.savefig(\"243FrequenzgangFit.pdf\",format=\"pdf\",dpi=1000.)"
   ]
  },
  {
   "cell_type": "code",
   "execution_count": 31,
   "metadata": {},
   "outputs": [
    {
     "name": "stdout",
     "output_type": "stream",
     "text": [
      "Das Integral betraegt:4.9747e+10\n"
     ]
    }
   ],
   "source": [
    "import scipy.integrate as integrate\n",
    "def fit_func_square(f,V,W1,W2,n1,n2):\n",
    "    return fit_func(f,V,W1,W2,n1,n2)**2\n",
    "B=integrate.quad(fit_func_square,f[1],f[-1],args=tuple(popt))\n",
    "print('Das Integral betraegt:{value:.4e}'.format(value=B[0]))"
   ]
  },
  {
   "cell_type": "code",
   "execution_count": 34,
   "metadata": {
    "collapsed": true
   },
   "outputs": [],
   "source": [
    "# Messung der Rauschspannung als Funktion des ohmschen Widerstands\n",
    "R = np.array([5e3,10e3,15e3,20e3,25e3,30e3])                           # Widerstände\n",
    "fehler_R = R*0.005                                                     # Fehler der Widerstände 0.5%\n",
    "U_aus = np.array([2.4071,3.1391,3.7273,4.2472,4.7139,5.1318])          # Ausgangspannung\n",
    "fehler_U_aus = np.array([0.0011,0.0011,0.0014,0.0018,0.0018,0.0020])   # statistische Fehler\n",
    "fehler_U_aus = np.sqrt((0.003*U_aus)**2 + fehler_U_aus**2)             # Zusammen mit die Messgenauigkeit des Voltmeters 0.3%\n",
    "U_V=1.3919                                                             # Verstärkerrauschen\n",
    "fehler_U_V=math.sqrt(0.00083**2+(U_V*0.003)**2)                        # Wie bei Ausgangspannung\n",
    "D=U_aus**2-U_V**2                                                      # Rauschspannung des Widerstands\n",
    "fehler_D=np.sqrt([(2*fehler_U_aus[i]*U_aus[i])**2 + (2*fehler_U_V*U_V)**2 for i in range(0,6)])"
   ]
  },
  {
   "cell_type": "code",
   "execution_count": 35,
   "metadata": {
    "collapsed": true
   },
   "outputs": [],
   "source": [
    "# Fit\n",
    "def linear(x,c):\n",
    "    return c*x\n",
    "p02=[0.00081]\n",
    "popt2,pcov2=curve_fit(linear,R,D,p02)"
   ]
  },
  {
   "cell_type": "code",
   "execution_count": 63,
   "metadata": {},
   "outputs": [
    {
     "name": "stdout",
     "output_type": "stream",
     "text": [
      "chisquare = 37.76\n",
      "chisquare_red = 7.55\n",
      "Fitwahrscheinlichkeit = 0.0%\n"
     ]
    }
   ],
   "source": [
    "# Rechne k nach Gleichung (9)\n",
    "c = popt2[0]\n",
    "fehler_c = math.sqrt(pcov2[0])\n",
    "T = 297.05                                        # T = 23.9°C\n",
    "fehler_T = 0.1\n",
    "k = c*1e-6 / (4*T*B[0])                           # Einheit von c muss von mV^2/ohm zu V^2/ohm umwandelt werden\n",
    "syst_k = k * math.sqrt((fehler_T/T)**2 + 0.02**2) # systematische Fehler wegen Fehler von T und B, Fehler von B beträgt 2%\n",
    "stat_k = k * (fehler_c/c)                         # statistische Fehler wegen Integralrechnung\n",
    "\n",
    "plt.clf()\n",
    "plt.errorbar(R,D,xerr=fehler_R,yerr=fehler_D,fmt=',',label='Messdaten')\n",
    "plt.axis([0,32e3,0,25])\n",
    "plt.plot(R, linear(R, *popt2), label='Fit')\n",
    "plt.xlabel('Widerstand/ $\\Omega$')\n",
    "plt.ylabel('$(U_{aus}^2-U_V^2)$ / $mV^2$')\n",
    "plt.title('Rauschspannung als Funktion von Widerstand')\n",
    "plt.legend(loc='best')\n",
    "plt.text(500, 19.5, 'Steigung: c = {v:.4e}'.format(v=popt2[0])+' $mV^2$/$\\Omega$')   # Fehler von c sehr klein ~1e-11\n",
    "plt.text(500, 2, 'k = (%.3f'%(k*1e23) + '$\\pm$' +'%.3f'%(stat_k*1e23) + ' stat. $\\pm$' + '%.3f'%(syst_k*1e23) + ' syst.) x$10^{-23}$ J/K')\n",
    "plt.savefig(\"243Rauschspannung_Widerstand.pdf\",format=\"pdf\",dpi=1000.)\n",
    "\n",
    "# überprüfe die Qualität des Anpassens\n",
    "chisquare=np.sum(((linear(R,c)-D)**2/fehler_D**2))\n",
    "dof=5                                             # 6 Widerstände, degree of freedem = 6 - 1\n",
    "chisquare_red=chisquare/dof\n",
    "print('chisquare = {value:.4}'.format(value=chisquare))\n",
    "print('chisquare_red = {value:.3}'.format(value=chisquare_red))\n",
    "# rechne die Wahrscheinlichkeit, dass wir bei einer Wiedelholungmessung ein chisquare-Wert erhalten, die >= diese Wert ist\n",
    "from scipy.stats import chi2\n",
    "prob=round(1-chi2.cdf(chisquare,dof),2)*100\n",
    "print(\"Fitwahrscheinlichkeit = \"+str(prob)+\"%\")   "
   ]
  },
  {
   "cell_type": "code",
   "execution_count": 65,
   "metadata": {},
   "outputs": [
    {
     "name": "stdout",
     "output_type": "stream",
     "text": [
      "die Steigung von Fit a) betraegt: c' = 2.6804e-12\n",
      "Fehler der Steigung : 1.9e-15\n",
      "Da der relative Fehler von c' sehr klein ist, für die Fehlerrechnung der Boltzmannkonstante benutzen wir nur den Fehler von B\n",
      "k = (1.347 ± 0.027) ×10^(-23) J/K\n",
      "\n",
      "die Steigung von Fit b) betraegt: 2.673e-12\n",
      "Fehler der Steigung : 1.6e-14\n",
      "der absolute Nullpunkt betraegt: -b/c = -1.1065\n",
      "Fehler der absolute Nullpunkt:  0.0067\n"
     ]
    }
   ],
   "source": [
    "# Temperaturabhängigkeit\n",
    "temp1 = np.array([51.3,102.9,153.3,205])\n",
    "temp2 = np.array([51.4,103.1,153.5,205.1])\n",
    "temp = np.array([(temp1[i] + temp2[i]) / 2 + 273.15  for i in range(0, 4)])\n",
    "fehler_temp = np.array([max(abs(temp[i] -273.15 - temp1[i]), abs(temp[i] - 273.15 - temp2[i])) for i in range(0,4)])\n",
    "Rvor = np.array([4.7967, 5.584, 6.343, 7.1073])     # in tausendOhm\n",
    "Rnach = np.array([4.7979,5.588,6.3452, 7.109])\n",
    "R2 = (Rvor + Rnach) / 2\n",
    "fehler_R2 = np.array([max(abs(R2[i] - Rvor[i]), abs(R2[i] - Rnach[i])) for i in range(0,4)])\n",
    "mu = np.array([2.4711,2.7536,3.0316,3.3226])\n",
    "fehler_mu = np.array([0.001,0.001,0.0012,0.0012])\n",
    "fehler_mu = np.sqrt((0.003*mu)**2 + fehler_mu**2) \n",
    "y = np.array([(mu[i]**2 - U_V**2)*1e-9 / R2[i] for i in range(0, 4)])\n",
    "fehler_y = np.array([y[i] * math.sqrt((2*fehler_mu[i]/mu[i])**2 + (2*fehler_U_V/U_V)**2 + (fehler_R2[i]/R2[i])**2) for i in range(0, 4)])\n",
    "\n",
    "# Fit a), Steigung als freie Parameter\n",
    "p03=[1e-12]\n",
    "popt3,pcov3=curve_fit(linear,temp,y,p03)\n",
    "c = popt3[0]\n",
    "fehler_c = math.sqrt(pcov3[0])\n",
    "k = c / (4 * B[0])\n",
    "print('die Steigung von Fit a) betraegt: c\\' = {v:.4e}'.format(v = c) )\n",
    "print('Fehler der Steigung : {v:.1e}'.format(v = fehler_c))\n",
    "print('Da der relative Fehler von c\\' sehr klein ist, für die Fehlerrechnung der Boltzmannkonstante benutzen wir nur den Fehler von B')\n",
    "fehler_k = k * 0.02\n",
    "print('k = ({v:.4}'.format(v = k*1e23), '±', '{v:.2})'.format(v =fehler_k*1e23), '×10^(-23) J/K')\n",
    "\n",
    "# Fit b), Steigung und Temperaturnullpunkt als freie Parameter\n",
    "def lin(x, c, b):\n",
    "    return c*x + b\n",
    "p04=[1e-12, 0]\n",
    "popt4,pcov4=curve_fit(lin,temp,y,p04)\n",
    "print('')\n",
    "print('die Steigung von Fit b) betraegt: {v:.3e}'.format(v = popt4[0]))\n",
    "print('Fehler der Steigung : {v:.1e}'.format(v = math.sqrt(pcov4[0][0])))\n",
    "# absolute Nullpunkt\n",
    "NullP = -popt4[1]/popt4[0]\n",
    "fehler_NullP = -NullP * math.sqrt(pcov4[0][0]/popt4[0]**2)               # Fehler von den Abschnittpunkt mit y-Achse zu klein\n",
    "print('der absolute Nullpunkt betraegt: -b/c = {v:.5}'.format(v = NullP))\n",
    "print('Fehler der absolute Nullpunkt:  {v:.2}'.format(v = fehler_NullP))\n",
    "\n",
    "plt.clf()\n",
    "plt.errorbar(temp, y, xerr = fehler_temp, yerr = fehler_y, fmt='.',label='Messdaten')\n",
    "x = np.linspace(0, 500, 500)\n",
    "plt.plot(x, linear(x,c), label='Fit a)')\n",
    "plt.plot(x, lin(x, popt4[0], popt4[1]), label='Fit b)')\n",
    "plt.axis([0,550,0, 1.4e-9])\n",
    "plt.xlabel('Temperatur  / K')\n",
    "plt.ylabel('$(U_{aus}^2-U_V^2)$ / R   /   $V^2 / \\Omega$')\n",
    "plt.legend(loc='best')\n",
    "plt.savefig(\"243Rauschspannung_Temperatur.pdf\",format=\"pdf\",dpi=1000.)"
   ]
  }
 ],
 "metadata": {
  "kernelspec": {
   "display_name": "Python 3",
   "language": "python",
   "name": "python3"
  },
  "language_info": {
   "codemirror_mode": {
    "name": "ipython",
    "version": 3
   },
   "file_extension": ".py",
   "mimetype": "text/x-python",
   "name": "python",
   "nbconvert_exporter": "python",
   "pygments_lexer": "ipython3",
   "version": "3.6.3"
  }
 },
 "nbformat": 4,
 "nbformat_minor": 2
}
