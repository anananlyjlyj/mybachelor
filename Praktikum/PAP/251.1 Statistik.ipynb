{
 "cells": [
  {
   "cell_type": "code",
   "execution_count": 6,
   "metadata": {},
   "outputs": [
    {
     "name": "stdout",
     "output_type": "stream",
     "text": [
      "[  4.44000000e-01   1.73914000e+03]\n",
      "[   0.70784932  365.40043405]\n"
     ]
    },
    {
     "data": {
      "image/png": "[encoded data removed]",
      "text/plain": [
       "<matplotlib.figure.Figure at 0x2661ba9d390>"
      ]
     },
     "metadata": {},
     "output_type": "display_data"
    }
   ],
   "source": [
    "import numpy as np\n",
    "import matplotlib.pyplot as plt\n",
    "\n",
    "U=np.array([440,465,490,515,540,565,590])\n",
    "dU=np.array([10,10,10,10,10,10,10]) #np.full()\n",
    "Z=np.array([956,1989,1941,1928,1932,2049,1924])\n",
    "dZ=np.sqrt(Z)\n",
    "\n",
    "plt.errorbar(U,Z,xerr=dU,yerr=dZ,fmt='.',label='Messung')\n",
    "plt.ylabel('Ereignisse')\n",
    "plt.xlabel('Spannung \\V')\n",
    "plt.title('Abb 1.1: Zaehlrohrcharakteristik')\n",
    "\n",
    "from scipy.optimize import curve_fit\n",
    "def linear(x,a,b):\n",
    "    return a*x+b\n",
    "\n",
    "popt,pcov=curve_fit(linear,U[1:-1],Z[1:-1])\n",
    "\n",
    "plt.plot(U,linear(U,*popt), label='Fit')\n",
    "plt.legend(loc='best')\n",
    "print(popt)\n",
    "print(np.sqrt(np.diagonal(pcov)))\n",
    "plt.show()\n",
    "#plt.savefig('YC.jpg', format='jpg',dpi=1000)"
   ]
  },
  {
   "cell_type": "code",
   "execution_count": null,
   "metadata": {
    "collapsed": true
   },
   "outputs": [],
   "source": [
    "anzahl,hauf=np.loadtxt('data31.txt',unpack=True)\n",
    "fehler=np.sqrt(hauf)\n",
    "\n",
    "#plt.errorbar(anzahl, hauf, fehler, fmt='.')\n",
    "#plt.xlabel('Anzahl der Zerfaelle pro Zeiteinheit \\ 1/s')\n",
    "#plt.ylabel('Haeufigkeit')\n",
    "#plt.title('Statistik des radioaktiven Zerfalls')\n",
    "def gaussian(x,A,mu,sig):\n",
    "    return A/(np.sqrt(2*np.pi)*sig)*np.exp(-(x-mu)**2/2/sig**2)\n",
    "popt,pcov=curve_fit(gaussian,anzahl[21:-9],hauf[21:-9],p0=[2361,71,8.6],sigma=fehler[21:-9])\n",
    "from scipy.special import gamma\n",
    "def poisson(x,A_p,mu_p):\n",
    "    return A_p*np.exp(-mu_p)*mu_p**x/gamma(x+1)\n",
    "popt_p,pcov_p=curve_fit(poisson, anzahl[21:-9],hauf[21:-9],p0=[2361,71],sigma=fehler[21:-9])\n",
    "plt.errorbar(anzahl, hauf, fehler, fmt='.',label='Messung')\n",
    "x=np.linspace(40,110,100)\n",
    "plt.plot(x,gaussian(x,*popt),label='Gaussian')\n",
    "plt.plot(x,poisson(x,*popt_p),label='Poisson',linestyle=':')\n",
    "plt.xlabel('Anzahl der Zerfaelle pro Zeiteinheit \\ 1/s')\n",
    "plt.ylabel('Haeufigkeit')\n",
    "plt.legend(loc='best')\n",
    "plt.title('Statistik des radioaktiven Zerfalls')\n",
    "#plt.show()\n",
    "plt.savefig('YC2.pdf',format='pdf',dpi=1000)\n",
    "print('Gaussfit:')\n",
    "print(\"A=\",popt[0],\", Standardabweichung=\",np.sqrt(pcov[0][0]))\n",
    "print(\"mu=\",popt[1],\", Standardabweichung=\",np.sqrt(pcov[1][1]))\n",
    "print(\"sig=\",popt[2],\", Standardabweichung=\",np.sqrt(pcov[2][2]))\n",
    "print(\"Poissonfit:\")\n",
    "print(\"A_p=\",popt_p[0],\", Standardabweichung=\",np.sqrt(pcov_p[0][0]))\n",
    "print(\"mu_p=\",popt_p[1],\", Standardabweichung=\",np.sqrt(pcov_p[1][1]))\n",
    "#Gauss\n",
    "chi2_g=np.sum((gaussian(anzahl[21:-9],*popt)-hauf[21:-9])**2/fehler[21:-9]**2)\n",
    "dof_g=len(anzahl[21:-9])-3\n",
    "chi2_red_g=chi2_g/dof_g\n",
    "print(\"chi2_g=\",chi2_g)\n",
    "print(\"chi2_red_g=\",chi2_red_g)\n",
    "#Poisson\n",
    "chi2_p=np.sum((poisson(anzahl[21:-9],*popt_p)-hauf[21:-9])**2/fehler[21:-9]**2)\n",
    "dof_p=len(anzahl[21:-9])-2\n",
    "chi2_red_p=chi2_p/dof_p\n",
    "print(\"chi2_p=\",chi2_p)\n",
    "print(\"chi2_red_p=\",chi2_red_p)\n",
    "from scipy.stats import chi2\n",
    "#Gauss\n",
    "prob_g=round(1-chi2.cdf(chi2_g,dof_g),2)*100\n",
    "print(\"Wahrscheinlichkeit Gauss=\",prob_g,\"%\")\n",
    "#Poisson\n",
    "prob_p=round(1-chi2.cdf(chi2_p,dof_p),2)*100\n",
    "print(\"Wahrscheinlichkeit Poisson=\",prob_p,\"%\")"
   ]
  }
 ],
 "metadata": {
  "kernelspec": {
   "display_name": "Python 3",
   "language": "python",
   "name": "python3"
  },
  "language_info": {
   "codemirror_mode": {
    "name": "ipython",
    "version": 3
   },
   "file_extension": ".py",
   "mimetype": "text/x-python",
   "name": "python",
   "nbconvert_exporter": "python",
   "pygments_lexer": "ipython3",
   "version": "3.6.3"
  }
 },
 "nbformat": 4,
 "nbformat_minor": 1
}
