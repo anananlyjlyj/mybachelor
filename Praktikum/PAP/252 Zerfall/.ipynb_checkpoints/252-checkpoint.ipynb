{
 "cells": [
  {
   "cell_type": "code",
   "execution_count": 27,
   "metadata": {},
   "outputs": [
    {
     "name": "stdout",
     "output_type": "stream",
     "text": [
      "Mittelwert: 17.3 Fehler: 1.2\n",
      "A1= 295.0 , Standardfehler= 23.0\n",
      "l1= 0.031 , Standardfehler= 0.004\n",
      "A2= 65.0 , Standardfehler= 16.0\n",
      "l2= 0.0046 , Standardfehler= 0.001\n",
      "chi2= 48.0\n",
      "chi2_red= 1.34\n",
      "Wahrscheinlichkeit erster Fit= 8.0 %\n"
     ]
    },
    {
     "data": {
      "image/png": "[encoded data removed]",
      "text/plain": [
       "<matplotlib.figure.Figure at 0x806f048>"
      ]
     },
     "metadata": {},
     "output_type": "display_data"
    }
   ],
   "source": [
    "%matplotlib inline\n",
    "import matplotlib.pyplot as plt\n",
    "import numpy as np\n",
    "\n",
    "#Silberzerfall\n",
    "\n",
    "unterg = np.loadtxt('UntergrundCY.dat', usecols = [1])\n",
    "#mittelw_unterg = np.mean(3*unterg)\n",
    "#fehler_unterg = np.std(3*unterg) / np.sqrt(len(unterg))\n",
    "mittelw_unterg = np.mean(4*unterg)\n",
    "fehler_unterg = np.std(4*unterg) / np.sqrt(len(unterg))\n",
    "print(\"Mittelwert:\" , round(mittelw_unterg,1), \"Fehler:\" , round(fehler_unterg,1))\n",
    "\n",
    "n1 = np.loadtxt('Silber1.dat' , usecols = [1])\n",
    "n2 = np.loadtxt('Silber2.dat' , usecols = [1])\n",
    "n3 = np.loadtxt('Silber3.dat' , usecols = [1])\n",
    "n4 = np.loadtxt('Silber4.dat' , usecols = [1])\n",
    "n5 = np.zeros(40)\n",
    "j=0\n",
    "for i in range (0, 400):    \n",
    "    if (i % 10 == 0 and i != 0):       \n",
    "        j += 1\n",
    "    n5[j] += n4[i]               \n",
    "\n",
    "N = n2[:40] + n3[:40]  + n1[:40]  + n5[:40]\n",
    "Fehler_N = np.sqrt(N)\n",
    "\n",
    "t= np.arange(5, 405, 10)\n",
    "plt.errorbar(t, N, yerr=Fehler_N, linestyle = 'None')\n",
    "plt.xlabel(\"Zeit / s\")\n",
    "plt.ylabel(\"Zerfaelle\")\n",
    "plt.title(\"Zerfaelle von Silber mit Untergrund\")\n",
    "plt.yscale(\"log\")\n",
    "\n",
    "y0 = mittelw_unterg #Untergrund\n",
    "def fit_func(x, A1, l1, A2, l2):\n",
    "    return A1*np.exp(-x*l1) + A2*np.exp(-x*l2) + y0\n",
    "\n",
    "from scipy.optimize import curve_fit\n",
    "popt, pcov = curve_fit(fit_func, t, N, p0 = [295, 0.03, 65, 0.005], sigma = Fehler_N)\n",
    "\n",
    "plt.plot(t, fit_func(t, *popt), label='Untergrund')\n",
    "plt.savefig(\"Silber.pdf\", format = \"pdf\")\n",
    "\n",
    "print(\"A1=\", round(popt[0]), \", Standardfehler=\", round(np.sqrt(pcov[0][0])))\n",
    "print(\"l1=\", round(popt[1],3), \", Standardfehler=\", round(np.sqrt(pcov[1][1]),3))\n",
    "print(\"A2=\", round(popt[2]), \", Standardfehler=\", round(np.sqrt(pcov[2][2])))\n",
    "print(\"l2=\", round(popt[3],4), \", Standardfehler=\", round(np.sqrt(pcov[3][3]),4))\n",
    "\n",
    "l1 = popt[1]\n",
    "l2 = popt[3]\n",
    "\n",
    "l1_fehler = np.sqrt(pcov[1][1])\n",
    "l2_fehler = np.sqrt(pcov[3][3])\n",
    "\n",
    "chi2_ = np.sum((fit_func(t, *popt) - N)**2 / Fehler_N**2)\n",
    "dof = len(N) - 4 \n",
    "chi2_red = chi2_ / dof\n",
    "print(\"chi2=\", round(chi2_))\n",
    "print(\"chi2_red=\", round(chi2_red,2))\n",
    "\n",
    "from scipy.stats import chi2\n",
    "prob = round(1 - chi2.cdf(chi2_, dof), 2)*100\n",
    "print(\"Wahrscheinlichkeit erster Fit=\", prob, \"%\")"
   ]
  },
  {
   "cell_type": "code",
   "execution_count": 29,
   "metadata": {},
   "outputs": [
    {
     "name": "stdout",
     "output_type": "stream",
     "text": [
      "A1= 297.0 , Standardfehler= 22.0\n",
      "l1= 0.031 , Standardfehler= 0.004\n",
      "A2= 65.0 , Standardfehler= 15.0\n",
      "l2= 0.0043 , Standardfehler= 0.0009\n",
      "chi2= 48.0\n",
      "chi2_red= 1.34\n",
      "Wahrscheinlichkeit erster Fit= 8.0 %\n"
     ]
    },
    {
     "data": {
      "image/png": "[encoded data removed]",
      "text/plain": [
       "<matplotlib.figure.Figure at 0x80bae48>"
      ]
     },
     "metadata": {},
     "output_type": "display_data"
    }
   ],
   "source": [
    "y0 = mittelw_unterg #Untergrund\n",
    "def fit_func(x, A1, l1, A2, l2):\n",
    "    return A1*np.exp(-x*l1) + A2*np.exp(-x*l2) + y0 - fehler_unterg\n",
    "\n",
    "from scipy.optimize import curve_fit\n",
    "popt, pcov = curve_fit(fit_func, t, N, p0 = [295, 0.03, 65, 0.005], sigma = Fehler_N)\n",
    "\n",
    "plt.errorbar(t, N, yerr=Fehler_N, linestyle = 'None')\n",
    "plt.xlabel(\"Zeit / s\")\n",
    "plt.ylabel(\"Zerfaelle\")\n",
    "plt.title(\"Zerfaelle von Silber mit Untergrund\")\n",
    "plt.yscale(\"log\")\n",
    "plt.plot(t, fit_func(t, *popt), label='Untergrund')\n",
    "plt.savefig(\"Silber.pdf\", format = \"pdf\")\n",
    "\n",
    "print(\"A1=\", round(popt[0]), \", Standardfehler=\", round(np.sqrt(pcov[0][0])))\n",
    "print(\"l1=\", round(popt[1],3), \", Standardfehler=\", round(np.sqrt(pcov[1][1]),3))\n",
    "print(\"A2=\", round(popt[2]), \", Standardfehler=\", round(np.sqrt(pcov[2][2])))\n",
    "print(\"l2=\", round(popt[3],4), \", Standardfehler=\", round(np.sqrt(pcov[3][3]),4))\n",
    "\n",
    "l1 = popt[1]\n",
    "l2 = popt[3]\n",
    "\n",
    "l1_fehler = np.sqrt(pcov[1][1])\n",
    "l2_fehler = np.sqrt(pcov[3][3])\n",
    "\n",
    "chi2_ = np.sum((fit_func(t, *popt) - N)**2 / Fehler_N**2)\n",
    "dof = len(N) - 4 \n",
    "chi2_red = chi2_ / dof\n",
    "print(\"chi2=\", round(chi2_))\n",
    "print(\"chi2_red=\", round(chi2_red,2))\n",
    "\n",
    "from scipy.stats import chi2\n",
    "prob = round(1 - chi2.cdf(chi2_, dof), 2)*100\n",
    "print(\"Wahrscheinlichkeit erster Fit=\", prob, \"%\")"
   ]
  },
  {
   "cell_type": "code",
   "execution_count": 30,
   "metadata": {
    "scrolled": false
   },
   "outputs": [
    {
     "name": "stdout",
     "output_type": "stream",
     "text": [
      "A1= 294.0 , Standardfehler= 23.0\n",
      "l1= 0.032 , Standardfehler= 0.005\n",
      "A2= 66.0 , Standardfehler= 17.0\n",
      "l2= 0.0049 , Standardfehler= 0.0011\n",
      "chi2= 49.0\n",
      "chi2_red= 1.35\n",
      "Wahrscheinlichkeit erster Fit= 8.0 %\n"
     ]
    },
    {
     "data": {
      "image/png": "[encoded data removed]",
      "text/plain": [
       "<matplotlib.figure.Figure at 0x94e56a0>"
      ]
     },
     "metadata": {},
     "output_type": "display_data"
    }
   ],
   "source": [
    "y0 = mittelw_unterg #Untergrund\n",
    "def fit_func(x, A1, l1, A2, l2):\n",
    "    return A1*np.exp(-x*l1) + A2*np.exp(-x*l2) + y0 + fehler_unterg\n",
    "\n",
    "from scipy.optimize import curve_fit\n",
    "popt, pcov = curve_fit(fit_func, t, N, p0 = [295, 0.03, 65, 0.005], sigma = Fehler_N)\n",
    "\n",
    "plt.errorbar(t, N, yerr=Fehler_N, linestyle = 'None')\n",
    "plt.xlabel(\"Zeit / s\")\n",
    "plt.ylabel(\"Zerfaelle\")\n",
    "plt.title(\"Zerfaelle von Silber mit Untergrund\")\n",
    "plt.yscale(\"log\")\n",
    "plt.plot(t, fit_func(t, *popt), label='Untergrund')\n",
    "plt.savefig(\"Silber.pdf\", format = \"pdf\")\n",
    "\n",
    "print(\"A1=\", round(popt[0]), \", Standardfehler=\", round(np.sqrt(pcov[0][0])))\n",
    "print(\"l1=\", round(popt[1],3), \", Standardfehler=\", round(np.sqrt(pcov[1][1]),3))\n",
    "print(\"A2=\", round(popt[2]), \", Standardfehler=\", round(np.sqrt(pcov[2][2])))\n",
    "print(\"l2=\", round(popt[3],4), \", Standardfehler=\", round(np.sqrt(pcov[3][3]),4))\n",
    "\n",
    "l1 = popt[1]\n",
    "l2 = popt[3]\n",
    "\n",
    "l1_fehler = np.sqrt(pcov[1][1])\n",
    "l2_fehler = np.sqrt(pcov[3][3])\n",
    "\n",
    "chi2_ = np.sum((fit_func(t, *popt) - N)**2 / Fehler_N**2)\n",
    "dof = len(N) - 4 \n",
    "chi2_red = chi2_ / dof\n",
    "print(\"chi2=\", round(chi2_))\n",
    "print(\"chi2_red=\", round(chi2_red,2))\n",
    "\n",
    "from scipy.stats import chi2\n",
    "prob = round(1 - chi2.cdf(chi2_, dof), 2)*100\n",
    "print(\"Wahrscheinlichkeit erster Fit=\", prob, \"%\")"
   ]
  },
  {
   "cell_type": "code",
   "execution_count": null,
   "metadata": {
    "collapsed": true
   },
   "outputs": [],
   "source": [
    "#Wiederholung des Fits mit neuen Parametern\n",
    "y0 = mittelw_unterg - fehler_unterg\n",
    "\n",
    "def fit_func(x, B1, m1, B2, m2):\n",
    "    return B1*np.exp(-x*m1) + B2*np.exp(-x*m2) + y0\n",
    "\n",
    "popt, pcov = curve_fit(fit_func, t, N, p0 = [500, 0.02, 50, 0.001], sigma = Fehler_N)\n",
    "plt.plot(t, fit_func(t, *popt), label='Untergrund-Fehler')\n",
    "\n",
    "m1 = popt[1]\n",
    "m2 = popt[3]\n",
    "\n",
    "print(\"m1=\", round(popt[1],3), \", Standardfehler=\", round(np.sqrt(pcov[1][1]),3))\n",
    "print(\"m2=\", round(popt[1],4), \", Standardfehler=\", round(np.sqrt(pcov[3][3]),4))\n",
    "\n",
    "chi2_ = np.sum((fit_func(t, *popt) - N)**2 / Fehler_N**2)\n",
    "dof = len(N) - 4 \n",
    "chi2_red = chi2_ / dof\n",
    "print(\"chi2=\", round(chi2_))\n",
    "print(\"chi2_red=\", round(chi2_red,2))\n",
    "\n",
    "prob = round(1 - chi2.cdf(chi2_, dof), 2)*100\n",
    "print(\"Wahrscheinlichkeit zweiter Fit=\", prob, \"%\")\n",
    "\n",
    "\n",
    "\n",
    "y0 = mittelw_unterg + fehler_unterg\n",
    "\n",
    "def fit_func(x, C1, n1, C2, n2):\n",
    "    return C1*np.exp(-x*n1) + C2*np.exp(-x*n2) + y0\n",
    "\n",
    "popt, pcov = curve_fit(fit_func, t, N, p0 = [500, 0.02, 50, 0.001], sigma = Fehler_N)\n",
    "plt.plot(t, fit_func(t, *popt), label='Untergrund+Fehler')\n",
    "\n",
    "n1 = popt[1]\n",
    "n2= popt[3]\n",
    "\n",
    "print(\"n1=\", round(popt[1],3), \", Standardfehler=\", round(np.sqrt(pcov[1][1]),3))\n",
    "print(\"n2=\", round(popt[1],4), \", Standardfehler=\", round(np.sqrt(pcov[3][3]),4))\n",
    "\n",
    "chi2_ = np.sum((fit_func(t, *popt) - N)**2 / Fehler_N**2)\n",
    "dof = len(N) - 4 \n",
    "chi2_red = chi2_ / dof\n",
    "print(\"chi2=\", round(chi2_))\n",
    "print(\"chi2_red=\", round(chi2_red,2))\n",
    "\n",
    "prob = round(1 - chi2.cdf(chi2_, dof), 2)*100\n",
    "print(\"Wahrscheinlichkeit dritter Fit=\", prob, \"%\")\n"
   ]
  },
  {
   "cell_type": "code",
   "execution_count": null,
   "metadata": {
    "collapsed": true
   },
   "outputs": [],
   "source": [
    "#Fehler der Zerfallskonstanten\n",
    "l1_fehler_final = np.sqrt(((abs(l1 - m1) + abs(l1 - n1)) / 2)**2 + l1_fehler**2)\n",
    "l2_fehler_final = np.sqrt(((abs(l2 - m2) + abs(l2 - n2)) / 2)**2 + l2_fehler**2)\n",
    "\n",
    "print(\"Fehler l1=\", round(l1_fehler_final,3))\n",
    "print(\"Fehler l2=\", round(l2_fehler_final,4))\n",
    "\n",
    "rel_fehler_l1 = l1_fehler_final / l1 * 100\n",
    "rel_fehler_l2 = l2_fehler_final / l2 * 100\n",
    "\n",
    "print(\"Relativer Fehler l1=\", round(rel_fehler_l1), \"%\")\n",
    "print(\"Relativer Fehler l2=\", round(rel_fehler_l2), \"%\")\n"
   ]
  },
  {
   "cell_type": "code",
   "execution_count": 22,
   "metadata": {},
   "outputs": [
    {
     "name": "stdout",
     "output_type": "stream",
     "text": [
      "Mittelwert: 52.5957446809 Fehler: 3.30050129593\n",
      "25\n",
      "A1= 633.209960997 , Standardfehler= 13.8795591607\n",
      "l1= 0.000199711487803 , Standardfehler= 1.42880019177e-05\n",
      "chi2= 36.8865097781\n",
      "chi2_red= 1.6037612947\n",
      "Wahrscheinlichkeit= 3.0 %\n"
     ]
    },
    {
     "data": {
      "image/png": "[encoded data removed]",
      "text/plain": [
       "<matplotlib.figure.Figure at 0x804b550>"
      ]
     },
     "metadata": {},
     "output_type": "display_data"
    }
   ],
   "source": [
    "%matplotlib inline\n",
    "import matplotlib.pyplot as plt\n",
    "import numpy as np\n",
    "\n",
    "#Indiumzerfall\n",
    "\n",
    "unterg = np.loadtxt('data/UntergrundAgAE.dat', usecols = [1])\n",
    "\n",
    "mittelw_unterg = 12*np.mean(unterg)\n",
    "fehler_unterg = 12*np.std(unterg) / np.sqrt(len(unterg))\n",
    "print(\"Mittelwert:\" , mittelw_unterg, \"Fehler:\" , fehler_unterg)\n",
    "\n",
    "n1 = np.loadtxt('data/IndiumAE.dat' , usecols = [1])\n",
    "N = n1[1:]\n",
    "print(len(N))\n",
    "\n",
    "Fehler_N = np.sqrt(N)\n",
    "\n",
    "t= np.arange(0, len(N)*120, 120)\n",
    "\n",
    "plt.errorbar(t, N, Fehler_N, linestyle = 'None')\n",
    "plt.xlabel(\"Zeit / s\")\n",
    "plt.ylabel(\"Zerfaelle\")\n",
    "plt.title(\"Zerfaelle von Indium mit Untergrund\")\n",
    "#plt.yscale(\"log\")\n",
    "\n",
    "\n",
    "y0 = mittelw_unterg #Untergrund\n",
    "def fit_func(x, A1, l1, ):\n",
    "    return A1*np.exp(-x*l1) + y0\n",
    "\n",
    "from scipy.optimize import curve_fit\n",
    "popt, pcov = curve_fit(fit_func, t, N, p0 = [800, 0.0002], sigma = Fehler_N)\n",
    "plt.plot(t, fit_func(t, *popt))\n",
    "plt.savefig(\"figures/Indium.pdf\", format = \"pdf\")\n",
    "\n",
    "print(\"A1=\", popt[0], \", Standardfehler=\", np.sqrt(pcov[0][0]))\n",
    "print(\"l1=\", popt[1], \", Standardfehler=\", np.sqrt(pcov[1][1]))\n",
    "\n",
    "l1_fehler = np.sqrt(pcov[1][1])\n",
    "\n",
    "chi2_ = np.sum((fit_func(t, *popt) - N)**2 / Fehler_N**2)\n",
    "dof = len(N) - 2 \n",
    "chi2_red = chi2_ / dof\n",
    "print(\"chi2=\", chi2_)\n",
    "print(\"chi2_red=\", chi2_red)\n",
    "\n",
    "from scipy.stats import chi2\n",
    "prob = round(1 - chi2.cdf(chi2_, dof), 2)*100\n",
    "print(\"Wahrscheinlichkeit=\", prob, \"%\")\n",
    "\n",
    "\n"
   ]
  },
  {
   "cell_type": "code",
   "execution_count": null,
   "metadata": {
    "collapsed": true
   },
   "outputs": [],
   "source": [
    "\n",
    "#Wiederholung des Fits mit neuen Parametern\n",
    "y0 = mittelw_unterg - fehler_unterg\n",
    "\n",
    "def fit_func(x, B1, m1):\n",
    "    return B1*np.exp(-x*m1) - y0\n",
    "popt, pcov = curve_fit(fit_func, t, N, p0 = [800,  0.0002], sigma = Fehler_N)\n",
    "\n",
    "\n",
    "y0 = mittelw_unterg + fehler_unterg\n",
    "\n",
    "def fit_func(x, C1, n1):\n",
    "    return C1*np.exp(-x*n1) + y0\n",
    "popt, pcov = curve_fit(fit_func, t, N, p0 = [800, 0.0002], sigma = Fehler_N)\n",
    "\n",
    "\n",
    "\n",
    "#Fehler der Zerfallskonstante\n",
    "l1_fehler_final = np.sqrt(((abs(l1 - m1) + abs(l1 - n1)) / 2)**2 + l1_fehler**2)\n",
    "\n",
    "\n",
    "\n"
   ]
  },
  {
   "cell_type": "code",
   "execution_count": null,
   "metadata": {
    "collapsed": true
   },
   "outputs": [],
   "source": []
  }
 ],
 "metadata": {
  "kernelspec": {
   "display_name": "Python 3",
   "language": "python",
   "name": "python3"
  },
  "language_info": {
   "codemirror_mode": {
    "name": "ipython",
    "version": 3
   },
   "file_extension": ".py",
   "mimetype": "text/x-python",
   "name": "python",
   "nbconvert_exporter": "python",
   "pygments_lexer": "ipython3",
   "version": "3.6.3"
  }
 },
 "nbformat": 4,
 "nbformat_minor": 2
}
