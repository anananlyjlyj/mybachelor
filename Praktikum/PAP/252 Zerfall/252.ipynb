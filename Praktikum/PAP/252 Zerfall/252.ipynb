{
 "cells": [
  {
   "cell_type": "code",
   "execution_count": 3,
   "metadata": {},
   "outputs": [
    {
     "name": "stdout",
     "output_type": "stream",
     "text": [
      "Mittelwert: 17.3 Fehler: 1.2\n",
      "A1= 295.0 , Standardfehler= 23.0\n",
      "l1= 0.0314 , Standardfehler= 0.0044\n",
      "A2= 65.0 , Standardfehler= 16.0\n",
      "l2= 0.00457 , Standardfehler= 0.00099\n",
      "chi2= 48.0\n",
      "chi2_red= 1.34\n",
      "Wahrscheinlichkeit erster Fit= 8.0 %\n"
     ]
    },
    {
     "data": {
      "image/png": "[encoded data removed]",
      "text/plain": [
       "<matplotlib.figure.Figure at 0x1dc9960c4a8>"
      ]
     },
     "metadata": {},
     "output_type": "display_data"
    }
   ],
   "source": [
    "%matplotlib inline\n",
    "import matplotlib.pyplot as plt\n",
    "import numpy as np\n",
    "import matplotlib.style as psy\n",
    "#Silberzerfall\n",
    "unterg = np.loadtxt('Untergrund.dat', usecols = [1])\n",
    "mittelw_unterg = np.mean(4*unterg)\n",
    "fehler_unterg = np.std(4*unterg) / np.sqrt(len(unterg))\n",
    "print(\"Mittelwert:\" , round(mittelw_unterg,1), \"Fehler:\" , round(fehler_unterg,1))\n",
    "\n",
    "n1 = np.loadtxt('Silber1.dat' , usecols = [1])\n",
    "n2 = np.loadtxt('Silber2.dat' , usecols = [1])\n",
    "n3 = np.loadtxt('Silber3.dat' , usecols = [1])\n",
    "n4 = np.loadtxt('Silber4.dat' , usecols = [1])\n",
    "n5 = np.zeros(40)\n",
    "j=0\n",
    "for i in range (0, 400):    \n",
    "    if (i % 10 == 0 and i != 0):       \n",
    "        j += 1\n",
    "    n5[j] += n4[i]               \n",
    "\n",
    "N = n2[:40] + n3[:40]  + n1[:40]  + n5[:40]\n",
    "Fehler_N = np.sqrt(N)\n",
    "\n",
    "t= np.arange(5, 405, 10)\n",
    "plt.errorbar(t, N, yerr=Fehler_N, linestyle = 'None')\n",
    "psy.use('classic')\n",
    "plt.xlabel(\"Zeit / s\")\n",
    "plt.ylabel(\"Zerfaelle\")\n",
    "plt.title(\"Zerfaelle von Silber mit Untergrund\")\n",
    "plt.yscale(\"log\")\n",
    "\n",
    "y0 = mittelw_unterg   # Untergrund      # +- fehler_unterg\n",
    "def fit_func(x, A1, l1, A2, l2):\n",
    "    return A1*np.exp(-x*l1) + A2*np.exp(-x*l2) + y0\n",
    "\n",
    "from scipy.optimize import curve_fit\n",
    "popt, pcov = curve_fit(fit_func, t, N, p0 = [295, 0.03, 65, 0.005], sigma = Fehler_N)\n",
    "\n",
    "plt.plot(t, fit_func(t, *popt), label='Untergrund')\n",
    "plt.savefig(\"Silber.pdf\", format = \"pdf\")\n",
    "\n",
    "print(\"A1=\", round(popt[0]), \", Standardfehler=\", round(np.sqrt(pcov[0][0])))\n",
    "print(\"l1=\", round(popt[1],4), \", Standardfehler=\", round(np.sqrt(pcov[1][1]),4))\n",
    "print(\"A2=\", round(popt[2]), \", Standardfehler=\", round(np.sqrt(pcov[2][2])))\n",
    "print(\"l2=\", round(popt[3],5), \", Standardfehler=\", round(np.sqrt(pcov[3][3]),5))\n",
    "\n",
    "l1 = popt[1]\n",
    "l2 = popt[3]\n",
    "\n",
    "l1_fehler = np.sqrt(pcov[1][1])\n",
    "l2_fehler = np.sqrt(pcov[3][3])\n",
    "\n",
    "chi2_ = np.sum((fit_func(t, *popt) - N)**2 / Fehler_N**2)\n",
    "dof = len(N) - 4 \n",
    "chi2_red = chi2_ / dof\n",
    "print(\"chi2=\", round(chi2_))\n",
    "print(\"chi2_red=\", round(chi2_red,2))\n",
    "\n",
    "from scipy.stats import chi2\n",
    "prob = round(1 - chi2.cdf(chi2_, dof), 2)*100\n",
    "print(\"Wahrscheinlichkeit erster Fit=\", prob, \"%\")"
   ]
  },
  {
   "cell_type": "code",
   "execution_count": 53,
   "metadata": {},
   "outputs": [
    {
     "name": "stdout",
     "output_type": "stream",
     "text": [
      "Mittelwert: 52.0 Fehler: 3.7\n",
      "A=7.01e+02 , Standardfehler=1.3e+01\n",
      "l= 0.0002188 , Standardfehler= 1.1e-05\n",
      "chi2= 39.0\n",
      "chi2_red= 1.77\n",
      "Fitwahrscheinlichkeit= 1.4 %\n"
     ]
    },
    {
     "data": {
      "image/png": "[encoded data removed]",
      "text/plain": [
       "<matplotlib.figure.Figure at 0x2ceb34c94e0>"
      ]
     },
     "metadata": {},
     "output_type": "display_data"
    }
   ],
   "source": [
    "%matplotlib inline\n",
    "import matplotlib.pyplot as plt\n",
    "import numpy as np\n",
    "\n",
    "#Indiumzerfall\n",
    "\n",
    "unterg = np.loadtxt('Untergrund.dat', usecols = [1])\n",
    "mittelw_unterg = 12*np.mean(unterg)\n",
    "fehler_unterg = 12*np.std(unterg) / np.sqrt(len(unterg))\n",
    "print(\"Mittelwert:\" , mittelw_unterg, \"Fehler:\" , round(fehler_unterg,1))\n",
    "\n",
    "N = np.loadtxt('Indium.dat' , usecols = [1])[:-1]\n",
    "Fehler_N = np.sqrt(N)\n",
    "\n",
    "t= np.arange(0, len(N)*120, 120)\n",
    "\n",
    "plt.errorbar(t, N, Fehler_N, linestyle = 'None')\n",
    "plt.xlabel(\"Zeit / s\")\n",
    "plt.ylabel(\"Zerfaelle\")\n",
    "plt.title(\"Zerfaelle von Indium mit Untergrund\")\n",
    "plt.ylim(350, 850)\n",
    "\n",
    "y0 = mittelw_unterg            #Untergrund\n",
    "def fit_func(x, A, l):\n",
    "    return A*np.exp(-x*l) + y0\n",
    "\n",
    "from scipy.optimize import curve_fit\n",
    "popt, pcov = curve_fit(fit_func, t[1:], N[1:], p0 = [800, 0.0002], sigma = Fehler_N[1:])\n",
    "plt.plot(t, fit_func(t, *popt))\n",
    "plt.show()\n",
    "#plt.savefig(\"Indium.pdf\", format = \"pdf\")\n",
    "\n",
    "print(\"A={v:.3}\".format(v = popt[0]), \", Standardfehler={v:.2}\".format(v = np.sqrt(pcov[0][0])))\n",
    "print(\"l=\", round(popt[1],7), \", Standardfehler=\", round(np.sqrt(pcov[1][1]),6))\n",
    "\n",
    "l1_fehler = np.sqrt(pcov[1][1])\n",
    "\n",
    "chi2_ = np.sum((fit_func(t, *popt) - N)**2 / Fehler_N**2)\n",
    "dof = len(N)-1 - 2 \n",
    "chi2_red = chi2_ / dof\n",
    "print(\"chi2=\", round(chi2_))\n",
    "print(\"chi2_red=\", round(chi2_red,2))\n",
    "\n",
    "from scipy.stats import chi2\n",
    "prob = round(1 - chi2.cdf(chi2_, dof), 4)*100\n",
    "print(\"Fitwahrscheinlichkeit=\", prob, \"%\")"
   ]
  }
 ],
 "metadata": {
  "kernelspec": {
   "display_name": "Python 3",
   "language": "python",
   "name": "python3"
  },
  "language_info": {
   "codemirror_mode": {
    "name": "ipython",
    "version": 3
   },
   "file_extension": ".py",
   "mimetype": "text/x-python",
   "name": "python",
   "nbconvert_exporter": "python",
   "pygments_lexer": "ipython3",
   "version": "3.6.3"
  }
 },
 "nbformat": 4,
 "nbformat_minor": 2
}
