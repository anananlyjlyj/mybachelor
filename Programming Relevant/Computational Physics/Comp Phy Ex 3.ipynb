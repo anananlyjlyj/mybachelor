{
 "cells": [
  {
   "cell_type": "code",
   "execution_count": null,
   "metadata": {
    "collapsed": false
   },
   "outputs": [],
   "source": [
    "import math\n",
    "import numpy as np\n",
    "import matplotlib.pyplot as plt\n",
    "\n",
    "# set initial values\n",
    "G = 1\n",
    "m1 = 1\n",
    "m2 = 1\n",
    "m3 = 1\n",
    "r1 = np.array([-0.97000436, 0.24308753])\n",
    "v1 = np.array([-0.46620368, -0.43236573])\n",
    "r2 = np.array([0.97000436, -0.24308753])\n",
    "v2 = np.array([-0.46620368, -0.43236573])\n",
    "r3 = np.array([0.0, 0.0])\n",
    "v3 = np.array([0.93240737, 0.86473146])\n",
    "\n",
    "h = 0.005\n",
    "\n",
    "# calculate radius\n",
    "def rad(r):\n",
    "    return math.sqrt(sum([i**2 for i in r]))\n",
    "\n",
    "# calculate acceleration\n",
    "def acc(r1, r2, m):\n",
    "    r = [i - j for i,j in zip(r1, r2)]\n",
    "    # return np.array([i * G * (m1 + m2) / -(rad(r)**3) for i in r])\n",
    "    return np.array([i * G * m / -(rad(r)**3) for i in r])\n",
    "\n",
    "# integrand  v1, v2, v3, a1, a2, a3\n",
    "def fcn (x, m1, m2, m3):\n",
    "    y = []\n",
    "    y.append(acc(x[3], x[4], m2) + acc(x[3], x[5], m3))\n",
    "    y.append(acc(x[4], x[3], m1) + acc(x[4], x[5], m3))\n",
    "    y.append(acc(x[5], x[3], m1) + acc(x[5], x[4], m2))\n",
    "    y.append(x[0])\n",
    "    y.append(x[1])\n",
    "    y.append(x[2])\n",
    "    return y\n",
    "\n",
    "# RK4 update r1, r2, r3, v1, v2, v3\n",
    "def RK4(h, r1, r2, r3, v1, v2, v3, m1, m2, m3):\n",
    "    y = ([v1, v2, v3, r1, r2, r3])\n",
    "    k1 = [h * n for n in fcn(y, m1, m2, m3)]\n",
    "    k2 = [h * n for n in fcn([i + 0.5 * j for i, j in zip(y, k1)], m1, m2, m3)]\n",
    "    k3 = [h * n for n in fcn([i + 0.5 * j for i, j in zip(y, k2)], m1, m2, m3)]\n",
    "    k4 = [h * n for n in fcn([i + j for i, j in zip(y, k3)], m1, m2, m3)]\n",
    "    return [i + (j + 2 * k + 2 * l + m) / 6.0 for i, j, k, l, m in zip(y, k1, k2, k3, k4)]\n",
    "\n",
    "def orbit(h, r1, r2, r3, v1, v2, v3, m1, m2, m3, t):\n",
    "    o1 = []\n",
    "    o2 = []\n",
    "    o3 = []\n",
    "    o1.append(r1)\n",
    "    o2.append(r2)\n",
    "    o3.append(r3)\n",
    "    for i in range (0, int(t / h)):\n",
    "        y = RK4 (h, r1, r2, r3, v1, v2, v3, m1, m2, m3)\n",
    "        v1new = y[0]\n",
    "        v2new = y[1]\n",
    "        v3new = y[2]\n",
    "        r1new = y[3]\n",
    "        r2new = y[4]\n",
    "        r3new = y[5]\n",
    "        o1.append(r1new)\n",
    "        o2.append(r2new)\n",
    "        o3.append(r3new)\n",
    "        r1 = r1new\n",
    "        r2 = r2new\n",
    "        r3 = r3new\n",
    "        v1 = v1new\n",
    "        v2 = v2new\n",
    "        v3 = v3new\n",
    "    return o1, o2, o3\n",
    "\n",
    "t = 4\n",
    "o1, o2, o3 = orbit(h, r1, r2, r3, v1, v2, v3, m1, m2, m3, t)\n",
    "x1 = [x[0] for x in o1]\n",
    "y1 = [x[1] for x in o1]\n",
    "x2 = [x[0] for x in o2]\n",
    "y2 = [x[1] for x in o2]\n",
    "x3 = [x[0] for x in o3]\n",
    "y3 = [x[1] for x in o3]\n",
    "plt.plot(x1, y1)\n",
    "plt.show()\n",
    "plt.plot(x2, y2)\n",
    "plt.show()\n",
    "plt.plot(x3, y3)\n",
    "plt.show()\n"
   ]
  },
  {
   "cell_type": "code",
   "execution_count": 52,
   "metadata": {
    "collapsed": false
   },
   "outputs": [
    {
     "data": {
      "image/png": "[encoded data removed]",
      "text/plain": [
       "<matplotlib.figure.Figure at 0x1fe069fa198>"
      ]
     },
     "metadata": {},
     "output_type": "display_data"
    }
   ],
   "source": [
    "m1 = 3\n",
    "m2 = 4\n",
    "m3 = 5\n",
    "\n",
    "# set the origin of coordinate system into the center of mass of the system\n",
    "r1 = np.array([3.0, -1.0])\n",
    "r2 = np.array([-1.0, 2.0])\n",
    "r3 = np.array([-1.0, -1.0])\n",
    "\n",
    "v1 = np.array([0.0, 0.0])\n",
    "v2 = np.array([0.0, 0.0])\n",
    "v3 = np.array([0.0, 0.0])\n",
    "\n",
    "t = 1\n",
    "o1, o2, o3 = orbit(h, r1, r2, r3, v1, v2, v3, m1, m2, m3, t)\n",
    "x1 = [x[0] for x in o1]\n",
    "y1 = [x[1] for x in o1]\n",
    "x2 = [x[0] for x in o2]\n",
    "y2 = [x[1] for x in o2]\n",
    "x3 = [x[0] for x in o3]\n",
    "y3 = [x[1] for x in o3]\n",
    "plt.plot(x1, y1)\n",
    "plt.plot(x2, y2)\n",
    "plt.plot(x3, y3)\n",
    "plt.show()"
   ]
  },
  {
   "cell_type": "code",
   "execution_count": null,
   "metadata": {
    "collapsed": true
   },
   "outputs": [],
   "source": []
  }
 ],
 "metadata": {
  "kernelspec": {
   "display_name": "Python 3",
   "language": "python",
   "name": "python3"
  },
  "language_info": {
   "codemirror_mode": {
    "name": "ipython",
    "version": 3
   },
   "file_extension": ".py",
   "mimetype": "text/x-python",
   "name": "python",
   "nbconvert_exporter": "python",
   "pygments_lexer": "ipython3",
   "version": "3.6.0"
  }
 },
 "nbformat": 4,
 "nbformat_minor": 2
}
