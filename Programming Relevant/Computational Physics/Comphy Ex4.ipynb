{
 "cells": [
  {
   "cell_type": "code",
   "execution_count": 17,
   "metadata": {
    "collapsed": false
   },
   "outputs": [
    {
     "data": {
      "image/png": "[encoded data removed]",
      "text/plain": [
       "<matplotlib.figure.Figure at 0x1fb30984240>"
      ]
     },
     "metadata": {},
     "output_type": "display_data"
    }
   ],
   "source": [
    "import numpy as np\n",
    "import math\n",
    "\n",
    "n = 2\n",
    "eps = n + 0.5\n",
    "\n",
    "def k(x):\n",
    "    return 2 * eps - x**2\n",
    "\n",
    "def H(n, x):\n",
    "    h0 = 1\n",
    "    h1 = 2 * x\n",
    "    for i in range(0, n -3):\n",
    "        h2 = 2 * x * h1 - 2 * n * h0\n",
    "        h0 = h1\n",
    "        h1 = h2\n",
    "    return h2\n",
    "\n",
    "def anasol(n, x):\n",
    "    h = H(n, x)\n",
    "    t = math.sqrt(2**n * math.factorial(x))\n",
    "    return h * math.exp(-x**2 / 2) / t\n",
    "\n",
    "def init(a, n):\n",
    "    x0 = 0\n",
    "    if n % 2 == 0:\n",
    "        y0 = a\n",
    "        y1 = y0 + h**2 * V(x0) * y0 / 2\n",
    "    else:\n",
    "        y0 = 0\n",
    "        y1 = a\n",
    "    return x0, y0, y1\n",
    "\n",
    "def sol(x0, yo, y1, h):\n",
    "    t = h**2 / 12\n",
    "    k0 = k(x0)\n",
    "    k1 = k(x0 + h)\n",
    "    k2 = k(x0 + h*2)\n",
    "    y2 = (2 *(1 - 5 * t * k1) * y1 - (1 + t * k0) * y0) / (1 + t * k2)\n",
    "    return y2\n",
    "\n",
    "def V(x):\n",
    "    return x - eps\n",
    "\n",
    "h = 1\n",
    "x0, y0, y1 = init(1, n)\n",
    "t = np.linspace(0, 10, 100)\n",
    "y = np.array([])\n",
    "#y = np.append(y, [y0])\n",
    "#y = np.append(y, [y1])\n",
    "for i in range(len(t)):\n",
    "    y2 = sol(x0, y0, y1, h)\n",
    "    y = np.append(y, [y2])\n",
    "    y0 = y1\n",
    "    y1 = y2\n",
    "\n",
    "import matplotlib.pyplot as plt\n",
    "plt.plot(t, y)\n",
    "plt.show()\n"
   ]
  },
  {
   "cell_type": "code",
   "execution_count": null,
   "metadata": {
    "collapsed": true
   },
   "outputs": [],
   "source": [
    "def upd(V, x0, y0, h):\n",
    "    F0 = V(x0) * y0\n",
    "    V1 = V(x0 + h)\n",
    "    V2 = V(x0 + 2 * h)\n",
    "    t = h**2 / 24\n",
    "    F1 = V(x0 + h) * y0\n",
    "    F0prime = (F1 - F0) / h\n",
    "    y0prime = 1 ###\n",
    "    y1up = y0 * (1 - V2 * t) + h * y0prime * (1 - V2 * t * 2) + t * (7 * F0) - h**2 * t * V2 * F0 * 2 / 3\n",
    "    y1down = 1 - V1 * t * 6 + V1 * V2 * h**4 / 18\n",
    "    y1 = y1up / y1down\n",
    "    y2 = (2 * y1 - y0 + t * 2 *(U2 + 10 * F1 + F0)) / (1 - V2 * t * 2)\n",
    "    return y1"
   ]
  }
 ],
 "metadata": {
  "kernelspec": {
   "display_name": "Python 3",
   "language": "python",
   "name": "python3"
  },
  "language_info": {
   "codemirror_mode": {
    "name": "ipython",
    "version": 3
   },
   "file_extension": ".py",
   "mimetype": "text/x-python",
   "name": "python",
   "nbconvert_exporter": "python",
   "pygments_lexer": "ipython3",
   "version": "3.6.0"
  }
 },
 "nbformat": 4,
 "nbformat_minor": 2
}
