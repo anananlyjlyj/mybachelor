{
 "cells": [
  {
   "cell_type": "code",
   "execution_count": 89,
   "metadata": {
    "collapsed": false
   },
   "outputs": [
    {
     "name": "stdout",
     "output_type": "stream",
     "text": [
      "[[ 2. -1.  0.  0.  0.  0.  0.  0.  0.  0.]\n",
      " [-1.  2. -1.  0.  0.  0.  0.  0.  0.  0.]\n",
      " [ 0. -1.  2. -1.  0.  0.  0.  0.  0.  0.]\n",
      " [ 0.  0. -1.  2. -1.  0.  0.  0.  0.  0.]\n",
      " [ 0.  0.  0. -1.  2. -1.  0.  0.  0.  0.]\n",
      " [ 0.  0.  0.  0. -1.  2. -1.  0.  0.  0.]\n",
      " [ 0.  0.  0.  0.  0. -1.  2. -1.  0.  0.]\n",
      " [ 0.  0.  0.  0.  0.  0. -1.  2. -1.  0.]\n",
      " [ 0.  0.  0.  0.  0.  0.  0. -1.  2. -1.]\n",
      " [ 0.  0.  0.  0.  0.  0.  0.  0. -1.  2.]]\n",
      "r =  [ 0.1  0.1  0.1  0.1  0.1  0.1  0.1  0.1  0.1  0.1]\n",
      "solution =  [ 0.5  0.9  1.2  1.4  1.5  1.5  1.4  1.2  0.9  0.5]\n",
      "A * solution =  [ 0.1  0.1  0.1  0.1  0.1  0.1  0.1  0.1  0.1  0.1]\n"
     ]
    }
   ],
   "source": [
    "import numpy as np\n",
    "import math\n",
    "\n",
    "# matrix multiplicates vector\n",
    "def mxv(A, b):\n",
    "    x = np.array([np.sum(A[i] * b) for i in range(len(A))])\n",
    "    return x\n",
    "\n",
    "# Gaussian elimination\n",
    "def gausselm(A, b):\n",
    "    B = np.copy(A)\n",
    "    c = np.copy(b)\n",
    "    for i in range(1, len(b)):\n",
    "        t = B[i][i - 1] / B[i - 1][i - 1]\n",
    "        B[i] -= B[i - 1] * t\n",
    "        c[i] -= c[i - 1] * t\n",
    "    return B, c\n",
    "\n",
    "# backward substitution\n",
    "def bsub(B, c):\n",
    "    n = len(c)\n",
    "    x = np.zeros(n)\n",
    "    x[n - 1] = c[n - 1] / B[n - 1][n - 1]\n",
    "    for j in range(n - 2, -1, -1):\n",
    "        x[j] = c[j]\n",
    "        for k in range(j + 1, n):\n",
    "            x[j] -= x[k] * B[j][k]\n",
    "        x[j] /= B[j][j]\n",
    "    return x\n",
    "\n",
    "# construct a matrix using vector a, b, c\n",
    "def matrix(a, b, c):\n",
    "    n = len(b)\n",
    "    res = np.zeros([n, n])\n",
    "    for i in range (0, n):\n",
    "        for j in range(0, n):\n",
    "            if i == j - 1:\n",
    "                res[i][j] = c[j - 1]\n",
    "            elif i == j:\n",
    "                res[i][j] = b[j]\n",
    "            elif i == j + 1:\n",
    "                res[i][j] = a[j]\n",
    "    return res\n",
    "\n",
    "# solve matrix equation\n",
    "def solv(a, b, c, r):\n",
    "    A = matrix(a, b, c)\n",
    "    B, d = gausselm(A, r)\n",
    "    sol = bsub(B, d)\n",
    "    return sol\n",
    "\n",
    "n = 10\n",
    "a = -1 * np.ones(n - 1)\n",
    "b = 2 * np.ones(n)\n",
    "c = -1 * np.ones(n - 1)\n",
    "A = matrix(a, b, c)\n",
    "print(A)\n",
    "r = 0.1 * np.ones(n)\n",
    "print (\"r = \", r)\n",
    "x = solv(a, b, c, r)\n",
    "print (\"solution = \", x)\n",
    "r2 = mxv(A, x)\n",
    "print(\"A * solution = \", r2)\n",
    "\n",
    "# the results is right what we expected"
   ]
  },
  {
   "cell_type": "code",
   "execution_count": null,
   "metadata": {
    "collapsed": true
   },
   "outputs": [],
   "source": []
  }
 ],
 "metadata": {
  "kernelspec": {
   "display_name": "Python 3",
   "language": "python",
   "name": "python3"
  },
  "language_info": {
   "codemirror_mode": {
    "name": "ipython",
    "version": 3
   },
   "file_extension": ".py",
   "mimetype": "text/x-python",
   "name": "python",
   "nbconvert_exporter": "python",
   "pygments_lexer": "ipython3",
   "version": "3.6.0"
  }
 },
 "nbformat": 4,
 "nbformat_minor": 2
}
