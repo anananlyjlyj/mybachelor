{
 "cells": [
  {
   "cell_type": "code",
   "execution_count": 1,
   "metadata": {
    "collapsed": false
   },
   "outputs": [
    {
     "name": "stdout",
     "output_type": "stream",
     "text": [
      "[-0.50012207  1.        ]\n",
      "[ 1.          0.49987793]\n",
      "[-0.5  1. ]\n",
      "[ 1.   0.5]\n",
      "[ 5.  6.]\n",
      "[ 26.  28.]\n"
     ]
    }
   ],
   "source": [
    "import numpy as np\n",
    "b = np.array([1, 0.5])\n",
    "eps = 1e-12\n",
    "A = np.array([[eps, 1.], [1., 1.]])\n",
    "\n",
    "# matrix multiplicate vector\n",
    "def matx(A, b):\n",
    "    x = np.array([np.sum(A[i] * b) for i in range(len(A))])\n",
    "    return x\n",
    "\n",
    "#  Gauss-Jordan without pivoting to solve matrix equation\n",
    "def solequ(A, b):\n",
    "    a = np.array([np.append(A[0], [1., 0.]), np.append(A[1], [0., 1.])])\n",
    "    a[0] /= a[0][0]\n",
    "    a[1] -= a[0] * a[1][0]\n",
    "    a[1] /= a[1][1]\n",
    "    a[0] -= a[1] * a[0][1]\n",
    "    invA = np.array([[a[0][2], a[0][3]], [a[1][2], a[1][3]]])\n",
    "    x = matx(invA, b)\n",
    "    return x\n",
    "#  Gauss-Jordan with pivoting to solve matrix equation\n",
    "def solequp(A, b):\n",
    "    if A[0][0] < A[0][1]:\n",
    "        a = np.array([np.append(A[1], [0., 1.]), np.append(A[0], [1., 0.])])\n",
    "    else:\n",
    "        a = np.array([np.append(A[0], [1., 0.]), np.append(A[1], [0., 1.])])\n",
    "    a[0] /= a[0][0]\n",
    "    a[1] -= a[0] * a[1][0]\n",
    "    a[1] /= a[1][1]\n",
    "    a[0] -= a[1] * a[0][1]\n",
    "    invA = np.array([[a[0][2], a[0][3]], [a[1][2], a[1][3]]])\n",
    "    x = matx(invA, b)\n",
    "    return x\n",
    "\n",
    "x = solequ(A, b)\n",
    "print(x)\n",
    "print(matx(A, x))\n",
    "x = solequp(A, b)\n",
    "print(x)\n",
    "print(matx(A, x))\n",
    "A = np.array([[4., 1.], [2., 3.]])\n",
    "b = np.array([26., 28.])\n",
    "x = solequ(A, b)\n",
    "print(x)\n",
    "print(matx(A, x))"
   ]
  },
  {
   "cell_type": "code",
   "execution_count": null,
   "metadata": {
    "collapsed": true
   },
   "outputs": [],
   "source": [
    "# tridiagonal matrix equation\n",
    "def sol(A, b, n):\n",
    "    a = A\n",
    "    a[0] /= a[0][0]\n",
    "    for i in range(1, n):\n",
    "        a[i] -= a[i - 1] * a[i][i - 1]\n",
    "        a[i] /= a[i][i]\n",
    "    \n",
    "    return A\n",
    "\n"
   ]
  }
 ],
 "metadata": {
  "kernelspec": {
   "display_name": "Python 3",
   "language": "python",
   "name": "python3"
  },
  "language_info": {
   "codemirror_mode": {
    "name": "ipython",
    "version": 3
   },
   "file_extension": ".py",
   "mimetype": "text/x-python",
   "name": "python",
   "nbconvert_exporter": "python",
   "pygments_lexer": "ipython3",
   "version": "3.6.0"
  }
 },
 "nbformat": 4,
 "nbformat_minor": 2
}
