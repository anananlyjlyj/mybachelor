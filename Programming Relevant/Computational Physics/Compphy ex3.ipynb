{
 "cells": [
  {
   "cell_type": "code",
   "execution_count": 85,
   "metadata": {
    "collapsed": false
   },
   "outputs": [
    {
     "name": "stdout",
     "output_type": "stream",
     "text": [
      "[1.4142135623730951, 0.0, 0.0]\n"
     ]
    },
    {
     "data": {
      "image/png": "[encoded data removed]",
      "text/plain": [
       "<matplotlib.figure.Figure at 0x7f6aba5d5150>"
      ]
     },
     "metadata": {},
     "output_type": "display_data"
    }
   ],
   "source": [
    "G = 1\n",
    "M1 = 1\n",
    "M2 = 1\n",
    "x = [1, 0, 0]\n",
    "\n",
    "import math\n",
    "import numpy as np\n",
    "\n",
    "def rad(x):\n",
    "    r = math.sqrt(x[0]**2 + x[1]**2 + x[2]**2)\n",
    "    return r\n",
    "\n",
    "def acc(x):\n",
    "    r = rad(x)\n",
    "    t = - G * (M1 + M2) / r**3\n",
    "    a = [i * t for i in x]\n",
    "    return a\n",
    "\n",
    "v2 = [i * rad(x) for i in acc(x)]\n",
    "v0 = [math.sqrt(np.abs(v2[0])),math.sqrt(np.abs(v2[1])), math.sqrt(np.abs(v2[1]))]\n",
    "\n",
    "print(v0)\n",
    "\n",
    "deltat = 0.00001\n",
    "vv = [i / math.sqrt(2) for i in v0]\n",
    "\n",
    "import matplotlib.pyplot as plt\n",
    "\n",
    "r0 = []\n",
    "r1 = []\n",
    "v0 = []\n",
    "v1 = []\n",
    "v0.append(0.0)\n",
    "v1.append(-1.0)\n",
    "r0.append(1.0)\n",
    "r1.append(0.0)\n",
    "for i in range (0, 1000):\n",
    "    a = acc([r0[-1], r1[-1], 0])\n",
    "    r0.append(r0[-1] + v0[-1] * deltat)\n",
    "    r1.append(r1[-1] + v1[-1] * deltat)\n",
    "    v0.append(v0[-1] + a[0] * deltat)\n",
    "    v1.append(v1[-1] + a[1] * deltat)\n",
    "    \n",
    "#print(r0)\n",
    "#print(r1)\n",
    "#plt.xlim(-1,1)\n",
    "#plt.ylim(-1,1)\n",
    "plt.plot(r0, r1, 'o')\n",
    "plt.show()\n"
   ]
  },
  {
   "cell_type": "code",
   "execution_count": null,
   "metadata": {
    "collapsed": true
   },
   "outputs": [],
   "source": []
  },
  {
   "cell_type": "code",
   "execution_count": null,
   "metadata": {
    "collapsed": true
   },
   "outputs": [],
   "source": []
  }
 ],
 "metadata": {
  "kernelspec": {
   "display_name": "Python [default]",
   "language": "python",
   "name": "python2"
  },
  "language_info": {
   "codemirror_mode": {
    "name": "ipython",
    "version": 2
   },
   "file_extension": ".py",
   "mimetype": "text/x-python",
   "name": "python",
   "nbconvert_exporter": "python",
   "pygments_lexer": "ipython2",
   "version": "2.7.13"
  }
 },
 "nbformat": 4,
 "nbformat_minor": 2
}
