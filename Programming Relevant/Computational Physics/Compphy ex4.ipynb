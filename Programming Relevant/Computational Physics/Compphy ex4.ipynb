{
 "cells": [
  {
   "cell_type": "code",
   "execution_count": null,
   "metadata": {
    "collapsed": true,
    "deletable": true,
    "editable": true
   },
   "outputs": [],
   "source": [
    "import numpy as np\n",
    "import math\n",
    "\n",
    "def upd(U, V, x0, y0, h):\n",
    "    F0 = U(x0) + V(x0) * y0\n",
    "    U1 = U(x0 + h)\n",
    "    U2 = U(x0 + 2 * h)\n",
    "    V1 = V(x0 + h)\n",
    "    V2 = V(x0 + 2 * h)\n",
    "    t = h**2 / 24\n",
    "    F1 = U(x0 + h) + V(x0 + h) * y0\n",
    "    F0prime = (F1 - F0) / h\n",
    "    y1up = y0 * (1 - V2 * t) + h * y0prime * (1 - V2 * t * 2) + t * (7 * F0 + 6 * U1 - U2) - h**2 * t * V2 * (F0 + 2 * U1) * 2 / 3\n",
    "    y1down = 1 - V1 * t * 6 + V1 * V2 * h**4 / 18\n",
    "    y1 = y1up / y1down\n",
    "    y2 = (2 * y1 - y0 + t * 2 *(U2 + 10 * F1 + F0)) / (1 - V2 * t * 2)\n",
    "    return y2\n",
    "\n",
    "def sol(U, V):\n",
    "    \n",
    "\n",
    "def u(x):\n",
    "    return 0\n",
    "\n",
    "# !def eps\n",
    "\n",
    "def v(x):\n",
    "    return x**2 - 2 * eps\n",
    "\n",
    "def H(n, x):\n",
    "    h0 = 1\n",
    "    h1 = 2 * x\n",
    "    for i in range(0, n - 3):\n",
    "        h2 = 2 * x * h1 - 2 * n * h0\n",
    "        h0 = h1\n",
    "        h1 = h2\n",
    "    return h2\n",
    "\n",
    "def anasol(n, x):\n",
    "    h = H(n, x)\n",
    "    t = math.sqrt(2**n * math.factorial(x))\n",
    "    return h * math.exp(- x**2 / 2) / t\n",
    "\n",
    "def U(x):\n",
    "    return 0\n",
    "\n",
    "def V(x):\n",
    "    return x - eps"
   ]
  }
 ],
 "metadata": {
  "kernelspec": {
   "display_name": "Python [default]",
   "language": "python",
   "name": "python2"
  },
  "language_info": {
   "codemirror_mode": {
    "name": "ipython",
    "version": 2
   },
   "file_extension": ".py",
   "mimetype": "text/x-python",
   "name": "python",
   "nbconvert_exporter": "python",
   "pygments_lexer": "ipython2",
   "version": "2.7.13"
  }
 },
 "nbformat": 4,
 "nbformat_minor": 2
}
