{
 "cells": [
  {
   "cell_type": "code",
   "execution_count": 31,
   "metadata": {
    "collapsed": false
   },
   "outputs": [
    {
     "name": "stdout",
     "output_type": "stream",
     "text": [
      "[[ 1.  2.  1.]\n",
      " [ 2.  4.  2.]\n",
      " [ 3.  6.  3.]]\n",
      "[0 0 0]\n",
      "[[ 9.60356745  0.67637424 -0.98543864]\n",
      " [ 0.67637424  1.35274848 -1.97087729]\n",
      " [ 1.01456136  2.02912271 -2.95631593]]\n"
     ]
    }
   ],
   "source": [
    "import math\n",
    "import numpy as np\n",
    "\n",
    "def mxv(A, v):\n",
    "    res = np.array([np.sum(A[i] * v) for i in range(len(A))])\n",
    "    return res\n",
    "    \n",
    "def norm(v):\n",
    "    return math.sqrt(np.sum(v[i]**2 for i in range(len(v))))\n",
    "\n",
    "# outer product\n",
    "def vxw(v, w):\n",
    "    n = len(v)\n",
    "    res = np.zeros([n, n])\n",
    "    for i in range(0, n):\n",
    "        for j in range(0, n):\n",
    "            res[i][j] = v[i] * w[j]\n",
    "    return res\n",
    "\n",
    "# innen product\n",
    "def axb(a, b):\n",
    "    return np.sum(a[i] * b[i] for i in range(len(a)))\n",
    "\n",
    "s = np.array([1, 2, 3])\n",
    "t = vxw(np.array([1, 2, 3]), np.array([1, 2, 1]))\n",
    "print(t)\n",
    "print(s - s)\n",
    "\n",
    "# suppose A is a nxn matrix\n",
    "def tred2(A):\n",
    "    x = np.array([A[i][0] for i in range(len(A))])\n",
    "    e1 = np.zeros(len(x))\n",
    "    e1[0] = 1\n",
    "    u = x + norm(x) * e1\n",
    "    p = 2 * mxv(A, u) / norm(u)**2\n",
    "    pu= vxw(p, u)\n",
    "    #AP = np.array([A[i] - pu[i] for i in range(len(A))])\n",
    "    k = axb(u, p) / norm(u)**2\n",
    "    b = p - k * u\n",
    "    bu = vxw(b, u) + vxw(u, b)\n",
    "    Aprime = np.array([A[i] - bu[i] for i in range(len(A))]) \n",
    "    return Aprime\n",
    "\n",
    "print(tred2(t))\n",
    "    "
   ]
  }
 ],
 "metadata": {
  "kernelspec": {
   "display_name": "Python [default]",
   "language": "python",
   "name": "python2"
  },
  "language_info": {
   "codemirror_mode": {
    "name": "ipython",
    "version": 2
   },
   "file_extension": ".py",
   "mimetype": "text/x-python",
   "name": "python",
   "nbconvert_exporter": "python",
   "pygments_lexer": "ipython2",
   "version": "2.7.13"
  }
 },
 "nbformat": 4,
 "nbformat_minor": 2
}
