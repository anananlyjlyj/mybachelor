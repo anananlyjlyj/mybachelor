{
 "cells": [
  {
   "cell_type": "code",
   "execution_count": 96,
   "metadata": {
    "collapsed": true
   },
   "outputs": [],
   "source": [
    "import numpy as np\n",
    "import math\n",
    "import matplotlib.pyplot as plt\n",
    "\n",
    "G = 1\n",
    "M1 = 1\n",
    "M2 = 1\n",
    "deltat = 0.01\n",
    "\n",
    "def rad(x):\n",
    "    r = math.sqrt(x[0]**2 + x[1]**2 + x[2]**2)\n",
    "    return r\n",
    "\n",
    "def vel(x):\n",
    "    r = rad(x)\n",
    "    t = -G * (M1 + M2) / r**3\n",
    "    a = [i*t for i in x]\n",
    "    return a\n",
    "\n",
    "x = [1 0 0]\n",
    "v = [0 -1 0]\n",
    "\n"
   ]
  },
  {
   "cell_type": "code",
   "execution_count": null,
   "metadata": {
    "collapsed": true
   },
   "outputs": [],
   "source": []
  }
 ],
 "metadata": {
  "kernelspec": {
   "display_name": "Python 3",
   "language": "python",
   "name": "python3"
  },
  "language_info": {
   "codemirror_mode": {
    "name": "ipython",
    "version": 3
   },
   "file_extension": ".py",
   "mimetype": "text/x-python",
   "name": "python",
   "nbconvert_exporter": "python",
   "pygments_lexer": "ipython3",
   "version": "3.6.0"
  }
 },
 "nbformat": 4,
 "nbformat_minor": 2
}
