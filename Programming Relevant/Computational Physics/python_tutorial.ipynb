{
 "cells": [
  {
   "cell_type": "markdown",
   "metadata": {},
   "source": [
    "# Introduction to jupyter/ipython notebooks"
   ]
  },
  {
   "cell_type": "markdown",
   "metadata": {},
   "source": [
    "## General remarks\n",
    "\n",
    "Modalities for programming excercises: The programming excercises will be uploaded to the excercise system as jupyter notebooks. You can download and modify them. When you are done send them to martin.gaerttner@kip.uni-heidelberg.de as a *.ipynb file.\n",
    "\n",
    "Why jupyter/ipython notebooks?\n",
    "\n",
    "- Python is an interpreted language (not compiled!) and the programs you write can thus be executed on any platform without compiling before. This comes at the expense of speed, but this is not critical for most of the things we will be doing.  \n",
    "- Jupyter notebooks use the concept of literate programming, which is becoming very popular for education and research. It means that one writes script blocks interspereced with formatted text, creating a nice and easily readable \"notebook\".\n",
    "- We can execute different parts of the script without re-running the whole program every time. Good for playing around and testing.\n",
    "- There are plenty of tools for visulaization of numerical data.\n",
    "- It's free!\n",
    "- There are plenty of open source libraries (you will get to know some of them soon).\n",
    "- Everything is very well documentated and heaps of tutorials and examples can be found - check it out:  \n",
    "https://docs.python.org/2/library/index.html  \n",
    "https://jupyter-notebook.readthedocs.io/en/latest/\n",
    "\n",
    "Of course, you can also use python also as a normal script language. Write a program/script and save it as a .py file and then run it in the console either by starting ipython or just go \"python program_name.py\".\n",
    "\n",
    "Other languages commonly used for scientific research: \n",
    "\n",
    "- Compiled languages: C/C++, Julia, ...\n",
    "- Matlab, R, ... (commonly used for statistics and data processing applications)\n",
    "- More high level (\"computer algebra system\"): Mathematica (strong in symbolic calculations/hybrid symbolic and numerical)\n",
    "\n",
    "Some survival rules/general good practice advise:\n",
    "\n",
    "- Think first: Stucture the task. What are inputs and outputs? What variables and data structures are needed? What sub-tasks can be split off? Write pseudocode to get an idea of how the program will be structured.\n",
    "- Testing: Test every piece you implement with simple examples where you know what the aswer should be.\n",
    "- Divide and conquer: Start with the simplest subproblem. Implement it and test it. Then include it into more complicated routines.\n",
    "- Solution by evolution: Everything problem you solve, you will encounter in a different context again at a later point. So reuse you code to save time. Also use what others have written. The internet is full of nice examples. But test it and don't use it if you don't understand what it does.\n",
    "- Write out error messages, progresss messages, and intermediate resuts in log files for checking.\n",
    "- Document your code so you will later be able to understand and debug it!\n",
    "- Use meaningful variable names. Respect conventions for names of constants, variables and functions.\n",
    "- Make your code better readable by styling: Indentation, spaces...\n",
    "- Forget about all the above and just play ;-)"
   ]
  },
  {
   "cell_type": "markdown",
   "metadata": {},
   "source": [
    "## Commonly used libraries\n",
    "\n",
    "- numpy: Powerful package for scientific computing. We will mainly use it for handling of arrays (vectors and matrices).\n",
    "- scipy: Library with lots of useful routines for solving differential equation and optimization. We will typically only import the functions we need for a specific task.\n",
    "- matplotlib: for plotting (usually matplotlib.pyplot is enough)\n",
    "- h5py: For storing and retrieving numerical data using the hdf5 binary data format. We will need this if we run long simulations and want to save the result and read it again for analysis and visualization."
   ]
  },
  {
   "cell_type": "code",
   "execution_count": 1,
   "metadata": {
    "collapsed": true
   },
   "outputs": [],
   "source": [
    "# load libraries\n",
    "\n",
    "import numpy as np   # now we can call functions from this library as np.function(...)\n",
    "\n",
    "from scipy.optimize import curve_fit   # example for importing only one function. \n",
    "# Loading too many different libraries can lead to conflicting definitions!\n",
    "\n",
    "import matplotlib.pyplot as plt   # with this we can make plots\n",
    "\n",
    "%matplotlib inline\n",
    "# This sets the backend of matplotlib to the 'inline' backend. \n",
    "# Only works in notebooks, not in *.py scripts."
   ]
  },
  {
   "cell_type": "markdown",
   "metadata": {},
   "source": [
    "## Introductory example: distribution of prime numbers\n",
    "\n",
    "This example shows you some basics of how to use arrays, special functions, curve fitting and plotting.\n",
    "\n",
    "The prime number theorem states that the density of prime numbers among the natural numbers approaches $1/log(N)$ in the large $N$ limit. More formally the prime counting function $\\pi(N)$ defined as the number of prime numbers smaller than $N$ apporaches $N/log(N)$. This theorrem was  proved independently by Jacques Hadamard and Charles Jean de la Vallée Poussin in 1896 (see https://en.wikipedia.org/wiki/Prime_number_theorem). We want to check it numerically."
   ]
  },
  {
   "cell_type": "markdown",
   "metadata": {},
   "source": [
    "First we define a function that tests whether a number is prime. (There are much more fancy ways of doing this but ok...)"
   ]
  },
  {
   "cell_type": "code",
   "execution_count": 2,
   "metadata": {
    "collapsed": true
   },
   "outputs": [],
   "source": [
    "def is_prime(n):\n",
    "    if n == 2: # 2 is prime\n",
    "        return True \n",
    "    if n%2 == 0 or n < 2: # all other even number are not\n",
    "        return False\n",
    "    for i in range(3,int(np.sqrt(n))+1,2): # look for factors. \n",
    "        # Since even numbers have been excluded already, we only need to check  for odd factors.\n",
    "        # We only need to check up to sqrt(n) rounded down to the nearest integer. \n",
    "        if n%i == 0:\n",
    "            return False\n",
    "    return True"
   ]
  },
  {
   "cell_type": "markdown",
   "metadata": {},
   "source": [
    "Note that we made use of the library function np.sqrt() form the numpy library.  \n",
    "A note on the expression int(np.sqrt(n))+1:  \n",
    "The function np.sqrt() returns a floating point number, which is cast into an integer again by int(), equivalent to rounding down. I added 1 because for squares of primes it might happen that the float returned by np.sqrt() is smaller than sqrt(n) due to finite precision. In this case it would get rounded to sqrt(n)-1 and sqrt(n) would not be checked, and thus the function would incorrectly identify n as prime. That is why I add 1 to be on the safe side.\n",
    "\n",
    "Next we want to build a list of all prime numbers up to some number $N$. "
   ]
  },
  {
   "cell_type": "code",
   "execution_count": 3,
   "metadata": {
    "collapsed": true
   },
   "outputs": [],
   "source": [
    "N = 2**18\n",
    "\n",
    "all_primes = np.array([],dtype=np.int) # generate empty array of integer type (default is float)\n",
    "for n in range(N):\n",
    "    if is_prime(n):\n",
    "        all_primes = np.append(all_primes,[n])\n",
    "\n",
    "# print(all_primes) # This was added for testing puposes, don't run it for too large N..."
   ]
  },
  {
   "cell_type": "markdown",
   "metadata": {},
   "source": [
    "Here we used numpy's array type. The reason for doing this will become clear below. We could also use the python standard array type. Then it would look like this:"
   ]
  },
  {
   "cell_type": "code",
   "execution_count": 4,
   "metadata": {
    "collapsed": true
   },
   "outputs": [],
   "source": [
    "all_primes2 = []\n",
    "for n in range(N):\n",
    "    if is_prime(n):\n",
    "        all_primes2.append(n)\n",
    "\n",
    "# print(all_primes)"
   ]
  },
  {
   "cell_type": "markdown",
   "metadata": {},
   "source": [
    "There are good tutorials that explain the different types in python and how to deal with them. You may also want to check out the numpy.array() documantation, which explains things in more detail.\n",
    "\n",
    "The way we calculated our list of primes is definitely not very efficient.  \n",
    "Exercise: Write a function that return the list of all primes <=N which makes the factor search more efficient by only checking for prime factors.\n",
    "\n",
    "Next, we want to count how many primes smaller than a given number $x$ there are, i.e. evaluate $\\pi(x)$ for a given list of gridpoints. We want to choose the gridpoints logarithmically spaced anticipating the functional dependence of $\\pi(x)$."
   ]
  },
  {
   "cell_type": "code",
   "execution_count": 6,
   "metadata": {},
   "outputs": [
    {
     "name": "stdout",
     "output_type": "stream",
     "text": [
      "[[     2      1]\n",
      " [     4      2]\n",
      " [     8      4]\n",
      " [    16      6]\n",
      " [    32     11]\n",
      " [    64     18]\n",
      " [   128     31]\n",
      " [   256     54]\n",
      " [   512     97]\n",
      " [  1024    172]\n",
      " [  2048    309]\n",
      " [  4096    564]\n",
      " [  8192   1028]\n",
      " [ 16384   1900]\n",
      " [ 32768   3512]\n",
      " [ 65536   6542]\n",
      " [131072  12251]\n",
      " [262144  23000]]\n"
     ]
    }
   ],
   "source": [
    "# define the prime counting function\n",
    "def piFct(prime_list,x):\n",
    "#     if x > np.amax(prime_list):\n",
    "#         print \"Error: the argument is exceeds the largest prime in your list.\"\n",
    "#         return\n",
    "    return np.count_nonzero(prime_list <= x)\n",
    "\n",
    "\n",
    "# make a logarithmically spaced grid\n",
    "grid_N = 2**(np.arange(int(np.log2(N)))+1) # This is something we could not do with normal arrays.\n",
    "\n",
    "piVals = np.zeros_like(grid_N)\n",
    "for i in range(len(grid_N)):\n",
    "    piVals[i] = piFct(all_primes,grid_N[i])\n",
    "    \n",
    "\n",
    "print(np.transpose([grid_N, piVals]))"
   ]
  },
  {
   "cell_type": "markdown",
   "metadata": {},
   "source": [
    "Here we used the handy properties of numpy arrays: np.count() counts the element of a list which fulfill a certain criterion. np.arange() generates a numpy array of equally spaced numbers. This array can then be exponentiated, meaning that if $x$ in an array the function $2^x$ gets evaluated for all elements of the array and the output is again an array.\n",
    "\n",
    "We can now go on and plot the values we have calculated using matplotlib."
   ]
  },
  {
   "cell_type": "code",
   "execution_count": 7,
   "metadata": {},
   "outputs": [
    {
     "data": {
      "text/plain": [
       "[<matplotlib.lines.Line2D at 0x1a40c748>]"
      ]
     },
     "execution_count": 7,
     "metadata": {},
     "output_type": "execute_result"
    },
    {
     "data": {
      "image/png": "[encoded data removed]",
      "text/plain": [
       "<matplotlib.figure.Figure at 0x1a40cb00>"
      ]
     },
     "metadata": {},
     "output_type": "display_data"
    }
   ],
   "source": [
    "plt.loglog(grid_N,piVals,'r+')"
   ]
  },
  {
   "cell_type": "markdown",
   "metadata": {},
   "source": [
    "If we want to control some more things about our graphics like plot titles, axis labels etc., we can do the following:"
   ]
  },
  {
   "cell_type": "code",
   "execution_count": 8,
   "metadata": {},
   "outputs": [
    {
     "data": {
      "image/png": "[encoded data removed]",
      "text/plain": [
       "<matplotlib.figure.Figure at 0x1bc21390>"
      ]
     },
     "metadata": {},
     "output_type": "display_data"
    }
   ],
   "source": [
    "# create a figure\n",
    "fig = plt.figure(dpi = 80,figsize=(8,6))\n",
    "# create axes in the figure\n",
    "ax = fig.add_subplot(\"111\")\n",
    "# plot the data into the axes\n",
    "ax.loglog(grid_N,piVals,'r+',label=\"exact\")\n",
    "# add labels and legends\n",
    "ax.legend(loc = 'upper left')\n",
    "ax.set_title(\"distribution of prime numbers\")\n",
    "ax.set_xlabel(\"$N$\")\n",
    "ax.set_ylabel(\"$\\pi(N)$\")\n",
    "\n",
    "plt.show()\n"
   ]
  },
  {
   "cell_type": "markdown",
   "metadata": {},
   "source": [
    "Now lets compare it to the analytical prediction!"
   ]
  },
  {
   "cell_type": "code",
   "execution_count": 10,
   "metadata": {},
   "outputs": [
    {
     "data": {
      "image/png": "[encoded data removed]",
      "text/plain": [
       "<matplotlib.figure.Figure at 0x1bc21390>"
      ]
     },
     "execution_count": 10,
     "metadata": {},
     "output_type": "execute_result"
    }
   ],
   "source": [
    "piValsAnalyt = np.zeros_like(grid_N) # another neat feature of numpy arrays: \n",
    "# Create an array with same length and type which is initialized with zeros\n",
    "for i in range(len(grid_N)):\n",
    "    piValsAnalyt[i] = grid_N[i]/np.log(grid_N[i])\n",
    "\n",
    "ax.loglog(grid_N,piValsAnalyt,'b',label=\"$N/log(N)$\")\n",
    "ax.legend(loc = 'upper left')\n",
    "\n",
    "fig"
   ]
  },
  {
   "cell_type": "markdown",
   "metadata": {},
   "source": [
    "Now we want to see if a simple power law function would also fit (the curve looks almost linear on the log-log plot...)   \n",
    "This illustrates the use of the curve_fit() function from scipy."
   ]
  },
  {
   "cell_type": "code",
   "execution_count": 12,
   "metadata": {},
   "outputs": [
    {
     "name": "stdout",
     "output_type": "stream",
     "text": [
      "[ 0.2890577   0.90438721]\n"
     ]
    },
    {
     "data": {
      "image/png": "[encoded data removed]",
      "text/plain": [
       "<matplotlib.figure.Figure at 0x1bc21390>"
      ]
     },
     "execution_count": 12,
     "metadata": {},
     "output_type": "execute_result"
    }
   ],
   "source": [
    "# try fitting a power law\n",
    "def powerlaw(x, a, b):\n",
    "    return a*np.power(x,b)\n",
    "\n",
    "fitfunc = powerlaw\n",
    "xdata = grid_N\n",
    "ydata = piVals\n",
    "params_opt, pcov = curve_fit(fitfunc, xdata, ydata)\n",
    "print(params_opt)\n",
    "# print pcov # covariance matrix of the fit (sqrt of diagonal elements  gives fit errors for parameters)\n",
    "\n",
    "ax.loglog(xdata, fitfunc(xdata, *params_opt), 'g--',label=\"power law fit\")\n",
    "ax.legend(loc = 'upper left')\n",
    "fig\n"
   ]
  },
  {
   "cell_type": "markdown",
   "metadata": {},
   "source": [
    "The power law seems to fit well at large N but not at small N. What would happen if we calculate $\\pi(N)$ for even larger N? How could we determine which curve fits better?\n",
    "If you want to find out more about the distribution of prime numbers, e.g. whether there are analytical functions that fit even better than $N/log(N)$, check out the wikipedia page about it. Try to evaluate and plot the offset logarithmic integral function and see if it fits better. How does the difference between the approximations and $\\pi(N)$ scale with N?"
   ]
  },
  {
   "cell_type": "markdown",
   "metadata": {},
   "source": [
    "Hopefully, you have learned some of the basic features of jupyter notebooks using python, which allows you to get started with the quantum physics problems we will encounter in the lecture.\n",
    "\n",
    "Here are some ideas on how you could explore more features:  \n",
    "- Measure the time your algorithm needs to generate the list of primes, using the time() function from the time package. How can you make you algorithm more efficient?\n",
    "- If you want to reuse functions you have written in later projects it makes sense to create your own \"module\" file (e.g. my_useful_functions.py) Then you can simply include them in any notebook you write by  \n",
    "include my_useful_functions.py as myfcts  \n",
    "(And it you think those functions could also be useful for others, post them to github :-)  \n",
    "- If you don't want to recalculate your prime list every time you run this notebook, you could also consider writing it into a file using the hdf5 input output routines mentioned earlier. This is something you will frequently need when doing larger scales numerical simulatations.\n",
    "- Check out some online tutorials. I found this one useful: https://www.w3schools.com/python/ But there are many more. "
   ]
  },
  {
   "cell_type": "code",
   "execution_count": null,
   "metadata": {
    "collapsed": true
   },
   "outputs": [],
   "source": []
  }
 ],
 "metadata": {
  "kernelspec": {
   "display_name": "Python 3",
   "language": "python",
   "name": "python3"
  },
  "language_info": {
   "codemirror_mode": {
    "name": "ipython",
    "version": 3
   },
   "file_extension": ".py",
   "mimetype": "text/x-python",
   "name": "python",
   "nbconvert_exporter": "python",
   "pygments_lexer": "ipython3",
   "version": "3.6.3"
  }
 },
 "nbformat": 4,
 "nbformat_minor": 2
}
