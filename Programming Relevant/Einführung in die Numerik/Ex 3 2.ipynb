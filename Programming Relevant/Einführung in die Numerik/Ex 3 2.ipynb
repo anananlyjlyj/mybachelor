{
 "cells": [
  {
   "cell_type": "code",
   "execution_count": 2,
   "metadata": {
    "collapsed": false
   },
   "outputs": [
    {
     "name": "stdout",
     "output_type": "stream",
     "text": [
      "Lösung von 0 *x^2 + 0 *x + 0 =0: [-1.0, 0.0, 1.0]\n",
      "Lösung von 0 *x^2 + 0 *x + 1 =0: Keine reelle Lösung\n",
      "Lösung von 0 *x^2 + 1 *x + 0 =0: [0.0]\n",
      "Lösung von 0 *x^2 + 2 *x + 1 =0: [-0.5]\n",
      "Lösung von 2 *x^2 + 0 *x + 0 =0: [0]\n",
      "Lösung von 2 *x^2 + 0 *x + 1 =0: Keine reelle Lösung\n",
      "Lösung von 2 *x^2 + 0 *x + -4 =0: [1.4142135623730951, -1.4142135623730951]\n",
      "Lösung von 4 *x^2 + 2 *x + 0 =0: [-0.5, -0.0]\n",
      "Lösung von 1 *x^2 + 2 *x + -3 =0: [-3.0, 1.0]\n",
      "Lösung von 1 *x^2 + 2 *x + 1 =0: [-1.0, -1.0]\n",
      "Lösung von 1 *x^2 + 2 *x + 2 =0: []\n",
      "Lösung von -1 *x^2 + 0 *x + 0 =0: [0]\n",
      "Lösung von -1 *x^2 + 0 *x + -1 =0: Keine reelle Lösung\n",
      "Lösung von -4 *x^2 + 0 *x + 2 =0: [0.7071067811865476, -0.7071067811865476]\n",
      "Lösung von -1 *x^2 + 2 *x + 0 =0: [0.0]\n",
      "Lösung von -4 *x^2 + 8 *x + 12 =0: [-1.0, 3.0]\n",
      "Lösung von -1 *x^2 + 2 *x + -1 =0: [1.0, 1.0]\n",
      "Lösung von -1 *x^2 + 2 *x + -5 =0: []\n",
      "Lösung von 2500000000.0 *x^2 + -100000.0 *x + 1 =0: [1.9999999772626326e-05, 2.0000000227373677e-05]\n"
     ]
    }
   ],
   "source": [
    "import numpy as np\n",
    "import math\n",
    "\n",
    "alist = [0,0,0,0,2,2,2,4,1,1,1,-1,-1,-4,-1,-4,-1,-1,2.5e9]\n",
    "blist = [0,0,1,2,0,0,0,2,2,2,2,0,0,0,2,8,2,2,-1e5]\n",
    "clist = [0,1,0,1,0,1,-4,0,-3,1,2,0,-1,2,0,12,-1,-5,1]\n",
    "\n",
    "def equ(a, b, c):\n",
    "    x = []\n",
    "    if a == 0 and b != 0:\n",
    "        x.append(-c / b)\n",
    "    elif a == 0 and b == 0 and c == 0:\n",
    "        x.extend([-1.0, 0.0, 1.0])\n",
    "    elif a == 0 and b == 0:\n",
    "        return(\"Keine reelle Lösung\")\n",
    "    elif a != 0 and b == 0:\n",
    "        x2 = -c / a\n",
    "        if x2 == 0:\n",
    "            x.append(0)\n",
    "        elif x2 > 0:\n",
    "            x.extend([math.sqrt(x2), -math.sqrt(x2)])\n",
    "    else:\n",
    "        p = -b / a\n",
    "        q = c / a\n",
    "        u = p**2 / 4\n",
    "        v = u - q\n",
    "        if v < 0:\n",
    "            return x\n",
    "        w = math.sqrt(v)\n",
    "        y = p / 2 - w\n",
    "        if y == 0 and (abs(a * y * y + b * y + c) <= np.finfo(float).eps):\n",
    "            x.append(y)\n",
    "        else:\n",
    "            y2 = q / y\n",
    "            if(abs(a * y * y + b * y + c) <= abs((2 * a * y * y + b)) * np.finfo(float).eps):\n",
    "                x.append(y)\n",
    "            else:\n",
    "                x.append(\"nicht akzeptierte Lösung\")\n",
    "            if(abs(a * y2 * y2 + b * y2 + c) <= abs((2 * a * y2 * y2 + b)) * np.finfo(float).eps):\n",
    "                x.append(y2)\n",
    "            else:\n",
    "                x.append(\"nicht akzeptierte Lösung\")\n",
    "    if not x:\n",
    "        return(\"Keine reelle Lösung\")\n",
    "    return x\n",
    "\n",
    "for a, b, c in zip(alist, blist, clist):\n",
    "    print(\"Lösung von\", a, \"*x^2 +\", b, \"*x +\", c, \"=0:\", equ(a, b, c))\n"
   ]
  },
  {
   "cell_type": "code",
   "execution_count": null,
   "metadata": {
    "collapsed": true
   },
   "outputs": [],
   "source": []
  }
 ],
 "metadata": {
  "kernelspec": {
   "display_name": "Python 3",
   "language": "python",
   "name": "python3"
  },
  "language_info": {
   "codemirror_mode": {
    "name": "ipython",
    "version": 3
   },
   "file_extension": ".py",
   "mimetype": "text/x-python",
   "name": "python",
   "nbconvert_exporter": "python",
   "pygments_lexer": "ipython3",
   "version": "3.6.0"
  }
 },
 "nbformat": 4,
 "nbformat_minor": 2
}
