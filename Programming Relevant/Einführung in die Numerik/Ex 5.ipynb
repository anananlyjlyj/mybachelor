{
 "cells": [
  {
   "cell_type": "code",
   "execution_count": 1,
   "metadata": {
    "collapsed": false
   },
   "outputs": [
    {
     "name": "stdout",
     "output_type": "stream",
     "text": [
      "1.73333333333\n"
     ]
    }
   ],
   "source": [
    "import numpy as np\n",
    "import math\n",
    "import matplotlib.pyplot as plt\n",
    "\n",
    "# a)\n",
    "def approx(l, f):\n",
    "    h = np.zeros(l)\n",
    "    a = np.zeros(l)\n",
    "    for i in range(0, l):\n",
    "        h[i] = 2**(1 - i)\n",
    "        for j in range(1, int(2 / h[i])):\n",
    "            a[i] += f(-1 + j * h[i])\n",
    "        a[i] += 0.5 * f(-1) + 0.5 * f(1)\n",
    "        a[i] *= h[i]\n",
    "    # benutze Nevillsche Algorithmus\n",
    "    p = np.zeros([l, l])\n",
    "    for j in range(0, l):\n",
    "        p[j][0] = a[j]\n",
    "    for k in range(1, l):\n",
    "        for t in range (1 + k, l + 1):\n",
    "            p[l - t][k] = p[l - t][k - 1] - h[l - t] * (p[l - t + 1][k - 1] - p[l - t][k - 1])/(h[l - t + k] - h[l - t])\n",
    "    return p[0][l - 1]\n",
    "\n",
    "# test\n",
    "def f(x):\n",
    "    return x**4 - x**2 + 1\n",
    "print(approx(8, f))"
   ]
  },
  {
   "cell_type": "markdown",
   "metadata": {},
   "source": [
    "## Korrektur\n",
    "\n",
    "Testet euren Code, an so vielen Stellen wie m?glich. Das habt ihr gut bei a) gemacht.\n",
    "\n",
    "Bei b) h?ttet ihr schauen k?nnen, ob euer Skalarprodukt die richtigen Werte ausgibt. Bei c) h?tte man sich dann den PLot der Polynome anschauen k?nnen. Der Code sieht richtig aus.\n",
    "\n",
    "a) 4p\n",
    "\n",
    "b) 4p\n",
    "\n",
    "c) 2p\n",
    "\n",
    "10p"
   ]
  },
  {
   "cell_type": "code",
   "execution_count": 2,
   "metadata": {
    "collapsed": true
   },
   "outputs": [],
   "source": [
    "# b)\n",
    "# Tschebytschow Punkten\n",
    "def pkt(n):\n",
    "    p = np.zeros(n + 1)\n",
    "    for i in range(0, n + 1):\n",
    "        p[i] = -math.cos(math.pi * i / n)\n",
    "    return p\n",
    "    \n",
    "# Polynomdarstellung: p ist ein Array von Koeffizeienten\n",
    "def pd(p, n):\n",
    "    res = np.zeros(n)\n",
    "    pkt = pkt(n)\n",
    "    for i in range(n):\n",
    "        res[i] = sum(pkt[i]**k * p[k] for k in range(len(p)))\n",
    "    return res\n",
    "# Warum ergibt dieser Ansatz eine Basis von Pn?\n",
    "#        \n",
    "\n",
    "# interpolate Funktion aus der Vorlesung\n",
    "def interpolate(xi, x, y):\n",
    "    np1 = x.shape[0]\n",
    "    p = np.empty((np1, np1, xi.shape[0]))\n",
    "    for j in range(np1):\n",
    "        p[j,j,:] = y[j] * np.ones(xi.shape[0])\n",
    "        for k in range(1, j + 1):\n",
    "            i = j - k\n",
    "            p[i,i+k,:] = p[i,i+k-1,:] + ((xi - x[i]) / (x[i+k] - x[i])\n",
    "                                         * (p[i+1,i+k,:] - p[i,i+k-1,:]))\n",
    "    return p[0,np1-1,:]\n",
    "\n",
    "l = 10\n",
    "\n",
    "# berechne die Integral\n",
    "def skalarprod(p, q, k):\n",
    "    f = lambda t: interpolate(t, k, p) * interpolate(t, k, q)\n",
    "    res = approx(l, f)\n",
    "    return res"
   ]
  },
  {
   "cell_type": "code",
   "execution_count": 4,
   "metadata": {
    "collapsed": true
   },
   "outputs": [],
   "source": [
    "# c) Gram-Schmidt-Algorithmus\n",
    "def GSA(n):\n",
    "    pkt = pkt(n)\n",
    "    p = pd(np.ones(n)) # Monombasis\n",
    "    q = np.ones(len(pkt))\n",
    "    M = np.zeros([n, n])\n",
    "    for i in range(0, n):\n",
    "        M[i][0] = p[i]\n",
    "    M[0][1] /= math.sqrt(skalarprod(qd(M[0][1]), q, pkt))\n",
    "    for j in range(1, n):\n",
    "        for k in range(1, j + 1):\n",
    "            M[j][k] = M[j][k - 1] - skalarprod(qd(M[j][0]), qd(M[k - 1][k]), pkt) * M[j][0]\n",
    "        M[j][j+1] /= math.sqrt(skalarprod(qd(M[j][j], q, pkt))) *  M[j][j]\n",
    "    return M"
   ]
  },
  {
   "cell_type": "code",
   "execution_count": null,
   "metadata": {
    "collapsed": false
   },
   "outputs": [],
   "source": []
  }
 ],
 "metadata": {
  "anaconda-cloud": {},
  "kernelspec": {
   "display_name": "Python 3",
   "language": "python",
   "name": "python3"
  },
  "language_info": {
   "codemirror_mode": {
    "name": "ipython",
    "version": 3
   },
   "file_extension": ".py",
   "mimetype": "text/x-python",
   "name": "python",
   "nbconvert_exporter": "python",
   "pygments_lexer": "ipython3",
   "version": "3.6.0"
  }
 },
 "nbformat": 4,
 "nbformat_minor": 2
}
