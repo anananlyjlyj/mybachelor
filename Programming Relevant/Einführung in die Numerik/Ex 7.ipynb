{
 "cells": [
  {
   "cell_type": "markdown",
   "metadata": {},
   "source": [
    "## Korrektur \n",
    "\n",
    "die Aufgabe f) funktioniert bei mir leider nicht. -3\n",
    "\n",
    "12"
   ]
  },
  {
   "cell_type": "code",
   "execution_count": 2,
   "metadata": {
    "collapsed": false
   },
   "outputs": [
    {
     "name": "stdout",
     "output_type": "stream",
     "text": [
      "[0, 2, 1]\n",
      "[[ 3.          1.          6.        ]\n",
      " [ 0.33333333  0.66666667 -1.        ]\n",
      " [ 0.66666667  0.5        -0.5       ]]\n"
     ]
    }
   ],
   "source": [
    "# a)\n",
    "import numpy as np\n",
    "def lu_decomp(A):\n",
    "    n = len(A)\n",
    "    p = list(range(n))\n",
    "    for k in range(n - 1):\n",
    "        # finde maximales Element auf Spalte k\n",
    "        i = k\n",
    "        for j in range(k + 1, n):\n",
    "            if A[j][k] > A[k][k]:\n",
    "                i = j\n",
    "        if i != k: # swap rows k and i\n",
    "            p[k], p[i] = p[i], p[k] # swap using \"tuple unpacking\"\n",
    "            A[[k,i],:] = A[[i,k],:]\n",
    "        # Elimininationsschritt\n",
    "        for t in range(k + 1, n):\n",
    "            A[t][k] /= A[k][k]\n",
    "            for s in range(k + 1, n):\n",
    "                A[t][s] -= A[k][s] * A[t][k]\n",
    "    return p\n",
    "\n",
    "# test\n",
    "A = np.array([[3., 1., 6.], [2., 1., 3.], [1., 1., 1.]])\n",
    "A_orig = A.copy()\n",
    "p = lu_decomp(A)\n",
    "print(p)\n",
    "print(A)"
   ]
  },
  {
   "cell_type": "code",
   "execution_count": 3,
   "metadata": {
    "collapsed": false
   },
   "outputs": [
    {
     "name": "stdout",
     "output_type": "stream",
     "text": [
      "[[ 19.  -7.  -8.]]\n"
     ]
    }
   ],
   "source": [
    "# b)\n",
    "def lu_solve(p, A, b):\n",
    "    c = b.transpose()\n",
    "    if len(b) == 1:\n",
    "        n = len(c)\n",
    "        m = 1\n",
    "    else:\n",
    "        n, m = c.shape\n",
    "    x = np.zeros([n, m])\n",
    "    y = np.zeros([n, m])\n",
    "    # Vorwörtseinsetzen Ly = Pb\n",
    "    for i in range(n):\n",
    "        y[i] = c[p[i]]\n",
    "        for j in range(i):\n",
    "            y[i] -= A[i][j] * y[j]\n",
    "    # Rückwärtseinsetzen Rx = y\n",
    "    for l in range(n - 1, -1, -1):\n",
    "        x[l] = y[l]\n",
    "        for q in range(l + 1, n):\n",
    "            x[l] -= x[q] * A[l][q]\n",
    "        x[l] /= A[l][l]\n",
    "    # reshape if m == 1\n",
    "    if m == 1:\n",
    "        x = np.array(x.reshape(n, 1))\n",
    "    return x.transpose()\n",
    "\n",
    "# test\n",
    "b = np.array([[2, 7, 4]])\n",
    "x = lu_solve(p, A, b)\n",
    "print(x)"
   ]
  },
  {
   "cell_type": "code",
   "execution_count": 4,
   "metadata": {
    "collapsed": false
   },
   "outputs": [
    {
     "name": "stdout",
     "output_type": "stream",
     "text": [
      "[[ 0.55080712  0.0252388   0.01858274 ...,  0.25724593  0.35198997\n",
      "   0.79340511]\n",
      " [ 0.84080534  0.33666257  0.53859686 ...,  0.0356134   0.72933223\n",
      "   0.12931366]\n",
      " [ 0.13068085  0.94752191  0.76567964 ...,  0.13379294  0.16238563\n",
      "   0.88365469]\n",
      " ..., \n",
      " [ 0.24936089  0.15786513  0.51015251 ...,  0.93881846  0.89459819\n",
      "   0.71907259]\n",
      " [ 0.22131735  0.05972775  0.21322484 ...,  0.42699447  0.73825829\n",
      "   0.39348838]\n",
      " [ 0.80472699  0.72091407  0.13146348 ...,  0.86739473  0.10382197\n",
      "   0.54295915]]\n",
      "[[  4.18933334e-02  -1.27838866e+00  -1.56512449e-02 ...,  -2.27833494e-01\n",
      "   -4.00678859e-02   1.60813636e-01]\n",
      " [  7.90679968e-01   5.88236327e-02  -3.41623886e-01 ...,  -3.67445700e-01\n",
      "   -1.06339277e-01   2.18328474e-01]\n",
      " [ -1.38314362e+00   6.12549114e-01   9.67484398e-01 ...,  -6.01912257e-01\n",
      "    1.14345971e-01  -4.24783899e-01]\n",
      " ..., \n",
      " [  3.06200081e-01   5.42615101e-01  -3.85699069e-01 ...,   7.83872327e-01\n",
      "   -1.39523315e-02   2.03657737e-01]\n",
      " [ -7.69653713e-01  -1.55351777e+00   5.60156132e-01 ...,  -8.61525844e-01\n",
      "    1.34516589e-01   1.48112886e-01]\n",
      " [ -1.84835379e-01  -1.28745551e-01  -1.17189973e-03 ...,  -2.96637016e-01\n",
      "   -2.54248121e-01   3.98366848e-02]]\n",
      "[[  1.00000000e+00   3.88296466e-15   4.14920724e-15 ...,   1.24032729e-16\n",
      "   -2.77555756e-17  -3.88578059e-16]\n",
      " [  3.81709470e-16   1.00000000e+00  -2.26766249e-15 ...,  -1.36696210e-15\n",
      "   -2.77555756e-17   0.00000000e+00]\n",
      " [ -1.71749108e-16   7.24639263e-16   1.00000000e+00 ...,  -8.60422844e-16\n",
      "    2.22044605e-16   0.00000000e+00]\n",
      " ..., \n",
      " [ -3.86799881e-16  -1.22783732e-15  -1.22044346e-15 ...,   1.00000000e+00\n",
      "    1.66533454e-16  -1.11022302e-16]\n",
      " [ -2.11752568e-15  -5.43070615e-16   1.85409224e-14 ...,  -1.77635684e-15\n",
      "    1.00000000e+00  -2.22044605e-16]\n",
      " [  3.02306869e-16   4.82826699e-16   3.74785968e-16 ...,  -1.77635684e-15\n",
      "   -1.11022302e-16   1.00000000e+00]]\n",
      "2.23694841842e-13\n"
     ]
    }
   ],
   "source": [
    "# d)\n",
    "n = 40\n",
    "T = np.random.rand(n, n)\n",
    "print(T)\n",
    "T_orig = T.copy()\n",
    "bT = np.eye(n) # Einheitsmatrix\n",
    "pT = lu_decomp(T)\n",
    "InvT = lu_solve(pT, T, bT)\n",
    "print(InvT)\n",
    "print(InvT.dot(T_orig.transpose())) # test ob das Produkt zweier Matrizen eine Einheitsmatrix ist\n",
    "norm = np.linalg.norm(T_orig.dot(InvT.transpose()) - bT, np.inf)\n",
    "print(norm)"
   ]
  },
  {
   "cell_type": "code",
   "execution_count": 5,
   "metadata": {
    "collapsed": false
   },
   "outputs": [
    {
     "name": "stdout",
     "output_type": "stream",
     "text": [
      "17.1757114896\n"
     ]
    }
   ],
   "source": [
    "# e)\n",
    "def cond_inf(A):\n",
    "    A_orig = A.copy()\n",
    "    n = len(A)\n",
    "    b = np.eye(n)\n",
    "    p = lu_decomp(A)\n",
    "    InvA = lu_solve(p, A, b)\n",
    "    # finde das maximale Zeilensumme\n",
    "    maxA = sum(A_orig[0])\n",
    "    maxInvA = sum(InvA[0])\n",
    "    for i in range(n):\n",
    "        if sum(A_orig[i]) > maxA:\n",
    "            maxA = sum(A_orig[i])\n",
    "        if sum(InvA[i]) > maxInvA:\n",
    "            maxInvA = sum(InvA[i])\n",
    "    return maxA * maxInvA\n",
    "\n",
    "# test\n",
    "print(cond_inf(T_orig))"
   ]
  },
  {
   "cell_type": "code",
   "execution_count": 6,
   "metadata": {
    "collapsed": false
   },
   "outputs": [
    {
     "name": "stderr",
     "output_type": "stream",
     "text": [
      "/home/elias/anaconda3/lib/python3.5/site-packages/ipykernel/__main__.py:5: VisibleDeprecationWarning: using a non-integer number instead of an integer will result in an error in the future\n",
      "/home/elias/anaconda3/lib/python3.5/site-packages/ipykernel/__main__.py:8: VisibleDeprecationWarning: using a non-integer number instead of an integer will result in an error in the future\n"
     ]
    },
    {
     "name": "stdout",
     "output_type": "stream",
     "text": [
      "[ 1.  0.  0.  0.]\n",
      "[]\n",
      "[[ 1. -1.]\n",
      " [ 1.  1.]]\n",
      "[[ 1.         -1.          1.         -1.        ]\n",
      " [ 1.         -0.33333333  0.11111111 -0.03703704]\n",
      " [ 1.          0.33333333  0.11111111  0.03703704]\n",
      " [ 1.          1.          1.          1.        ]]\n"
     ]
    },
    {
     "ename": "ValueError",
     "evalue": "x and y must have same first dimension",
     "output_type": "error",
     "traceback": [
      "\u001b[0;31m---------------------------------------------------------------------------\u001b[0m",
      "\u001b[0;31mValueError\u001b[0m                                Traceback (most recent call last)",
      "\u001b[0;32m<ipython-input-6-025311962902>\u001b[0m in \u001b[0;36m<module>\u001b[0;34m()\u001b[0m\n\u001b[1;32m     31\u001b[0m \u001b[0;34m\u001b[0m\u001b[0m\n\u001b[1;32m     32\u001b[0m \u001b[0;32mimport\u001b[0m \u001b[0mmatplotlib\u001b[0m\u001b[0;34m.\u001b[0m\u001b[0mpyplot\u001b[0m \u001b[0;32mas\u001b[0m \u001b[0mplt\u001b[0m\u001b[0;34m\u001b[0m\u001b[0m\n\u001b[0;32m---> 33\u001b[0;31m \u001b[0mplt\u001b[0m\u001b[0;34m.\u001b[0m\u001b[0mplot\u001b[0m\u001b[0;34m(\u001b[0m\u001b[0mN\u001b[0m\u001b[0;34m,\u001b[0m \u001b[0mkz1\u001b[0m\u001b[0;34m)\u001b[0m\u001b[0;34m\u001b[0m\u001b[0m\n\u001b[0m\u001b[1;32m     34\u001b[0m \u001b[0mplt\u001b[0m\u001b[0;34m.\u001b[0m\u001b[0mplot\u001b[0m\u001b[0;34m(\u001b[0m\u001b[0mN\u001b[0m\u001b[0;34m,\u001b[0m \u001b[0mkz2\u001b[0m\u001b[0;34m)\u001b[0m\u001b[0;34m\u001b[0m\u001b[0m\n\u001b[1;32m     35\u001b[0m \u001b[0mplt\u001b[0m\u001b[0;34m.\u001b[0m\u001b[0mshow\u001b[0m\u001b[0;34m(\u001b[0m\u001b[0;34m)\u001b[0m\u001b[0;34m\u001b[0m\u001b[0m\n",
      "\u001b[0;32m/home/elias/anaconda3/lib/python3.5/site-packages/matplotlib/pyplot.py\u001b[0m in \u001b[0;36mplot\u001b[0;34m(*args, **kwargs)\u001b[0m\n\u001b[1;32m   3159\u001b[0m         \u001b[0max\u001b[0m\u001b[0;34m.\u001b[0m\u001b[0mhold\u001b[0m\u001b[0;34m(\u001b[0m\u001b[0mhold\u001b[0m\u001b[0;34m)\u001b[0m\u001b[0;34m\u001b[0m\u001b[0m\n\u001b[1;32m   3160\u001b[0m     \u001b[0;32mtry\u001b[0m\u001b[0;34m:\u001b[0m\u001b[0;34m\u001b[0m\u001b[0m\n\u001b[0;32m-> 3161\u001b[0;31m         \u001b[0mret\u001b[0m \u001b[0;34m=\u001b[0m \u001b[0max\u001b[0m\u001b[0;34m.\u001b[0m\u001b[0mplot\u001b[0m\u001b[0;34m(\u001b[0m\u001b[0;34m*\u001b[0m\u001b[0margs\u001b[0m\u001b[0;34m,\u001b[0m \u001b[0;34m**\u001b[0m\u001b[0mkwargs\u001b[0m\u001b[0;34m)\u001b[0m\u001b[0;34m\u001b[0m\u001b[0m\n\u001b[0m\u001b[1;32m   3162\u001b[0m     \u001b[0;32mfinally\u001b[0m\u001b[0;34m:\u001b[0m\u001b[0;34m\u001b[0m\u001b[0m\n\u001b[1;32m   3163\u001b[0m         \u001b[0max\u001b[0m\u001b[0;34m.\u001b[0m\u001b[0mhold\u001b[0m\u001b[0;34m(\u001b[0m\u001b[0mwashold\u001b[0m\u001b[0;34m)\u001b[0m\u001b[0;34m\u001b[0m\u001b[0m\n",
      "\u001b[0;32m/home/elias/anaconda3/lib/python3.5/site-packages/matplotlib/__init__.py\u001b[0m in \u001b[0;36minner\u001b[0;34m(ax, *args, **kwargs)\u001b[0m\n\u001b[1;32m   1817\u001b[0m                     warnings.warn(msg % (label_namer, func.__name__),\n\u001b[1;32m   1818\u001b[0m                                   RuntimeWarning, stacklevel=2)\n\u001b[0;32m-> 1819\u001b[0;31m             \u001b[0;32mreturn\u001b[0m \u001b[0mfunc\u001b[0m\u001b[0;34m(\u001b[0m\u001b[0max\u001b[0m\u001b[0;34m,\u001b[0m \u001b[0;34m*\u001b[0m\u001b[0margs\u001b[0m\u001b[0;34m,\u001b[0m \u001b[0;34m**\u001b[0m\u001b[0mkwargs\u001b[0m\u001b[0;34m)\u001b[0m\u001b[0;34m\u001b[0m\u001b[0m\n\u001b[0m\u001b[1;32m   1820\u001b[0m         \u001b[0mpre_doc\u001b[0m \u001b[0;34m=\u001b[0m \u001b[0minner\u001b[0m\u001b[0;34m.\u001b[0m\u001b[0m__doc__\u001b[0m\u001b[0;34m\u001b[0m\u001b[0m\n\u001b[1;32m   1821\u001b[0m         \u001b[0;32mif\u001b[0m \u001b[0mpre_doc\u001b[0m \u001b[0;32mis\u001b[0m \u001b[0;32mNone\u001b[0m\u001b[0;34m:\u001b[0m\u001b[0;34m\u001b[0m\u001b[0m\n",
      "\u001b[0;32m/home/elias/anaconda3/lib/python3.5/site-packages/matplotlib/axes/_axes.py\u001b[0m in \u001b[0;36mplot\u001b[0;34m(self, *args, **kwargs)\u001b[0m\n\u001b[1;32m   1380\u001b[0m         \u001b[0mkwargs\u001b[0m \u001b[0;34m=\u001b[0m \u001b[0mcbook\u001b[0m\u001b[0;34m.\u001b[0m\u001b[0mnormalize_kwargs\u001b[0m\u001b[0;34m(\u001b[0m\u001b[0mkwargs\u001b[0m\u001b[0;34m,\u001b[0m \u001b[0m_alias_map\u001b[0m\u001b[0;34m)\u001b[0m\u001b[0;34m\u001b[0m\u001b[0m\n\u001b[1;32m   1381\u001b[0m \u001b[0;34m\u001b[0m\u001b[0m\n\u001b[0;32m-> 1382\u001b[0;31m         \u001b[0;32mfor\u001b[0m \u001b[0mline\u001b[0m \u001b[0;32min\u001b[0m \u001b[0mself\u001b[0m\u001b[0;34m.\u001b[0m\u001b[0m_get_lines\u001b[0m\u001b[0;34m(\u001b[0m\u001b[0;34m*\u001b[0m\u001b[0margs\u001b[0m\u001b[0;34m,\u001b[0m \u001b[0;34m**\u001b[0m\u001b[0mkwargs\u001b[0m\u001b[0;34m)\u001b[0m\u001b[0;34m:\u001b[0m\u001b[0;34m\u001b[0m\u001b[0m\n\u001b[0m\u001b[1;32m   1383\u001b[0m             \u001b[0mself\u001b[0m\u001b[0;34m.\u001b[0m\u001b[0madd_line\u001b[0m\u001b[0;34m(\u001b[0m\u001b[0mline\u001b[0m\u001b[0;34m)\u001b[0m\u001b[0;34m\u001b[0m\u001b[0m\n\u001b[1;32m   1384\u001b[0m             \u001b[0mlines\u001b[0m\u001b[0;34m.\u001b[0m\u001b[0mappend\u001b[0m\u001b[0;34m(\u001b[0m\u001b[0mline\u001b[0m\u001b[0;34m)\u001b[0m\u001b[0;34m\u001b[0m\u001b[0m\n",
      "\u001b[0;32m/home/elias/anaconda3/lib/python3.5/site-packages/matplotlib/axes/_base.py\u001b[0m in \u001b[0;36m_grab_next_args\u001b[0;34m(self, *args, **kwargs)\u001b[0m\n\u001b[1;32m    379\u001b[0m                 \u001b[0;32mreturn\u001b[0m\u001b[0;34m\u001b[0m\u001b[0m\n\u001b[1;32m    380\u001b[0m             \u001b[0;32mif\u001b[0m \u001b[0mlen\u001b[0m\u001b[0;34m(\u001b[0m\u001b[0mremaining\u001b[0m\u001b[0;34m)\u001b[0m \u001b[0;34m<=\u001b[0m \u001b[0;36m3\u001b[0m\u001b[0;34m:\u001b[0m\u001b[0;34m\u001b[0m\u001b[0m\n\u001b[0;32m--> 381\u001b[0;31m                 \u001b[0;32mfor\u001b[0m \u001b[0mseg\u001b[0m \u001b[0;32min\u001b[0m \u001b[0mself\u001b[0m\u001b[0;34m.\u001b[0m\u001b[0m_plot_args\u001b[0m\u001b[0;34m(\u001b[0m\u001b[0mremaining\u001b[0m\u001b[0;34m,\u001b[0m \u001b[0mkwargs\u001b[0m\u001b[0;34m)\u001b[0m\u001b[0;34m:\u001b[0m\u001b[0;34m\u001b[0m\u001b[0m\n\u001b[0m\u001b[1;32m    382\u001b[0m                     \u001b[0;32myield\u001b[0m \u001b[0mseg\u001b[0m\u001b[0;34m\u001b[0m\u001b[0m\n\u001b[1;32m    383\u001b[0m                 \u001b[0;32mreturn\u001b[0m\u001b[0;34m\u001b[0m\u001b[0m\n",
      "\u001b[0;32m/home/elias/anaconda3/lib/python3.5/site-packages/matplotlib/axes/_base.py\u001b[0m in \u001b[0;36m_plot_args\u001b[0;34m(self, tup, kwargs)\u001b[0m\n\u001b[1;32m    357\u001b[0m             \u001b[0mx\u001b[0m\u001b[0;34m,\u001b[0m \u001b[0my\u001b[0m \u001b[0;34m=\u001b[0m \u001b[0mindex_of\u001b[0m\u001b[0;34m(\u001b[0m\u001b[0mtup\u001b[0m\u001b[0;34m[\u001b[0m\u001b[0;34m-\u001b[0m\u001b[0;36m1\u001b[0m\u001b[0;34m]\u001b[0m\u001b[0;34m)\u001b[0m\u001b[0;34m\u001b[0m\u001b[0m\n\u001b[1;32m    358\u001b[0m \u001b[0;34m\u001b[0m\u001b[0m\n\u001b[0;32m--> 359\u001b[0;31m         \u001b[0mx\u001b[0m\u001b[0;34m,\u001b[0m \u001b[0my\u001b[0m \u001b[0;34m=\u001b[0m \u001b[0mself\u001b[0m\u001b[0;34m.\u001b[0m\u001b[0m_xy_from_xy\u001b[0m\u001b[0;34m(\u001b[0m\u001b[0mx\u001b[0m\u001b[0;34m,\u001b[0m \u001b[0my\u001b[0m\u001b[0;34m)\u001b[0m\u001b[0;34m\u001b[0m\u001b[0m\n\u001b[0m\u001b[1;32m    360\u001b[0m \u001b[0;34m\u001b[0m\u001b[0m\n\u001b[1;32m    361\u001b[0m         \u001b[0;32mif\u001b[0m \u001b[0mself\u001b[0m\u001b[0;34m.\u001b[0m\u001b[0mcommand\u001b[0m \u001b[0;34m==\u001b[0m \u001b[0;34m'plot'\u001b[0m\u001b[0;34m:\u001b[0m\u001b[0;34m\u001b[0m\u001b[0m\n",
      "\u001b[0;32m/home/elias/anaconda3/lib/python3.5/site-packages/matplotlib/axes/_base.py\u001b[0m in \u001b[0;36m_xy_from_xy\u001b[0;34m(self, x, y)\u001b[0m\n\u001b[1;32m    217\u001b[0m         \u001b[0my\u001b[0m \u001b[0;34m=\u001b[0m \u001b[0m_check_1d\u001b[0m\u001b[0;34m(\u001b[0m\u001b[0my\u001b[0m\u001b[0;34m)\u001b[0m\u001b[0;34m\u001b[0m\u001b[0m\n\u001b[1;32m    218\u001b[0m         \u001b[0;32mif\u001b[0m \u001b[0mx\u001b[0m\u001b[0;34m.\u001b[0m\u001b[0mshape\u001b[0m\u001b[0;34m[\u001b[0m\u001b[0;36m0\u001b[0m\u001b[0;34m]\u001b[0m \u001b[0;34m!=\u001b[0m \u001b[0my\u001b[0m\u001b[0;34m.\u001b[0m\u001b[0mshape\u001b[0m\u001b[0;34m[\u001b[0m\u001b[0;36m0\u001b[0m\u001b[0;34m]\u001b[0m\u001b[0;34m:\u001b[0m\u001b[0;34m\u001b[0m\u001b[0m\n\u001b[0;32m--> 219\u001b[0;31m             \u001b[0;32mraise\u001b[0m \u001b[0mValueError\u001b[0m\u001b[0;34m(\u001b[0m\u001b[0;34m\"x and y must have same first dimension\"\u001b[0m\u001b[0;34m)\u001b[0m\u001b[0;34m\u001b[0m\u001b[0m\n\u001b[0m\u001b[1;32m    220\u001b[0m         \u001b[0;32mif\u001b[0m \u001b[0mx\u001b[0m\u001b[0;34m.\u001b[0m\u001b[0mndim\u001b[0m \u001b[0;34m>\u001b[0m \u001b[0;36m2\u001b[0m \u001b[0;32mor\u001b[0m \u001b[0my\u001b[0m\u001b[0;34m.\u001b[0m\u001b[0mndim\u001b[0m \u001b[0;34m>\u001b[0m \u001b[0;36m2\u001b[0m\u001b[0;34m:\u001b[0m\u001b[0;34m\u001b[0m\u001b[0m\n\u001b[1;32m    221\u001b[0m             \u001b[0;32mraise\u001b[0m \u001b[0mValueError\u001b[0m\u001b[0;34m(\u001b[0m\u001b[0;34m\"x and y can be no greater than 2-D\"\u001b[0m\u001b[0;34m)\u001b[0m\u001b[0;34m\u001b[0m\u001b[0m\n",
      "\u001b[0;31mValueError\u001b[0m: x and y must have same first dimension"
     ]
    }
   ],
   "source": [
    "import math\n",
    "x = 6\n",
    "N = np.arange(0, x, 2)\n",
    "# Konditionszahl\n",
    "kz1 = np.zeros(x / 2 + 1)\n",
    "kz1[0] = 1\n",
    "print(kz1)\n",
    "kz2 = np.zeros(x / 2 + 1)\n",
    "for n in N:\n",
    "    # Monombasis\n",
    "    def Mphy(k, x):\n",
    "        return x**k\n",
    "    def Mpkt(i):\n",
    "        return -1 + 2 * i / (n - 1)\n",
    "    V1 = np.zeros([n, n])\n",
    "    for i in range(n):\n",
    "        for j in range(n):\n",
    "            V1[i][j] = Mphy(j, Mpkt(i))\n",
    "    print(V1)\n",
    "    #kz1[n/2] = cond_inf(V1)\n",
    "    # Tschebytschow-Basis\n",
    "    def Tphy(k, x):\n",
    "        return math.cos(k * math.acos(x))\n",
    "    def Tpkt(i):\n",
    "        return cos(i * math.pi / n)\n",
    "    V2 = np.zeros([n, n])\n",
    "    for k in range(n):\n",
    "        for l in range(n):\n",
    "            V2[k][l] = Mphy(l, Mpkt(k))\n",
    "    #kz2[n/2] = cond_inf(V2)\n",
    "    \n",
    "import matplotlib.pyplot as plt\n",
    "plt.plot(N, kz1)\n",
    "plt.plot(N, kz2)\n",
    "plt.show()"
   ]
  }
 ],
 "metadata": {
  "anaconda-cloud": {},
  "kernelspec": {
   "display_name": "Python 3",
   "language": "python",
   "name": "python3"
  },
  "language_info": {
   "codemirror_mode": {
    "name": "ipython",
    "version": 3
   },
   "file_extension": ".py",
   "mimetype": "text/x-python",
   "name": "python",
   "nbconvert_exporter": "python",
   "pygments_lexer": "ipython3",
   "version": "3.6.0"
  }
 },
 "nbformat": 4,
 "nbformat_minor": 2
}
