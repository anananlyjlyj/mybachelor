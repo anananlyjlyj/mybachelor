{
 "cells": [
  {
   "cell_type": "code",
   "execution_count": 13,
   "metadata": {
    "collapsed": false
   },
   "outputs": [
    {
     "name": "stdout",
     "output_type": "stream",
     "text": [
      "n = 1\n",
      "||A - QR|| : 2.220446049250313e-16\n",
      "||ATA - RTR|| : 0.9777777777777774\n",
      "||ATA - LLT|| : 0.9777777777777774\n",
      "cond:  19.2814700679\n",
      "n = 2\n",
      "||A - QR|| : 8.881784197001252e-16\n",
      "||ATA - RTR|| : 2.430649801729531\n",
      "||ATA - LLT|| : 2.430649801729569\n",
      "cond:  15513.7387389\n",
      "n = 3\n",
      "||A - QR|| : 5.551115123125783e-16\n",
      "||ATA - RTR|| : 4.258773254069064\n",
      "ERROR!\n",
      "cond:  15257575566.6\n",
      "n = 4\n",
      "||A - QR|| : 1.3739009929736312e-15\n",
      "Error.\n",
      "ERROR!\n",
      "cond:  4.88749497963e+17\n",
      "n = 5\n",
      "||A - QR|| : 1.6653345369377348e-15\n",
      "Error.\n",
      "ERROR!\n",
      "cond:  6.10033390323e+18\n",
      "n = 6\n",
      "||A - QR|| : 2.2776919239575477e-15\n",
      "Error.\n",
      "ERROR!\n",
      "cond:  1.74241315333e+19\n",
      "n = 7\n",
      "||A - QR|| : 5.702036065535765e-15\n",
      "Error.\n",
      "ERROR!\n",
      "cond:  4.71458649366e+19\n",
      "n = 8\n",
      "||A - QR|| : 4.5232914636095245e-15\n",
      "Error.\n",
      "ERROR!\n",
      "cond:  8.05283299776e+19\n",
      "n = 9\n",
      "||A - QR|| : 8.295447662121092e-15\n",
      "Error.\n",
      "ERROR!\n",
      "cond:  1.37687182224e+20\n",
      "n = 10\n",
      "||A - QR|| : 1.139279642847768e-14\n",
      "Error.\n",
      "ERROR!\n",
      "cond:  8.37625737846e+20\n"
     ]
    }
   ],
   "source": [
    "import scipy.linalg as la\n",
    "import numpy as np\n",
    "\n",
    "N = np.arange(10) + 1\n",
    "for n in N:\n",
    "    print(\"n =\", n)\n",
    "    A = la.hilbert(2**n)                      # Hilbert-Matrix\n",
    "    q, r = la.qr(A)                           # QR-Zerlegung mit Housholder-Transformationen\n",
    "    genau = la.norm(A - q.dot(r), np.inf)     # Defektnorm\n",
    "    print('||A - QR|| :', genau)\n",
    "    ATA = A.transpose().dot(A)\n",
    "    try:\n",
    "        R = la.cholesky(ATA, lower = True)    # Cholesky-Zerlegung, ATA = RTR\n",
    "        genauR = la.norm(ATA - R.transpose().dot(R), np.inf)\n",
    "        print('||ATA - RTR|| :', genauR)\n",
    "    except:\n",
    "        print('Error.')\n",
    "    try:\n",
    "        L = la.cholesky(ATA)                  # Cholesky-Zerlegung, ATA = LLT\n",
    "        genauL = la.norm(ATA - L.dot(L.transpose()), np.inf)\n",
    "        print('||ATA - LLT|| :', genauL)\n",
    "    except:\n",
    "        print(\"ERROR!\")\n",
    "    # c)\n",
    "    s= la.svd(A, compute_uv=False)\n",
    "    cond = s[0] / s[2**n - 1]                 # cond = sigma1 / sigma p \n",
    "    print('cond: ', cond)\n",
    "    "
   ]
  }
 ],
 "metadata": {
  "kernelspec": {
   "display_name": "Python 3",
   "language": "python",
   "name": "python3"
  },
  "language_info": {
   "codemirror_mode": {
    "name": "ipython",
    "version": 3
   },
   "file_extension": ".py",
   "mimetype": "text/x-python",
   "name": "python",
   "nbconvert_exporter": "python",
   "pygments_lexer": "ipython3",
   "version": "3.6.0"
  }
 },
 "nbformat": 4,
 "nbformat_minor": 2
}
