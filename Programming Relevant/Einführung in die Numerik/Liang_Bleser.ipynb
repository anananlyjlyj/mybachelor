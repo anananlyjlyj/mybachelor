{
 "cells": [
  {
   "cell_type": "code",
   "execution_count": 19,
   "metadata": {
    "collapsed": false
   },
   "outputs": [
    {
     "name": "stdout",
     "output_type": "stream",
     "text": [
      "[  17.   145.5]\n"
     ]
    }
   ],
   "source": [
    "import numpy as np\n",
    "import matplotlib.pyplot as plt\n",
    "import numpy.polynomial.legendre as leg\n",
    "\n",
    "# a)\n",
    "def eval_legendre(n, x):\n",
    "    res = np.zeros(2)\n",
    "    if n == 0:\n",
    "        res[0] = 1\n",
    "    else:\n",
    "        L0 = 1\n",
    "        L0abl = 0\n",
    "        L1 = x\n",
    "        L1abl = 1\n",
    "        res[0] = x\n",
    "        res[1] = 1\n",
    "        for i in range(1, n):\n",
    "            res[0] = ((2 * i + 1) * x * L1 - i * L0) / (i + 1)     # Ln(x)\n",
    "            res[1] = (2 * i + 1) * (L1 + x * L1abl) - i * L0abl    # Ln'(x)\n",
    "            L0 = L1\n",
    "            L1 = res[0]\n",
    "            L0abl = L1abl\n",
    "            L1abl = res[1]\n",
    "    return res\n",
    "\n",
    "# test\n",
    "a = eval_legendre(3, 2)\n",
    "print(a)"
   ]
  },
  {
   "cell_type": "code",
   "execution_count": 32,
   "metadata": {
    "collapsed": false
   },
   "outputs": [],
   "source": [
    "# b)\n",
    "def newton_leg(n, x, xi, itmax = 100, tol = 1e-15):\n",
    "    res = 0              # result\n",
    "    loop = -1            # Anzahl der Iterationen\n",
    "    prod = 1             # Produkt von (x - ksi_i)\n",
    "    summe = 0            # Summe von 1 / (x - ksi_i)\n",
    "    for i in xi:\n",
    "        prod *= x - i\n",
    "        summe += 1 / (x - i)\n",
    "    while 1:\n",
    "        loop += 1\n",
    "        Ln = eval_legendre(n, x)\n",
    "        if abs(Ln[0]) <= tol * abs(Ln[1] * x) or abs(Ln[0]) <= tol:        # Abbruchkriterium\n",
    "            if loop > itmax:\n",
    "                print('Mehl als itmax!')\n",
    "            return x\n",
    "        p = Ln[0] / prod                                                  # p(x)\n",
    "        pprime = Ln[1] / prod - Ln[0] * summe / prod                      # p'(x)\n",
    "        x -= p / (pprime - p * summe)                                     # new x"
   ]
  },
  {
   "cell_type": "code",
   "execution_count": 100,
   "metadata": {
    "collapsed": true
   },
   "outputs": [],
   "source": [
    "# c)\n",
    "def legroots_newton(n):\n",
    "    ksi =np.array([])\n",
    "    xi = newton_leg(n, 1, ksi)\n",
    "    ksi = np.append(ksi, xi)\n",
    "    xi = newton_leg(n, 2 * xi - 1, ksi)\n",
    "    ksi = np.append(ksi, xi)\n",
    "    for i in range(n // 2 - 2):\n",
    "        xi = newton_leg(n, ksi[len(ksi) - 1] * 2 - ksi[len(ksi) - 2], ksi)\n",
    "        ksi = np.append(ksi, xi)\n",
    "    ksi = np.append(ksi, -1 * ksi)\n",
    "    return ksi"
   ]
  },
  {
   "cell_type": "code",
   "execution_count": 102,
   "metadata": {
    "collapsed": false
   },
   "outputs": [
    {
     "name": "stdout",
     "output_type": "stream",
     "text": [
      "Mehl als itmax!\n",
      "Mehl als itmax!\n",
      "[ 0.86113631  0.86113631 -0.86113631 -0.86113631]\n",
      "Mehl als itmax!\n",
      "Mehl als itmax!\n",
      "[ 0.90617985  0.90617985 -0.90617985 -0.90617985]\n"
     ]
    }
   ],
   "source": [
    "# d)\n",
    "print(legroots_newton(4))\n",
    "print(legroots_newton(5))"
   ]
  },
  {
   "cell_type": "code",
   "execution_count": 103,
   "metadata": {
    "collapsed": false
   },
   "outputs": [
    {
     "name": "stdout",
     "output_type": "stream",
     "text": [
      "n =  21\n"
     ]
    },
    {
     "name": "stderr",
     "output_type": "stream",
     "text": [
      "D:\\Anaconda\\lib\\site-packages\\ipykernel\\__main__.py:9: RuntimeWarning: divide by zero encountered in double_scalars\n"
     ]
    },
    {
     "ename": "TypeError",
     "evalue": "bad operand type for abs(): 'generator'",
     "output_type": "error",
     "traceback": [
      "\u001b[0;31m---------------------------------------------------------------------------\u001b[0m",
      "\u001b[0;31mTypeError\u001b[0m                                 Traceback (most recent call last)",
      "\u001b[0;32m<ipython-input-103-ae4802c8eed7>\u001b[0m in \u001b[0;36m<module>\u001b[0;34m()\u001b[0m\n\u001b[1;32m      5\u001b[0m     \u001b[0mnullstellen\u001b[0m \u001b[1;33m=\u001b[0m \u001b[0mlegroots_newton\u001b[0m\u001b[1;33m(\u001b[0m\u001b[0mn\u001b[0m\u001b[1;33m)\u001b[0m\u001b[1;33m\u001b[0m\u001b[0m\n\u001b[1;32m      6\u001b[0m     \u001b[0mplt\u001b[0m\u001b[1;33m.\u001b[0m\u001b[0mplot\u001b[0m\u001b[1;33m(\u001b[0m\u001b[0mnullstellen\u001b[0m\u001b[1;33m)\u001b[0m\u001b[1;33m\u001b[0m\u001b[0m\n\u001b[0;32m----> 7\u001b[0;31m     \u001b[0mprint\u001b[0m \u001b[1;33m(\u001b[0m\u001b[1;34m'Maximum: '\u001b[0m\u001b[1;33m,\u001b[0m \u001b[0mmax\u001b[0m\u001b[1;33m(\u001b[0m\u001b[0mabs\u001b[0m\u001b[1;33m(\u001b[0m\u001b[0mi\u001b[0m \u001b[1;32mfor\u001b[0m \u001b[0mi\u001b[0m \u001b[1;32min\u001b[0m \u001b[0mnullstellen\u001b[0m\u001b[1;33m)\u001b[0m\u001b[1;33m)\u001b[0m\u001b[1;33m)\u001b[0m\u001b[1;33m\u001b[0m\u001b[0m\n\u001b[0m\u001b[1;32m      8\u001b[0m \u001b[1;33m\u001b[0m\u001b[0m\n",
      "\u001b[0;31mTypeError\u001b[0m: bad operand type for abs(): 'generator'"
     ]
    }
   ],
   "source": [
    "# e)\n",
    "N = np.array([21, 51, 101, 201, 501, 1001])\n",
    "for n in N:\n",
    "    print('n = ', n)\n",
    "    nullstellen = legroots_newton(n)\n",
    "    plt.plot(nullstellen)\n",
    "    print ('Maximum: ', max(abs(i for i in nullstellen)))\n",
    "    "
   ]
  },
  {
   "cell_type": "code",
   "execution_count": 104,
   "metadata": {
    "collapsed": false
   },
   "outputs": [
    {
     "name": "stdout",
     "output_type": "stream",
     "text": [
      "[-0.86113631 -0.33998104  0.33998104  0.86113631]\n"
     ]
    }
   ],
   "source": [
    "# f)\n",
    "N = np.array([4])\n",
    "for n in N:\n",
    "    a = np.zeros(n + 1)\n",
    "    a[n] = 1\n",
    "    print(leg.legroots(a))"
   ]
  }
 ],
 "metadata": {
  "kernelspec": {
   "display_name": "Python 3",
   "language": "python",
   "name": "python3"
  },
  "language_info": {
   "codemirror_mode": {
    "name": "ipython",
    "version": 3
   },
   "file_extension": ".py",
   "mimetype": "text/x-python",
   "name": "python",
   "nbconvert_exporter": "python",
   "pygments_lexer": "ipython3",
   "version": "3.6.0"
  }
 },
 "nbformat": 4,
 "nbformat_minor": 2
}
