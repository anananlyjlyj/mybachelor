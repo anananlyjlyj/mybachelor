{
 "cells": [
  {
   "cell_type": "code",
   "execution_count": 1,
   "metadata": {
    "collapsed": true
   },
   "outputs": [],
   "source": [
    "import numpy as np\n",
    "import matplotlib.pyplot as plt\n",
    "%matplotlib inline\n",
    "# try to load a local style sheet for matplotlib\n",
    "# see http://matplotlib.org/users/style_sheets.html\n",
    "try:\n",
    "    plt.style.use('presentation')\n",
    "except:\n",
    "    pass # do nothing if it cannot be found"
   ]
  },
  {
   "cell_type": "markdown",
   "metadata": {},
   "source": [
    "# Richardsonsche Interpolation zum Limes\n",
    "\n",
    "Unser Ziel ist es, durch Auswerten einer numerischen Rechnung mit Ergebnis $a(h)$ f??r $h > 0$ das Ergebnis f??r $h \\to 0$ durch Auswertung des Interpolanten an der Stelle $h = 0$ zu approximieren.\n",
    "\n",
    "Wir benutzen das bekannte Neville-Schema zur Interpolation."
   ]
  },
  {
   "cell_type": "code",
   "execution_count": 2,
   "metadata": {
    "collapsed": true
   },
   "outputs": [],
   "source": [
    "def interpolate(xi, x, y):\n",
    "    np1 = x.shape[0]\n",
    "    p = np.empty((np1, np1, xi.shape[0]))\n",
    "    for j in range(np1):\n",
    "        p[j,j,:] = y[j] * np.ones(xi.shape[0])\n",
    "        for k in range(1, j + 1):\n",
    "            i = j - k\n",
    "            p[i,i+k,:] = p[i,i+k-1,:] + ((xi - x[i]) / (x[i+k] - x[i])\n",
    "                                         * (p[i+1,i+k,:] - p[i,i+k-1,:]))\n",
    "    return p[0,np1-1,:]"
   ]
  },
  {
   "cell_type": "markdown",
   "metadata": {},
   "source": [
    "## Beispiel 1: Numerische Differentiation\n",
    "\n",
    "Wir betrachten zentrale finite Differenzen der Form\n",
    "\n",
    "$$\\frac{f(x+h) - f(x-h)}{2 h} = f'(x) + \\sum_{i=1}^\\infty \\frac{f^{(2i+1)}(x)}{(2i)!} h^{2i}$$\n",
    "\n",
    "f??r die Funktion $f(x) = \\sin(x)$, d.h.,\n",
    "\n",
    "$$a(h) = \\frac{\\sin(x+h) - \\sin(x-h)}{2h} = \\frac{\\sin(h)}{h}.$$\n",
    "\n",
    "Die Auswertung f??r $h= 1/8, 1/16, 1/32$ ergibt:"
   ]
  },
  {
   "cell_type": "code",
   "execution_count": 8,
   "metadata": {
    "collapsed": false
   },
   "outputs": [
    {
     "name": "stdout",
     "output_type": "stream",
     "text": [
      "[ 0.99739787  0.99934909  0.99983725  0.99995931]\n"
     ]
    }
   ],
   "source": [
    "h = np.array([1/8, 1/16, 1/32, 1/64])\n",
    "a = np.sin(h) / h\n",
    "print(a)"
   ]
  },
  {
   "cell_type": "markdown",
   "metadata": {},
   "source": [
    "Durch Auswertung des Interpolanten (in $h^2$, weil $a$ eine gerade Funktion ist) an der Stelle $h=0$ erhalten wir einen deutlich kleineren Fehler:"
   ]
  },
  {
   "cell_type": "code",
   "execution_count": 4,
   "metadata": {
    "collapsed": false
   },
   "outputs": [
    {
     "name": "stdout",
     "output_type": "stream",
     "text": [
      "[ 0.]\n"
     ]
    },
    {
     "data": {
      "image/png": "[encoded data removed]",
      "text/plain": [
       "<matplotlib.figure.Figure at 0x214ac1a1710>"
      ]
     },
     "metadata": {},
     "output_type": "display_data"
    }
   ],
   "source": [
    "a_extrapolated = interpolate(np.zeros(1), h**2, a)\n",
    "print(a_extrapolated - 1)\n",
    "xi = np.logspace(-16, -1, 1001)\n",
    "plt.loglog(xi, abs(interpolate(xi, h**2, a) - 1))\n",
    "plt.loglog(h**2, abs(a - 1), 'r.')\n",
    "plt.xlabel('$h$')\n",
    "plt.ylabel('error $|a(h)-1|$')\n",
    "plt.show()"
   ]
  },
  {
   "cell_type": "markdown",
   "metadata": {},
   "source": [
    "## Beispiel 2: Die Regel von l'Hospital\n",
    "\n",
    "Wir m??chten gerne\n",
    "\n",
    "$$a(0) = \\lim_{x \\to 0^+} \\frac{\\cos(x) - 1}{\\sin(x)}$$\n",
    "\n",
    "berechnen. Nach l'Hospital wissen wir, dass $a(0) = 0$."
   ]
  },
  {
   "cell_type": "code",
   "execution_count": 5,
   "metadata": {
    "collapsed": false
   },
   "outputs": [
    {
     "name": "stdout",
     "output_type": "stream",
     "text": [
      "[-0.06258151 -0.03126018 -0.01562627 -0.00781266] [  3.73385453e-09]\n"
     ]
    },
    {
     "data": {
      "image/png": "[encoded data removed]",
      "text/plain": [
       "<matplotlib.figure.Figure at 0x214ac1a1320>"
      ]
     },
     "metadata": {},
     "output_type": "display_data"
    }
   ],
   "source": [
    "a = (np.cos(h) - 1) / np.sin(h)\n",
    "a_extrapolated = interpolate(np.zeros(1), h, a)\n",
    "print(a, a_extrapolated)\n",
    "plt.loglog(xi, abs(interpolate(xi, h, a)))\n",
    "plt.loglog(h, abs(a), 'r.')\n",
    "plt.xlabel('$h$')\n",
    "plt.ylabel('error $|a(h)|$')\n",
    "plt.show()"
   ]
  },
  {
   "cell_type": "code",
   "execution_count": null,
   "metadata": {
    "collapsed": true
   },
   "outputs": [],
   "source": []
  }
 ],
 "metadata": {
  "kernelspec": {
   "display_name": "Python 3",
   "language": "python",
   "name": "python3"
  },
  "language_info": {
   "codemirror_mode": {
    "name": "ipython",
    "version": 3
   },
   "file_extension": ".py",
   "mimetype": "text/x-python",
   "name": "python",
   "nbconvert_exporter": "python",
   "pygments_lexer": "ipython3",
   "version": "3.6.0"
  }
 },
 "nbformat": 4,
 "nbformat_minor": 2
}
