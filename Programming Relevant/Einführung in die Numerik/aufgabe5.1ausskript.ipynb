{
 "cells": [
  {
   "cell_type": "markdown",
   "metadata": {},
   "source": [
    "Aufgabe 5.1"
   ]
  },
  {
   "cell_type": "code",
   "execution_count": 2,
   "metadata": {
    "collapsed": false
   },
   "outputs": [
    {
     "name": "stdout",
     "output_type": "stream",
     "text": [
      "3.24319750469\n",
      "3.14176738376\n",
      "3.14159265359\n",
      "leer\n",
      "2.84217871765\n",
      "3.15087293969\n",
      "3.14159238716\n",
      "irgendwtwas\n",
      "3.0\n",
      "3.5\n",
      "3.25\n",
      "3.125\n",
      "3.1875\n",
      "3.15625\n",
      "3.140625\n",
      "3.1484375\n",
      "3.14453125\n",
      "3.142578125\n",
      "3.1416015625\n",
      "3.14111328125\n",
      "3.141357421875\n",
      "3.1414794921875\n",
      "3.14154052734375\n",
      "3.141571044921875\n",
      "3.1415863037109375\n",
      "3.1415939331054688\n",
      "3.141590118408203\n"
     ]
    },
    {
     "data": {
      "text/plain": [
       "(3.141592025756836, 19)"
      ]
     },
     "execution_count": 2,
     "metadata": {},
     "output_type": "execute_result"
    }
   ],
   "source": [
    "import numpy as np\n",
    "\n",
    "x_0 = 4.0\n",
    "\n",
    "# iteration 1\n",
    "def verfahren1(x_0,itmax):\n",
    "    x = x_0\n",
    "    for i in range(itmax):\n",
    "        dx = np.sin(x)\n",
    "        x = x + dx\n",
    "        print(x)\n",
    "        if (abs(x - np.pi)< 1E-6 ):\n",
    "            break\n",
    "    return(x)    \n",
    "\n",
    "def verfahren2(x_0,itmax):\n",
    "    #\n",
    "    x = x_0\n",
    "    for i in range(itmax):\n",
    "        dx = np.sin(x)/np.cos(x)\n",
    "        x = x - dx\n",
    "        print(x)\n",
    "        if (abs(x - np.pi)< 1E-6 ):\n",
    "            break\n",
    "    return(x)    \n",
    "\n",
    "\n",
    "verfahren1(x_0,10)\n",
    "print('leer')\n",
    "verfahren2(x_0,10)\n",
    "\n",
    "\n",
    "\n",
    "def verfahren3(f,a,b, itmax):\n",
    "    \n",
    "    for i in range(itmax):\n",
    "        \n",
    "        x = 0.5*(a+b)\n",
    "        if (f(a)*f(x) < 0):\n",
    "            b = x\n",
    "        else:\n",
    "            a = x\n",
    "        if (abs(x - np.pi)< 1E-6 ):\n",
    "            break\n",
    "        print(x)\n",
    "    return(x,i)\n",
    "print('irgendwtwas')\n",
    "verfahren3(np.sin,2,4,100)   \n",
    "#np.cos(np.pi)"
   ]
  },
  {
   "cell_type": "markdown",
   "metadata": {},
   "source": [
    "## Aufgabe\n",
    "\n",
    "$f(x)=sin(x)$\n",
    "\n",
    "$x_t = x_{t-1} + f(x_{t-1})$\n",
    "\n",
    "Wir definieren die Kontraktionsabbildung $g$\n",
    "\n",
    "$g(x) = x + f(x)$\n",
    "\n",
    "Wir setzen für f ein\n",
    "\n",
    "$g(x)=x+sin(x)$\n",
    "\n",
    "also\n",
    "\n",
    "$g'(x) = 1 + cos(x)$\n",
    "\n",
    "In der Nullstelle $\\pi$ gilt $cos(\\pi)=-1$ also $g'(\\pi)=0$. Also haben wir in dieser Nullstelle quadratische Konvergenz genau wie beim Newtonverfahren.\n",
    "\n",
    "Wir wissen, dass wir beim Newtonverfahren quadratische Konvergenz haben, rechnen, das aus Spaß an der Freude aber trotzdem nach.\n",
    "\n",
    "Die Iteration lautet\n",
    "\n",
    "$x_t= x_{t-1} - \\frac{f(x_{t-1})}{f'(x_{t-1})}$\n",
    "\n",
    "Nun $g(x) = x - sin(x)/cos(x)$\n",
    "\n",
    "$g'(x)=1 - \\frac{cos^2(x) +sin^2(x) }{cos^2(x)}$\n",
    "\n",
    "$sin(\\pi) = 0$ und damit $g'(\\pi)=0$"
   ]
  },
  {
   "cell_type": "markdown",
   "metadata": {},
   "source": [
    "## Aufgabe\n",
    "\n",
    "Was macht der folgende code?"
   ]
  },
  {
   "cell_type": "code",
   "execution_count": 9,
   "metadata": {
    "collapsed": true
   },
   "outputs": [],
   "source": [
    "import numpy as np\n",
    "import numpy.linalg as la\n",
    "\n",
    "def klausurfunktion(p, Matrix, vektor):\n",
    "    # p ist vektor von integern\n",
    "    # vektor is eine Matrix oder ein Vektor\n",
    "    n = Matrix.shape[0] # n ist anzahl der Zeilen\n",
    "    # kommentar\n",
    "    y = vektor[p,:]   #vertausche Zeilen von vektor, nach Reihenfolge in p\n",
    "    # löse Ly = Pb \n",
    "    for i in range(1, n):\n",
    "        y[i,:] -= Matrix[i,:i].dot(y[:i,:])\n",
    "    # löse Rx = y\n",
    "    x = y\n",
    "    for i in range(n-1, -1, -1):\n",
    "        x[i,:] -= Matrix[i,i+1:].dot(x[i+1:,:])\n",
    "        x[i,:] /= Matrix[i,i]\n",
    "    return x\n"
   ]
  },
  {
   "cell_type": "code",
   "execution_count": 13,
   "metadata": {
    "collapsed": false
   },
   "outputs": [
    {
     "name": "stdout",
     "output_type": "stream",
     "text": [
      "[[  5.   4.   6.]\n",
      " [ 15.  14.  18.]\n",
      " [ 35.  36.  51.]]\n",
      "[[ 35.          36.          51.        ]\n",
      " [  0.42857143  -1.42857143  -3.85714286]\n",
      " [  0.14285714   0.8          1.8       ]]\n",
      "[[ 0.73333333]\n",
      " [-1.        ]\n",
      " [ 0.22222222]]\n",
      "[[ 1.]\n",
      " [ 1.]\n",
      " [ 1.]]\n"
     ]
    }
   ],
   "source": [
    "def klausurfunktion2(A):\n",
    "    n = A.shape[0]\n",
    "    p = list(range(n))\n",
    "    for k in range(n-1):\n",
    "        # column pivoting\n",
    "        pj = k + np.argmax(abs(A[k:,k])) # finde pivot element\n",
    "        p[k], p[pj] = p[pj], p[k] # \n",
    "        A[[k,pj],:] = A[[pj,k],:]\n",
    "        # eliminate\n",
    "        A[k+1:,k] *= 1 / A[k,k]\n",
    "        for j in range(k+1, n):\n",
    "            A[j,k+1:] -= A[j,k] * A[k,k+1:]\n",
    "    return p\n",
    "\n",
    "\n",
    "A= np.array([[5,4,6],[15,14,18],[35,36,51]],dtype = float)\n",
    "A_copy = A.copy()\n",
    "\n",
    "b=np.array([1,1,1],dtype = float).reshape((3,1))\n",
    "print(A)\n",
    "\n",
    "\n",
    "p = klausurfunktion2(A)\n",
    "print(A)\n",
    "\n",
    "x = klausurfunktion(p,A,b)\n",
    "print(x)\n",
    "print(np.dot(A_copy,x))"
   ]
  },
  {
   "cell_type": "markdown",
   "metadata": {},
   "source": [
    "## Aufgabe\n",
    "\n",
    "Was macht der folgende Code\n"
   ]
  },
  {
   "cell_type": "code",
   "execution_count": 14,
   "metadata": {
    "collapsed": true
   },
   "outputs": [],
   "source": [
    "import numpy as np\n",
    "# A ist nxn Matrix\n",
    "def klausurfuntion3(A):\n",
    "\n",
    "    R = np.zeros((A.shape[1], A.shape[1]))\n",
    "    Q = np.zeros(A.shape)\n",
    "    for k in range(0, A.shape[1]):\n",
    "        R[k, k] = np.sqrt(np.dot(A[:, k], A[:, k]))   # berechne 2 Norm der k-ten Spalte\n",
    "        Q[:, k] = A[:, k]/R[k, k] # schreibe normierte k-te Spalte in Q\n",
    "        for j in range(k+1, A.shape[1]):\n",
    "            R[k, j] = np.dot(Q[:, k], A[:, j])\n",
    "            A[:, j] = A[:, j] - R[k, j]*Q[:, k]\n",
    "    return Q, R"
   ]
  },
  {
   "cell_type": "markdown",
   "metadata": {},
   "source": [
    "## Lösung\n",
    "\n",
    "\n",
    "\n",
    "Die Funktion berechnet die QR Zerlegung von A mit Gram Schmidt.\n",
    "\n",
    "Es gilt für die Spaltenvektoren von Q\n",
    "\n",
    "$$q_1 = \\frac{a_1}{\\|a_1\\|} $$\n",
    "\n",
    "Für k=2,...,n\n",
    "$$ \\tilde{q}_k = a_k - \\sum_{i=1}^{k-1} (a_k,q_i)_2 q_i, \\ \\ \\ q_k = \\frac{\\tilde{q}_k}{\\|\\tilde{q}_k\\|_2} $$\n",
    "\n",
    "\n",
    "Das ist der Gram-Schmidt Teil.\n",
    "\n",
    "Für die Einträge $r_{i,j}$ der Matrix R  gilt\n",
    "\n",
    "$$r_{kk} = \\|\\tilde{q}_k\\|_2 $$\n",
    "und\n",
    "$$ r_{ik} = (a_k,q_i)_2$$\n",
    "sowie\n",
    "$r_{ik} = 0$ für $i >k$.\n",
    "\n",
    "\n",
    "Warum sollte man diesen Algorithmus eigentlich nicht verwenden?\n",
    "\n",
    "Antwort: Aufgrund von Rundungsfehlern geht die orthongonalität in den Spalten von Q schnell verloren.\n",
    "\n",
    "Besser ist das Householder Verfahren."
   ]
  }
 ],
 "metadata": {
  "anaconda-cloud": {},
  "kernelspec": {
   "display_name": "Python [conda root]",
   "language": "python",
   "name": "conda-root-py"
  },
  "language_info": {
   "codemirror_mode": {
    "name": "ipython",
    "version": 3
   },
   "file_extension": ".py",
   "mimetype": "text/x-python",
   "name": "python",
   "nbconvert_exporter": "python",
   "pygments_lexer": "ipython3",
   "version": "3.5.2"
  }
 },
 "nbformat": 4,
 "nbformat_minor": 1
}
