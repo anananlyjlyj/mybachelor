{
 "cells": [
  {
   "cell_type": "markdown",
   "metadata": {},
   "source": [
    "# Comparison of various estimators for the variance of populations with normal or uniform distribution\n",
    "\n",
    "Compare the following four estimators for the variance of two populations distributed as N(0, 1) and U(0, 1)\n",
    "\n",
    "$$ \\tilde{\\sigma}^2=\\frac{1}{n+k}\\sum_{i=1}^n(x_i-\\tilde{\\mu})^2$$ with $k=-1,0,+1,+2$\n",
    "\n",
    "The population mean µ should be also estimated from the sample mean via $\\tilde{\\mu}=\\frac{1}{n}\\sum_{i=1}^nx_i$\n",
    "\n",
    "Use (n = 5) and (100000 realizations); the R-functions _matrix(), rowSums(), colSums(), rowMeans(), colMeans()_ are your friends\n",
    "\n",
    "* How big is the bias of the estimators? Is there an unbiased estimator among them? \n",
    "* Which estimator is most efficient? \n",
    "* Which estimator would you choose to estimate the population variance?"
   ]
  },
  {
   "cell_type": "code",
   "execution_count": null,
   "metadata": {
    "collapsed": true
   },
   "outputs": [],
   "source": [
    "# false understanding of n and realizations\n",
    "xi <- rnorm(100000)\n",
    "# xi <- runif(100000)\n",
    "n <- length(xi)\n",
    "mu <- sum(xi)/n\n",
    "sigma_n1 <- sum((xi-mu)^2)/(n-1)\n",
    "sigma_n1\n",
    "sigma_0 <- sum((xi-mu)^2)/n\n",
    "sigma_0\n",
    "sigma_1 <- sum((xi-mu)^2)/(n+1)\n",
    "sigma_1\n",
    "sigma_2 <- sum((xi-mu)^2)/(n+2)\n",
    "sigma_2"
   ]
  },
  {
   "cell_type": "code",
   "execution_count": 1,
   "metadata": {},
   "outputs": [
    {
     "name": "stdout",
     "output_type": "stream",
     "text": [
      "Bias of variance estimator \n",
      "========================== \n",
      "Bias with n+2:  -0.03573032 \n",
      "Bias with n+1:  -0.02779648 \n",
      "Bias with n  :  -0.01668911 \n",
      "Bias with n-1:  -2.805206e-05 \n",
      "\n",
      "Efficiency of variance estimator \n",
      "================================ \n",
      "MS deviation with n+2:  0.001867561 \n",
      "MS deviation with n+1:  0.001576932 \n",
      "MS deviation with n  :  0.001436701 \n",
      "MS deviation with n-1:  0.001809649 \n"
     ]
    }
   ],
   "source": [
    "varplus <- function(x,plus) {\n",
    "  # x is a matrix\n",
    "  n <- as.double(dim(x)[2])\n",
    "  d <- rowSums((x-rowMeans(x))^2)/(n+plus) # R \"recycles\" vectors\n",
    "  return(d)\n",
    "}\n",
    "\n",
    "nrow = 100000\n",
    "ncol = 5\n",
    "\n",
    "# Uniformly distributed random sample in [0,1]\n",
    "a <- matrix(runif(nrow*ncol),nrow,ncol) ; v0 <- 1.0/12.0\n",
    "# Gaussian random samples with zero mean and variance 1\n",
    "#a <- matrix(rnorm(nrow*ncol),nrow,ncol) ; v0 <- 1.0\n",
    "\n",
    "cat(\"Bias of variance estimator\", \"\\n\")\n",
    "cat(\"==========================\", \"\\n\")\n",
    "cat(\"Bias with n+2: \", mean(varplus(a, 2.0))-v0, \"\\n\")\n",
    "cat(\"Bias with n+1: \", mean(varplus(a, 1.0))-v0, \"\\n\")\n",
    "cat(\"Bias with n  : \", mean(varplus(a, 0.0))-v0, \"\\n\")\n",
    "cat(\"Bias with n-1: \", mean(varplus(a,-1.0))-v0, \"\\n\")\n",
    "cat(\"\\n\")\n",
    "cat(\"Efficiency of variance estimator\", \"\\n\")\n",
    "cat(\"================================\", \"\\n\")\n",
    "cat(\"MS deviation with n+2: \", mean((varplus(a, 2.0)-v0)^2), \"\\n\")\n",
    "cat(\"MS deviation with n+1: \", mean((varplus(a, 1.0)-v0)^2), \"\\n\")\n",
    "cat(\"MS deviation with n  : \", mean((varplus(a, 0.0)-v0)^2), \"\\n\")\n",
    "cat(\"MS deviation with n-1: \", mean((varplus(a,-1.0)-v0)^2), \"\\n\")"
   ]
  },
  {
   "cell_type": "code",
   "execution_count": 2,
   "metadata": {},
   "outputs": [
    {
     "data": {
      "text/html": [
       "1.55002859376269"
      ],
      "text/latex": [
       "1.55002859376269"
      ],
      "text/markdown": [
       "1.55002859376269"
      ],
      "text/plain": [
       "[1] 1.550029"
      ]
     },
     "metadata": {},
     "output_type": "display_data"
    },
    {
     "data": {
      "text/html": [
       "0.000713638854785137"
      ],
      "text/latex": [
       "0.000713638854785137"
      ],
      "text/markdown": [
       "0.000713638854785137"
      ],
      "text/plain": [
       "[1] 0.0007136389"
      ]
     },
     "metadata": {},
     "output_type": "display_data"
    },
    {
     "data": {
      "image/png": "[encoded data removed]",
      "text/plain": [
       "Plot with title \"Histogram of means\""
      ]
     },
     "metadata": {},
     "output_type": "display_data"
    }
   ],
   "source": [
    "# MCexample1\n",
    "fx <- function(x){\n",
    "    return(x^(-1/3)+x/10)\n",
    "}\n",
    "t <- matrix(runif(1000*10000),1000,10000) # also use cheating, runif(n, 0.1e-20, 1) avoid potential division by 0\n",
    "means <- colMeans(fx(t))\n",
    "hist(means)\n",
    "mean(means)\n",
    "var(means)"
   ]
  }
 ],
 "metadata": {
  "kernelspec": {
   "display_name": "R",
   "language": "R",
   "name": "ir"
  },
  "language_info": {
   "codemirror_mode": "r",
   "file_extension": ".r",
   "mimetype": "text/x-r-source",
   "name": "R",
   "pygments_lexer": "r",
   "version": "3.5.1"
  }
 },
 "nbformat": 4,
 "nbformat_minor": 2
}
