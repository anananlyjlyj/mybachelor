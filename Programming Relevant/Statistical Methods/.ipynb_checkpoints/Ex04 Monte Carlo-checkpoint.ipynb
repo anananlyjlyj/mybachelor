{
 "cells": [
  {
   "cell_type": "markdown",
   "metadata": {},
   "source": [
    "# Example 1: standard Monte Carlo integration\n",
    "\n",
    "$$I=\\int_{0}^{1}{(x^{-1/3}+\\frac{x}{10})dx}$$\n",
    "\n",
    "Analytically it has the value $I=31/20\\approx1.550$. The variance of the integral turns out to be $\\approx0.849$ so that we expect for the standard deviation of the width of the distribution of $I$\n",
    "\n",
    "$$\\sigma_{I}=\\sqrt{\\frac{<f^2>-<f>^2}{N}}\\approx\\frac{0.849}{\\sqrt N}$$\n",
    "\n",
    "Be careful of singularity.\n",
    "\n",
    "Perform M = 1000 Monte Carlo integrations, and plot the histogram of integrals! Does it correspond to the analytical expectations?"
   ]
  },
  {
   "cell_type": "code",
   "execution_count": 51,
   "metadata": {},
   "outputs": [
    {
     "name": "stdout",
     "output_type": "stream",
     "text": [
      "Standard deviation of MC integrals: 0.008846563 \n",
      "MC estimate of dispersion: 0.008411655 \n",
      "Analytical estimate of standard deviation of MC integrals: 0.00849 \n"
     ]
    },
    {
     "data": {
      "image/png": "[encoded data removed]",
      "text/plain": [
       "Plot with title \"Histogram of s\""
      ]
     },
     "metadata": {},
     "output_type": "display_data"
    }
   ],
   "source": [
    "# Solution\n",
    "#  Standard Monte Carlo Integration\n",
    "#\n",
    "\n",
    "np  <- 10000    # number of samples \n",
    "nmc <- 1000   # number of Monte Carlo runs\n",
    "#set.seed(12345)  # if reproducibility is required\n",
    "\n",
    "y1 <- array(dim=nmc)\n",
    "y2 <- array(dim=nmc)\n",
    "\n",
    "for (i in 1:nmc) {\n",
    "    x <- runif(np,min=1.0e-20) # cheating: min to avoid potential devision by 0\n",
    "    y <- x^(-1.0/3.0)+0.1*x\n",
    "    y1[i] = sum(y)/np\n",
    "    y2[i] = sum(y^2)/np\n",
    "}\n",
    "par(mfrow=c(2,1))\n",
    "hist(y1,breaks=(-50:50)*0.3/sqrt(np)+mean(y1),xlim=c(1.5,1.6), xlab=\"I_N\")\n",
    "lines(c(1,1)*1.550, c(0.0, 200), col=\"red\", lwd=4)\n",
    "\n",
    "s <- sqrt((y2-y1^2)/np)\n",
    "hist(s, breaks=(-50:50)*0.03/sqrt(np)+mean(s), xlim=c(0.0,0.02),xlab=\"sd(I_N)\")\n",
    "#lines(c(1,1)*0.849/sqrt(np), c(0.0, 700), col=\"red\", lwd=4)\n",
    "cat(\"Standard deviation of MC integrals:\", sd(y1), \"\\n\")\n",
    "cat(\"MC estimate of dispersion:\", sqrt(mean(y2-y1^2)/np), \"\\n\")\n",
    "cat(\"Analytical estimate of standard deviation of MC integrals:\", \n",
    "    0.849/sqrt(np), \"\\n\")"
   ]
  },
  {
   "cell_type": "code",
   "execution_count": 35,
   "metadata": {},
   "outputs": [
    {
     "data": {
      "text/html": [
       "1.55020866403412"
      ],
      "text/latex": [
       "1.55020866403412"
      ],
      "text/markdown": [
       "1.55020866403412"
      ],
      "text/plain": [
       "[1] 1.550209"
      ]
     },
     "metadata": {},
     "output_type": "display_data"
    },
    {
     "data": {
      "text/html": [
       "0.000698311861762793"
      ],
      "text/latex": [
       "0.000698311861762793"
      ],
      "text/markdown": [
       "0.000698311861762793"
      ],
      "text/plain": [
       "[1] 0.0006983119"
      ]
     },
     "metadata": {},
     "output_type": "display_data"
    },
    {
     "data": {
      "image/png": "[encoded data removed]",
      "text/plain": [
       "Plot with title \"Histogram of means\""
      ]
     },
     "metadata": {},
     "output_type": "display_data"
    }
   ],
   "source": [
    "# MCexample1\n",
    "fx <- function(x){\n",
    "    return(x^(-1/3)+x/10)\n",
    "}\n",
    "t <- matrix(runif(1000*10000),1000,10000) # also use cheating, runif(n, 1e-20, 1) avoid potential division by 0\n",
    "means <- colMeans(fx(t))\n",
    "hist(means)\n",
    "mean(means)\n",
    "var(means)"
   ]
  },
  {
   "cell_type": "markdown",
   "metadata": {},
   "source": [
    "# Example 2: Monte Carlo integration with importance sampling\n",
    "\n",
    "Repeat Example 1 with importance sampling, using the sampling probability $p(x) = \\frac{2}{3} x^{-1/3}$ over the interval $0<x\\leq1$. Note that $p(x)$ captures part of the shape of $f(x)$, while being simple enough to allow a creation of properly sampled points by direct inversion. For the standard deviation of $g ≡ f/p$ one gets\n",
    "\n",
    "$$\\sigma_{I}=\\sqrt{\\frac{<g^2>-<g>^2}{N}}\\approx\\frac{0.0448}{\\sqrt N}$$\n",
    "\n",
    "\n",
    "This is nearly 20 times better than obtained with plain sampling in Exercise 1.\n",
    "\n",
    "\n",
    "We get $g=\\frac{f}{p}=\\frac{3}{2}+\\frac{3}{20} x^{4/3}$,$dy = p(x)dx$, $y=\\int p(x)dx$, but since g is a function of x, so we use the inverse function"
   ]
  },
  {
   "cell_type": "code",
   "execution_count": null,
   "metadata": {
    "collapsed": true
   },
   "outputs": [],
   "source": [
    "# solution \n",
    "#  Monte Carlo Integration with importance sampling\n",
    "#\n",
    "\n",
    "forig <- function(x){\n",
    "  return(x^(-1.0/3.0)+0.1*x)\n",
    "}\n",
    "\n",
    "ftrans <- function(x){\n",
    "  fourthirds <- 4.0/3.0\n",
    "  return(1.5*(1.0+0.1*x^fourthirds))\n",
    "}\n",
    "\n",
    "np  <- 10000    # number of samples \n",
    "nmc <- 1000   # number of Monte Carlo runs\n",
    "#set.seed(12345)  # if reproducibility is required\n",
    "\n",
    "y1 <- array(dim=nmc)\n",
    "y2 <- array(dim=nmc)\n",
    "fourthirds <- 4.0/3.0\n",
    "\n",
    "for (i in 1:nmc) {\n",
    "\n",
    "x <- runif(np)\n",
    "x <- x^1.5     # transformation to new PDF\n",
    "y <- ftrans(x) # fairly constant function\n",
    "\n",
    "y1[i] = sum(y)/np\n",
    "y2[i] = sum(y^2)/np\n",
    "}\n",
    "hist(y1,breaks=(-50:50)*0.02/sqrt(np)+mean(y1),xlim=c(1.5,1.6))\n",
    "#hist(y1,breaks=50)\n",
    "cat(\"Mean of MC integrals:                                     \", mean(y1), \"\\n\")\n",
    "cat(\"Standard deviation of MC integrals:                       \", sd(y1), \"\\n\")\n",
    "cat(\"Analytical estimate of standard deviation of MC integrals:\", \n",
    "    0.0448/sqrt(np), \"\\n\")\n",
    "# Comment on standard deviation\n",
    "# x1 <- runif(1000000) # large number of samples\n",
    "# x2 <- x1^1.5\n",
    "# sd(forig(x1)) ; sd(forig(x2))  \n",
    "# sd(ftrans(x1)) ; sd(ftrans(x2))\n",
    "# mean(ftrans(x1))^2 ; mean(ftrans(x2))^2\n",
    "# mean(ftrans(x1)^2) ; mean(ftrans(x2)^2)"
   ]
  },
  {
   "cell_type": "code",
   "execution_count": 39,
   "metadata": {},
   "outputs": [
    {
     "data": {
      "text/html": [
       "1.55000374819585"
      ],
      "text/latex": [
       "1.55000374819585"
      ],
      "text/markdown": [
       "1.55000374819585"
      ],
      "text/plain": [
       "[1] 1.550004"
      ]
     },
     "metadata": {},
     "output_type": "display_data"
    },
    {
     "data": {
      "text/html": [
       "1.99087807012722e-06"
      ],
      "text/latex": [
       "1.99087807012722e-06"
      ],
      "text/markdown": [
       "1.99087807012722e-06"
      ],
      "text/plain": [
       "[1] 1.990878e-06"
      ]
     },
     "metadata": {},
     "output_type": "display_data"
    },
    {
     "data": {
      "image/png": "[encoded data removed]",
      "text/plain": [
       "Plot with title \"Histogram of means\""
      ]
     },
     "metadata": {},
     "output_type": "display_data"
    }
   ],
   "source": [
    "xi <- runif(1000,1e-20,1)\n",
    "g <- function(x){\n",
    "    return(1.5+3*x^(4/3)/20)\n",
    "}\n",
    "par(mfrow=c(2,1))\n",
    "plot(xi, g(xi))\n",
    "yi <- matrix(runif(1000*10000)^(3/2),1000,10000) # also use cheating, runif(n, 1e-20, 1) avoid potential division by 0\n",
    "means <- colMeans(g(yi))\n",
    "hist(means)\n",
    "mean(means)\n",
    "var(means)"
   ]
  },
  {
   "cell_type": "markdown",
   "metadata": {},
   "source": [
    "# Example: Samples from bivariate normal distribution generated with Metropolis-Hastings algorithm\n",
    "\n",
    "Generate samples of a PDF with the Metropolis-Hastings algorithm. \n",
    "\n",
    "* Use 2D Gaussian distribution, zero mean, standard deviation 1, covariance 0.6. \n",
    "\n",
    "* Update $q(x → x')$ with uniform distribution with variable “reach”\n",
    "\n",
    "* Start at unlikely location\n",
    "\n",
    "* Monitor the acceptance rate of the MH update step\n",
    "\n",
    "Hint: Use the R-fragment MCexample3.R.fragment in Moodle as a starting point. Only the Metropolis-Hastings part needs to be filled in.\n",
    "\n",
    "* What is your conclusion on the stepping in the random walk?\n",
    "\n",
    "* What is your take on the samples at the beginning of the chain? \n",
    "\n",
    "* What is the correlation among your samples?"
   ]
  },
  {
   "cell_type": "code",
   "execution_count": null,
   "metadata": {
    "collapsed": true
   },
   "outputs": [],
   "source": [
    "# Metropolis-Hastings demonstrating burn-in \n",
    "\n",
    "#set.seed(12345)  # if reproducibility is required\n",
    "library(MASS)     # for mvrnorm()\n",
    "\n",
    "nmh    <- 50000   # number of Metropolis-Hastings samples > 1 \n",
    "step   <- 0.1    # factor in proposal\n",
    "#step   <- 0.2    # factor in proposal\n",
    "\n",
    "# target probability density\n",
    "cm     <- matrix(c(1.0,0.6,0.6,1.0),2,2) # covariance matrix\n",
    "pnorm  <- 1.0/sqrt((2.0*pi)^2*det(cm))   # normalization of bivariate Gaussian   \n",
    "icm    <- solve(cm)                      # inverse covariance matrix\n",
    "p      <- function(x) pnorm * exp(-0.5 * t(x) %*% icm %*%x) \n",
    "\n",
    "# contour plot of bivariate Gaussian PDF \n",
    "xplot  <- seq(-5.0,5.0,0.2)   # zero centered x-values for plotting contour\n",
    "n      <- length(xplot)\n",
    "pplot  <- matrix(nrow=n,ncol=n)\n",
    "for (i in 1:n) for (j in 1:n) pplot[i,j] <- p( c(xplot[i],xplot[j]) )\n",
    "contour(xplot,xplot, pplot, asp=TRUE, xlab=\"x\", ylab=\"y\", \n",
    "  main=paste(toString(nmh),\" samples, mvrnorm (green), Metropolis-Hastings (red)\"))\n",
    "\n",
    "# overlay samples from bivariate Gaussian \n",
    "psam <- mvrnorm(nmh, c(0,0), cm)\n",
    "points(psam[,1],psam[,2], cex=0.1, col=rgb(0,0.3,0,alpha=0.5))\n",
    "\n",
    "# Metropolis-Hastings samples\n",
    "pmh <- matrix(nrow=nmh,ncol=2)                # matrix containing MH samples\n",
    "pmh[1,1] <- 5.0 ; pmh[1,2] <- -5.0            # start at unlikely location\n",
    "nAccept  <- 0\n",
    "for (i in 2:nmh) {\n",
    "    xcur  <- c(pmh[i-1,1],pmh[i-1,2])\n",
    "    xprop <- xcur + runif(2,-0.5,0.5)*step       # uncorrelated uniform change, symmetric\n",
    "    \n",
    "### Here goes your Metropolis-Hastings code\n",
    "    # the Hasting's ratio\n",
    "    pxprop <- p(xprop)\n",
    "    px <- p(xcur)\n",
    "    r <- min(1, pxprop/px)\n",
    "    # decide accept or not\n",
    "    u <- runif(1, -1, 1)\n",
    "    if(u < r){\n",
    "        nAccept <- nAccept + 1\n",
    "        pmh[i,] <- xprop\n",
    "    }\n",
    "    else{\n",
    "        pmh[i,] <- xcur\n",
    "    }\n",
    "\n",
    "}\n",
    "    \n",
    "points(pmh[,1],pmh[,2], cex=0.15, col=rgb(1.0,0.0,0,alpha=0.5))\n",
    "cat(\"Number of accepted points: \", nAccept, \"\\n\")"
   ]
  }
 ],
 "metadata": {
  "kernelspec": {
   "display_name": "R",
   "language": "R",
   "name": "ir"
  },
  "language_info": {
   "codemirror_mode": "r",
   "file_extension": ".r",
   "mimetype": "text/x-r-source",
   "name": "R",
   "pygments_lexer": "r",
   "version": "3.5.1"
  }
 },
 "nbformat": 4,
 "nbformat_minor": 2
}
