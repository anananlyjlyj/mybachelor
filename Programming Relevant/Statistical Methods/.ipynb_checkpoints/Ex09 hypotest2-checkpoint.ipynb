{
 "cells": [
  {
   "cell_type": "markdown",
   "metadata": {},
   "source": [
    "# Randomness\n",
    "\n",
    "We assume $\\alpha=0.1$"
   ]
  },
  {
   "cell_type": "code",
   "execution_count": 63,
   "metadata": {},
   "outputs": [
    {
     "data": {
      "text/html": [
       "1640"
      ],
      "text/latex": [
       "1640"
      ],
      "text/markdown": [
       "1640"
      ],
      "text/plain": [
       "[1] 1640"
      ]
     },
     "metadata": {},
     "output_type": "display_data"
    },
    {
     "data": {
      "text/html": [
       "'double'"
      ],
      "text/latex": [
       "'double'"
      ],
      "text/markdown": [
       "'double'"
      ],
      "text/plain": [
       "[1] \"double\""
      ]
     },
     "metadata": {},
     "output_type": "display_data"
    }
   ],
   "source": [
    "#library(randtests)\n",
    "a <- readChar(\"random.txt\", file.info(\"random.txt\")$size)\n",
    "b <- as.numeric(strsplit(as.character(a), \"\")[[1]])\n",
    "replace <- function(x){\n",
    "    if (x%%2==0) \n",
    "        return(1)\n",
    "    else\n",
    "        return(0)\n",
    "   \n",
    "}\n",
    "length(b)\n",
    "rnumb <- sapply(b, replace)\n",
    "t <- split(rnumb, f = 1:20)\n",
    "typeof(rnumb)"
   ]
  },
  {
   "cell_type": "code",
   "execution_count": 69,
   "metadata": {},
   "outputs": [
    {
     "data": {
      "text/plain": [
       "\n",
       "\tRuns Test\n",
       "\n",
       "data:  rnumb[1:150]\n",
       "statistic = 2.2445, runs = 84, n1 = 56, n2 = 94, n = 150, p-value =\n",
       "0.0248\n",
       "alternative hypothesis: nonrandomness\n"
      ]
     },
     "metadata": {},
     "output_type": "display_data"
    }
   ],
   "source": [
    "library(randtests)\n",
    "runs.test(rnumb[1:150], threshold=0.5)\n",
    "# computer produces: sample()"
   ]
  }
 ],
 "metadata": {
  "kernelspec": {
   "display_name": "R",
   "language": "R",
   "name": "ir"
  },
  "language_info": {
   "codemirror_mode": "r",
   "file_extension": ".r",
   "mimetype": "text/x-r-source",
   "name": "R",
   "pygments_lexer": "r",
   "version": "3.5.1"
  }
 },
 "nbformat": 4,
 "nbformat_minor": 2
}
