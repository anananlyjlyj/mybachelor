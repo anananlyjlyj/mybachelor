{
 "cells": [
  {
   "cell_type": "markdown",
   "metadata": {},
   "source": [
    "# Fathers and Sons on the Career Ladder\n",
    "Occupation in group of upper(u), middle(m) and lower(l).  Subscripts index the generation. \n",
    "\n",
    "The following table gives conditional probabilities, for example $P(U_2|U_1) = 0.45$\n",
    "\n",
    "| 1   |$U_2$|$M_2$|$L_2$|\n",
    "|-----|-----|-----|-----|\n",
    "|$U_1$|0.45 |0.48 |0.07 |\n",
    "|$M_1$|0.05 |0.70 |0.25 |\n",
    "|$L_1$|0.01 |0.50 |0.49 |\n",
    "\n",
    "Suppose that of the father’s generation 10% are in U, 40% in M, and 50% in L.\n",
    "\n",
    "* Q1.  What is the probability that a son in the next generation is in U? Analoguously in M, or L?\n",
    "\n",
    "  $P(U_2)=P(U_2|U_1)*10\\%+P(U_2|M_1)*40\\%+P(U_2|L_1)*50\\%=0.45*0.1+0.05*0.4+0.01*0.5=0.07$\n",
    "  \n",
    "  Similarly we get $P(M_2)=0.48*0.1+0.70*0.4+0.50*0.5=0.578$ and $P(L_2)=0.352$ (Alternatively $P(L_2)=1-P(U_2)-P(M_2)$)\n",
    "  \n",
    "\n",
    "* Q2.  If a son has occupational status U2, what is the probability that his father had occupational status U1? Analoguously M1, or L1?\n",
    "\n",
    "  Using the formular of joint probabilty we get $P(U_1|U_2)=\\frac{P(U_1)*P(U_2|U_1)}{P(U_2)}=\\frac{0.10*0.45}{0.07}\\approx 0.643$\n",
    "  \n",
    "  Similarly we get $P(M_1|U_2)=\\frac{0.40*0.05}{0.07}\\approx 0.286$ and $P(L_1|U_2)\\approx 0.071$(Alternatively $P(L_1|U_2)=1-P(U_1|U_2)-P(M_1|U_2)$)"
   ]
  },
  {
   "cell_type": "markdown",
   "metadata": {},
   "source": [
    "# The Unavoidable Drawing from a Box (or urn) \n",
    "\n",
    "There's a box with N marbles, of which M are black(b) and the rest are white(w).\n",
    "\n",
    "* Q1.  What is the probability that you draw a black marble on the ﬁrst draw?\n",
    "\n",
    "  $P(b)=\\frac{\\#(b)}{\\#(total)}=\\frac{M}{N}$\n",
    "\n",
    "\n",
    "* Q2. What is the probability that you draw a black marble on the second draw, if you know that a black marble was drawn on the ﬁrst draw and not replaced?\n",
    "\n",
    "  $P(b|b)=\\frac{\\#(b)-1}{\\#(total)-1}=\\frac{M-1}{N-1}$\n",
    "\n",
    "\n",
    "* Q3. What is now the probability that you draw a black marble on the second draw if you are not told what colour was picked on the ﬁrst draw (and that ﬁrst marble was also not replaced)? Hint: The result is counter-intuitive. Apply the law of total probability!\n",
    "\n",
    "  $P'(b)=P(b)*P(b|b)+P(w)*P(b|w)=\\frac{M*(M-1)}{N*(N-1)}+\\frac{(M-N)*M}{N*(N-1)}=\\frac{2M^2-MN-M}{N*(N-1)}$\n"
   ]
  },
  {
   "cell_type": "markdown",
   "metadata": {},
   "source": [
    "# A Small Pictoral Atlas of Propability Distributions\n",
    "\n",
    "Generate the shape of various (univariate) probability distributions: Poisson, Beta, $\\chi^2$\n",
    "\n",
    "* For each distribution write down its functional form\n",
    "* Create a ﬁgure illustrating their dependence on parameters\n",
    "* Write a brief note whether it is a continuous or discrete distribution, its domain of deﬁnition, expectation value and variance, and where it might play a role\n",
    "\n",
    "Try to write a code suﬃciently general being able to handle all cases."
   ]
  },
  {
   "cell_type": "code",
   "execution_count": null,
   "metadata": {
    "collapsed": true
   },
   "outputs": [],
   "source": [
    "# Poisson distribution\n"
   ]
  }
 ],
 "metadata": {
  "kernelspec": {
   "display_name": "R",
   "language": "R",
   "name": "ir"
  },
  "language_info": {
   "codemirror_mode": "r",
   "file_extension": ".r",
   "mimetype": "text/x-r-source",
   "name": "R",
   "pygments_lexer": "r",
   "version": "3.5.1"
  }
 },
 "nbformat": 4,
 "nbformat_minor": 2
}
