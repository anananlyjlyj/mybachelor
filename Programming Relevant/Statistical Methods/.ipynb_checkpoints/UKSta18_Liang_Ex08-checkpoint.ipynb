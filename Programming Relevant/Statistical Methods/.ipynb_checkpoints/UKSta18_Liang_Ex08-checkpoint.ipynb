{
 "cells": [
  {
   "cell_type": "markdown",
   "metadata": {},
   "source": [
    "# Return to the lighthouse\n",
    "\n",
    "We extend the lighthouse problem now by considering the position along the beach  $x_0$ as unknown, becoming a to-be-estimated parameter. To estimate the $(x_0,y_0)$ vector you should set-up its joint posterior PDF. From that derive the MAP, the mean, the standard deviation of $x_0$, and $y_0$, and their correlation. To this end, construct a reasonably ﬁne grid in x and y and calculate the posterior on that 2D grid. You should try two priors: \n",
    "\n",
    "(i) a ﬂat prior $p(x,y)∝1$; \n",
    "\n",
    "(ii) a prior $p(x,y) ∝ \\frac{1}{y(1+x^2)}$ \n",
    "\n",
    "This means, assume a Cauchy distribution for x centered at the origin, and an uninformative prior for y.\n",
    "\n",
    "* a: Plot the normalized posterior for both priors.\n",
    "\n",
    "\n",
    "* b: Can you explain the diﬀerences or similarities between the two cases?\n",
    "\n",
    "\n",
    "* c: Do you have an idea how to determine the joint _conﬁdence region_ for $(x_0,y_0)$?\n",
    "\n",
    "\n",
    "* d: Optional: sample the posterior with a Markov chain to calculate the means etc.\n"
   ]
  },
  {
   "cell_type": "code",
   "execution_count": 8,
   "metadata": {},
   "outputs": [
    {
     "data": {
      "image/png": "[encoded data removed]",
      "text/plain": [
       "Plot with title \"flat prior\""
      ]
     },
     "metadata": {},
     "output_type": "display_data"
    }
   ],
   "source": [
    "# a)\n",
    "prior1 <- function(x, y) return(1)\n",
    "prior2 <- function(x, y) {\n",
    "  return(1/(y*(1+x^2)))\n",
    "}\n",
    "post1 <- function(x_temp,y_temp,xdat) {\n",
    "  if(y_temp < 0) {return(-Inf)} # the effect of the prior\n",
    "  prod(y_temp/((xdat-x_temp)^2+y_temp^2))*prior1(y_temp) # x cauchy distributed\n",
    "}\n",
    "post2 <- function(x_temp,y_temp,xdat) {\n",
    "  if(y_temp < 0) {return(-Inf)} # the effect of the prior\n",
    "  prod(y_temp/((xdat-x_temp)^2+y_temp^2))*prior2(y_temp) # x cauchy distributed\n",
    "}\n",
    "\n",
    "# Define sampling grid to compute posterior (will be normalized\n",
    "# over this range too)\n",
    "delta_x <- 0.0001\n",
    "xlim <- c(0.0001, 3.0)\n",
    "x=seq(from=xlim[1], to=xlim[2], by=delta_x)\n",
    "p_x <- seq(from=xlim[1], to=xlim[2], by=delta_x)\n",
    "\n",
    "xdat <- as.matrix(read.table(\"lighthouse.dat\"))\n",
    "for(j in 1:length(x)) {\n",
    "    p_x[j] <- post1(x[j], x[j],xdat)\n",
    "}\n",
    "p_x <- p_x/(delta_x*sum(p_x))\n",
    "plot(x, p_x, type=\"l\", main=\"flat prior\")\n",
    "\n",
    "    \n",
    "# b)\n",
    "#non-flat: (x_0, y_0) = (1.227, 0.965)\n",
    "#     (1.251, 0...)"
   ]
  },
  {
   "cell_type": "markdown",
   "metadata": {},
   "source": [
    "# Interpretation of the p-value\n",
    "\n",
    "In a special issue of the “Spektrum der Wissenschaft” Magazine entitled _Vorsicht Statistik!_ your lecturer came across an article on the interpretation (or often mis-interpretation) of the p-value in hypothesis testing. The article contained the following information box:\n",
    "\n",
    "The question now is: do the numbers given in the ﬁgure of the box make sense? Can you conﬁrm the numbers?\n",
    "\n",
    "* a: Apparently, the box is about hypothesis testing. While it is not clearly stated, the given p-values can be interpreted as significance level of the test (the experiment) that is conducted to decide whether a substance is effective or not. Assuming this, what is exactly meant by “Wahrscheinlichkeit nach dem Experiment” (probability after the experiment)?\n",
    "\n",
    " “Wahrscheinlichkeit nach dem Experiment” is P(the substance is (in-)effective according to experiment | belief that the substance is effective)\n",
    "\n",
    "\n",
    "* b: No statement is made about the power of the test. However, this is an important piece of information. Can you “reverse engineer” the power of the test(s)? Is it always the same?\n",
    "\n",
    "\n",
    "* c: What is your opinion about the given example?\n",
    "  \n",
    "  "
   ]
  },
  {
   "cell_type": "markdown",
   "metadata": {},
   "source": []
  }
 ],
 "metadata": {
  "kernelspec": {
   "display_name": "R",
   "language": "R",
   "name": "ir"
  },
  "language_info": {
   "codemirror_mode": "r",
   "file_extension": ".r",
   "mimetype": "text/x-r-source",
   "name": "R",
   "pygments_lexer": "r",
   "version": "3.5.1"
  }
 },
 "nbformat": 4,
 "nbformat_minor": 2
}
