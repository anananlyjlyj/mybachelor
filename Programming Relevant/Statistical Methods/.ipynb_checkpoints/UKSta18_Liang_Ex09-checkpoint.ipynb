{
 "cells": [
  {
   "cell_type": "markdown",
   "metadata": {},
   "source": [
    "# Student’s t-test\n",
    "\n",
    "On Moodle you ﬁnd a copy of Student’s original paper in which he introduced the t-statistic and the t-test. On page 20 he starts giving illustrations of his method. Have a look at his _Illustration I_, in particular the table (it obviously contains a typo in the 5th row).\n",
    "* a: What is apparently his null hypothesis? Can you reproduce the odds values that he gives? For that, implement the one-sample t-test yourself, and perform a one-sided test.\n",
    "\n",
    "  His $H_0$ is that the treatment(1) has positive effect on increasing sleeping hours. \n",
    "\n",
    "  \n",
    "\n",
    "* b: In which cases can you reject the null hypothesis with a 1% signiﬁcance level? What are the critical values of the t-statistics? What are the corresponding values in terms of x?\n",
    "\n",
    "\n",
    "* c: Can you reproduce your result with R’s _t.test()_ function? Hint: when considering the differences, try the “paired t-test”."
   ]
  },
  {
   "cell_type": "code",
   "execution_count": null,
   "metadata": {},
   "outputs": [],
   "source": [
    "# a) t-test\n",
    "slp1 <- c(0.7, -1.6, -0.2, -1.2, -0.1, 3.4, 3.7, 0.8, 0.0, 2.0)\n",
    "slp2 <- c(1.9, 0.8, 1.1, 0.1, -0.1, 4.4, 5.5, 1.6, 4.6, 3.4)\n"
   ]
  },
  {
   "cell_type": "markdown",
   "metadata": {},
   "source": [
    "# Correlation test: Hubble expansion\n",
    "\n",
    "Hubble’s 1929 discovery of the proportionality between the distance and the recession velocity of galaxies marked the beginning of the era of observational cosmology.\n",
    "\n",
    "* a: Generate a perfectly correlated dataset $x_i$, $y_i$ (e.g. using _seq()_), and a totally uncorrelated dataset (e.g., using _rnorm()_). Compute the Spearman rank correlation coeﬃcient $r_S$ for both datasets.\n",
    "\n",
    "\n",
    "* b: Load the Hubble dataset (file _Hubble.dat_) into R and compute $r_S$.\n",
    "\n",
    "\n",
    "* c: For all three datasets, carry out a test of the null hypthesis that the x and y values are not correlated (use _cor.test(x,y,method=\"spearman\")_). In the case of the Hubble dataset you get a Warning message - why?\n",
    "\n",
    "\n",
    "* d: Carry out a test of the null hypothesis that the distances of the 24 galaxies in the Hubble dataset are not correlated with the ﬁrst 24 Fibonacci numbers. What do you ﬁnd, and where does this result come from? **Hint**: To calculate the Fibonacci sequence, e.g. start with a vector c(0,1) and use a _for_-loop to repeatedly _append(...)_ the sum of the last two entries. Alternatively, instead of the Fibonacci sequence you could also use the prime numbers from the ﬁrst problem sheet.\n"
   ]
  },
  {
   "cell_type": "code",
   "execution_count": 1,
   "metadata": {},
   "outputs": [
    {
     "data": {
      "text/plain": [
       "\n",
       "\tSpearman's rank correlation rho\n",
       "\n",
       "data:  xi and yi\n",
       "S = 0, p-value < 2.2e-16\n",
       "alternative hypothesis: true rho is greater than 0\n",
       "sample estimates:\n",
       "rho \n",
       "  1 \n"
      ]
     },
     "metadata": {},
     "output_type": "display_data"
    },
    {
     "name": "stdout",
     "output_type": "stream",
     "text": [
      "r_S =  1 \n"
     ]
    },
    {
     "data": {
      "text/plain": [
       "\n",
       "\tSpearman's rank correlation rho\n",
       "\n",
       "data:  xir and yir\n",
       "S = 165250, p-value = 0.4669\n",
       "alternative hypothesis: true rho is greater than 0\n",
       "sample estimates:\n",
       "        rho \n",
       "0.008412841 \n"
      ]
     },
     "metadata": {},
     "output_type": "display_data"
    },
    {
     "name": "stdout",
     "output_type": "stream",
     "text": [
      "r_S =  0.008412841 \n"
     ]
    },
    {
     "name": "stderr",
     "output_type": "stream",
     "text": [
      "Warning message in cor.test.default(dist, vel, alternative = \"greater\", method = \"spearman\"):\n",
      "\"Cannot compute exact p-value with ties\""
     ]
    },
    {
     "data": {
      "text/plain": [
       "\n",
       "\tSpearman's rank correlation rho\n",
       "\n",
       "data:  dist and vel\n",
       "S = 295.45, p-value = 1.477e-08\n",
       "alternative hypothesis: true rho is greater than 0\n",
       "sample estimates:\n",
       "      rho \n",
       "0.8715442 \n"
      ]
     },
     "metadata": {},
     "output_type": "display_data"
    },
    {
     "name": "stdout",
     "output_type": "stream",
     "text": [
      "Hubble dataset: r_S =  0.8717391 \n",
      "We get the warning message because there are identical numbers in the value of distance, which is called \"ties\",\n",
      "so that the ranks are not unique anymore \n"
     ]
    },
    {
     "name": "stderr",
     "output_type": "stream",
     "text": [
      "Warning message in cor.test.default(dist, fibb, alternative = \"greater\", method = \"spearman\"):\n",
      "\"Cannot compute exact p-value with ties\""
     ]
    },
    {
     "data": {
      "text/plain": [
       "\n",
       "\tSpearman's rank correlation rho\n",
       "\n",
       "data:  dist and fibb\n",
       "S = 18.527, p-value < 2.2e-16\n",
       "alternative hypothesis: true rho is greater than 0\n",
       "sample estimates:\n",
       "      rho \n",
       "0.9919449 \n"
      ]
     },
     "metadata": {},
     "output_type": "display_data"
    },
    {
     "name": "stdout",
     "output_type": "stream",
     "text": [
      "The test result shows us that the distances of the 24 galaxies are highly correlated to 24 Fibonacci numbers. \n",
      "\n"
     ]
    }
   ],
   "source": [
    "# a) c)\n",
    "xi <- seq(0, 100, by=0.1)\n",
    "yi <- seq(-50, 50, by=0.1)\n",
    "cor.test(xi, yi, alternative=\"greater\", method=\"spearman\")\n",
    "cat(\"r_S = \",1-6*sum((rank(xi)-rank(yi))^2)/(length(xi)^3-length(xi)), \"\\n\")\n",
    "xir <- rnorm(100)\n",
    "yir <- rnorm(100)\n",
    "cor.test(xir, yir, alternative=\"greater\", method=\"spearman\")\n",
    "cat(\"r_S = \", 1-6*sum((rank(xir)-rank(yir))^2)/(length(xir)^3-length(xir)), \"\\n\")\n",
    "# b) c)\n",
    "hub <- read.table(\"Hubble.dat\",header=TRUE)\n",
    "dist <- hub$dist\n",
    "vel <- hub$vel\n",
    "cor.test(dist, vel, alternative=\"greater\", method=\"spearman\")\n",
    "cat(\"Hubble dataset: r_S = \", 1-6*sum((rank(dist)-rank(vel))^2)/(length(dist)^3-length(dist)), \"\\n\")\n",
    "cat(\"We get the warning message because there are identical numbers in the value of distance, which is called \\\"ties\\\",\n",
    "so that the ranks are not unique anymore \\n\")\n",
    "# d)\n",
    "fibb <- c(0,1)\n",
    "for(j in 3:length(dist)){\n",
    "    fibb <- c(fibb, fibb[j-2]+fibb[j-1])\n",
    "}\n",
    "cor.test(dist, fibb, alternative=\"greater\", method=\"spearman\")\n",
    "cat(\"The test result shows us that the distances of the 24 galaxies are highly correlated to 24 Fibonacci numbers. \n",
    "\\n\")"
   ]
  },
  {
   "cell_type": "markdown",
   "metadata": {},
   "source": [
    "# Bayesian model comparison: Is there evidence for a non-zero gradient?\n",
    "\n",
    "This exercise is a copy of the problem discussed in section 11.3 in the book of Coryn Bailer-Jones (see book chapter on Moodle). Read the section, and re-do the model comparison described there! Diﬀerent from the problem in the section, the files_ gradient10.dat_ and _gradient50.dat_ contain new (x,y) data sets for the (in total ﬁve each) lines to be analyzed. The coefficients of the straight lines have changed a little bit, and are kept secret here. However, the priors that Coryn speciﬁes are still applicable, except for $a_0$where $P(a_0) ∼ N(1,1)$ should be used. You are expected to provide your own R-implementation of the problem, but – of course – you can study the code given in the book for inspiration. The result should be similar to what is given in the book. Can you conﬁrm this?\n"
   ]
  },
  {
   "cell_type": "code",
   "execution_count": 2,
   "metadata": {},
   "outputs": [
    {
     "data": {
      "image/png": "[encoded data removed]",
      "text/plain": [
       "plot without title"
      ]
     },
     "metadata": {},
     "output_type": "display_data"
    },
    {
     "data": {
      "image/png": "[encoded data removed]",
      "text/plain": [
       "plot without title"
      ]
     },
     "metadata": {},
     "output_type": "display_data"
    }
   ],
   "source": [
    "g10 <- read.table(\"gradient10.dat\", header=TRUE)\n",
    "g50 <- read.table(\"gradient50.dat\", header=TRUE)\n",
    "# define log likelihood \n",
    "# M_2: y = b_0 + x tan(alpha) + epsilon, epsilon ~ U(0, sigma)\n",
    "# P(b_0) = N(1,1), P(alpha) = U(0, 2pi), P(log(epsilon)) = U(log(0.5),log 2)\n",
    "# M_1: y = b_0 + epsilon    (alpha = 0)\n",
    "\n",
    "### Define likelihood\n",
    "\n",
    "# Return log10(likelihood), a scalar. \n",
    "# theta is the vector of model parameters, here c(b_0, alpha, log10(ysig)). \n",
    "# data is the two-column matrix [x,y]. \n",
    "# dnorm(..., log=TRUE) returns log base e, so multiply by 1/ln(10) = 0.434 to get log base 10 \n",
    "log.like <- function(theta, data) { \n",
    "    # convert alpha to b_1 and log10(ysig) to ysig \n",
    "    theta[2] <- tan(theta[2]) \n",
    "    theta[3] <- 10^theta[3] \n",
    "    # likelihood \n",
    "    modPred <- drop( theta[1:2] %*% t(cbind(1,data$x)) ) \n",
    "    # Dimensions in mixed vector/matrix products: [Ndat] = [P] %*% [P x Ndat] \n",
    "    logLike <- (1/log(10))*sum( dnorm(modPred - data$y, mean=0, sd=theta[3], log=TRUE) )\n",
    "    return(logLike) }\n",
    "\n",
    "Nsamp <- 1e5\n",
    "priorSamp <- cbind(rnorm(n=Nsamp, mean=1, sd=1), \n",
    "                   runif(n=Nsamp, min=-pi/2, max=pi/2), \n",
    "                   runif(n=Nsamp, min=log10(0.5), max=log10(2)))\n",
    "sel <- sample.int(n=Nsamp, size=100)\n",
    "plot(g10$x1, g10$y1, xlim=c(-10,10), ylim=c(-5,5))\n",
    "for(j in sel) {\n",
    "    abline(a=priorSamp[j,1], b=tan(priorSamp[j,2]), col=\"grey\") }\n",
    "priorSamp2 <- cbind(rnorm(n=Nsamp, mean=1, sd=1), \n",
    "                   0, \n",
    "                   runif(n=Nsamp, min=log10(0.5), max=log10(2)))\n",
    "sel <- sample.int(n=Nsamp, size=100)\n",
    "plot(g10$x1, g10$y1, xlim=c(-10,10), ylim=c(-5,5))\n",
    "for(j in sel) {\n",
    "    abline(a=priorSamp2[j,1], b=tan(priorSamp2[j,2]), col=\"grey\") }"
   ]
  },
  {
   "cell_type": "markdown",
   "metadata": {},
   "source": [
    "# Laterality among physicists\n",
    "\n",
    "Combining a poll from 2015, 2016, 2017, and 2018 on the laterality of the participants of UKSta we obtained the following contingency table:\n",
    "\n",
    "||left-handed |right-handed |\n",
    "|--|--|--|\n",
    "|left-footed| 2 |13 |\n",
    "|right-footed |6 |38|\n",
    "\n",
    "The sample is not big but what can one say about the connection between handedness and footedness based on the given data?\n",
    "\n",
    "* a: Perform Fisher’s exact test. Is there a connection between handedness and footedness?\n",
    "\n",
    "    The test result is to be seen as below. As we can see, the odds ratio is less than 1, so we rejuct the null hypothesis of independence. Thus there exists correlation between handedness and footedness.\n",
    "\n",
    "\n",
    "* b: Can one say something about preferences if one restricts oneself to the subgroups of left-handed and right-handed persons?\n",
    "\n",
    "    In both subgroups one tends to be right-footed.\n"
   ]
  },
  {
   "cell_type": "code",
   "execution_count": 3,
   "metadata": {},
   "outputs": [
    {
     "data": {
      "text/plain": [
       "\n",
       "\tFisher's Exact Test for Count Data\n",
       "\n",
       "data:  rbind(c(2, 13), c(6, 38))\n",
       "p-value = 0.6734\n",
       "alternative hypothesis: true odds ratio is less than 1\n",
       "95 percent confidence interval:\n",
       " 0.000000 5.041291\n",
       "sample estimates:\n",
       "odds ratio \n",
       " 0.9747855 \n"
      ]
     },
     "metadata": {},
     "output_type": "display_data"
    }
   ],
   "source": [
    "# a)\n",
    "fisher.test(rbind(c(2,13),c(6,38)), alternative=\"less\")"
   ]
  },
  {
   "cell_type": "markdown",
   "metadata": {},
   "source": [
    "# Central limit theorem and Kolmogorov–Smirnov\n",
    "\n",
    "During the lectures you checked the convergence towards a normal distribution according the central limit theorem by a $\\chi^2$-test. Do this now with the Kolmogorov–Smirnov test (making use of _ks.test()_ available in R!"
   ]
  },
  {
   "cell_type": "code",
   "execution_count": 4,
   "metadata": {},
   "outputs": [
    {
     "data": {
      "text/plain": [
       "\n",
       "\tOne-sample Kolmogorov-Smirnov test\n",
       "\n",
       "data:  X_bar[sample(1:length(X_bar), 1)]\n",
       "D = 1, p-value < 2.2e-16\n",
       "alternative hypothesis: two-sided\n"
      ]
     },
     "metadata": {},
     "output_type": "display_data"
    }
   ],
   "source": [
    "X <- replicate(10000, rnorm(25,mean=60,sd=40)) \n",
    "X_bar <- colMeans(X)\n",
    "ks.test(X_bar[sample(1:length(X_bar),1)], \"pnorm\")"
   ]
  }
 ],
 "metadata": {
  "kernelspec": {
   "display_name": "R",
   "language": "R",
   "name": "ir"
  },
  "language_info": {
   "codemirror_mode": "r",
   "file_extension": ".r",
   "mimetype": "text/x-r-source",
   "name": "R",
   "pygments_lexer": "r",
   "version": "3.5.1"
  }
 },
 "nbformat": 4,
 "nbformat_minor": 2
}
