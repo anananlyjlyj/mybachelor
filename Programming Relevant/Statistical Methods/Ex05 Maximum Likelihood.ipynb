{
 "cells": [
  {
   "cell_type": "markdown",
   "metadata": {},
   "source": [
    "# Example 1: Plot the log likelihood for population parameters and some others\n",
    "\n",
    "* Draw 10 samples of size 3 each from an univariate normal distribution with $N(µ = 2.0, σ^2 = 0.5)$\n",
    "\n",
    "* Compute the log likelihood function for a range of µ comprising the µ of the population\n",
    "\n",
    "* Do the same for 10 samples of size 30\n",
    "\n",
    "* Plot all 20 log likelihood functions on top of each other!\n",
    "\n",
    "* Does the maximum of the log likelihood functions is always at µ?\n",
    "\n",
    "* How is the shape changing with increasing sample size?"
   ]
  },
  {
   "cell_type": "code",
   "execution_count": 17,
   "metadata": {},
   "outputs": [
    {
     "ename": "ERROR",
     "evalue": "Error in plot.xy(xy.coords(x, y), type = type, ...): plot.new has not been called yet\n",
     "output_type": "error",
     "traceback": [
      "Error in plot.xy(xy.coords(x, y), type = type, ...): plot.new has not been called yet\nTraceback:\n",
      "1. lines(rowMeans(x), l)",
      "2. lines.default(rowMeans(x), l)",
      "3. plot.xy(xy.coords(x, y), type = type, ...)"
     ]
    }
   ],
   "source": [
    "n <- 3\n",
    "x <- matrix(rnorm(n, 2.0, sqrt(0.5/n)), 10, n)\n",
    "t <- rowMeans(x) + runif(100, -3, 3)\n",
    "plot(...)\n",
    "for(i in 2:10){\n",
    "    l <- rowSums(-log(sqrt(sqrt(0.5)))-log(sqrt(2*pi))-(x-t)^2)\n",
    "    lines(t,l)\n",
    "}\n",
    "n <- 30\n",
    "..."
   ]
  },
  {
   "cell_type": "markdown",
   "metadata": {},
   "source": [
    "# Example 2: Derive an estimator for µ and σ of a normal distribution\n",
    "\n",
    "$$L(x_k|_{\\mu, \\sigma})=\\prod_{k=1}^k \\frac{1}{\\sqrt{2\\pi}\\sigma} e^{-\\frac{1}{2}\\frac{(x_k-\\mu)^2}{\\sigma^2}}$$\n",
    "$$l=\\ln L = \\sum_{k=1}^K\\{-\\ln\\sigma-\\ln{\\sqrt{2\\pi}}-\\frac{1}{2}\\frac{(x_k-\\mu)^2}{\\sigma^2}\\}$$\n",
    "$\\frac{dl}{d\\mu}=\\sum_k \\frac{x_k-\\mu}{\\sigma^2} = 0 $, $\\frac{dl}{d\\sigma}=\\sum\\{-\\frac{1}{\\sigma}+\\frac{1}{\\sigma^3}(x_k-\\hat{\\mu})^2\\}=0$\n",
    "\n",
    "We get the estimator of mean: $\\hat{\\mu}=\\frac{1}{k} \\sum{x_k}$, the estimator of standard deviation: $\\hat{\\sigma}=\\sqrt{\\frac{1}{k}\\sum(x_k-\\mu)^2}$\n",
    "\n",
    "1/k instead of 1/(k-1) => estimator can be unbiased, asymtotically unbiased for large size of samples\n",
    "\n",
    "estimate variance $\\widehat{\\sigma^2}$: $l=\\ln L = \\sum_{k=1}^K\\{-\\frac{1}{2}\\ln{\\sigma^2}-\\ln{\\sqrt{2\\pi}}-\\frac{1}{2}\\frac{(x_k-\\mu)^2}{\\sigma^2}\\}$\n",
    "\n",
    "important property: $\\widehat{\\phi(\\theta)}=\\phi(\\hat{\\theta})$"
   ]
  },
  {
   "cell_type": "markdown",
   "metadata": {},
   "source": [
    "# Example 3: Derive an estimator for expectation value λ of a Poisson distribution\n",
    "\n",
    "$$L(x_k|_{\\mu, \\sigma})=\\prod_{i=1}^n \\frac{e^{-\\lambda}\\lambda^{r_i}}{r_i!}$$\n",
    "$$l=\\ln L=\\sum_{i=1}^n\\{-\\lambda+r_i\\ln\\lambda-\\ln{(r_i!)}\\}$$\n",
    "$$\\frac{dl}{d\\lambda}=-n+\\frac{\\sum r_i}{\\lambda}=0$$\n",
    "$$\\hat\\lambda=\\frac{1}{n}\\sum_{i=1}^n r_i$$\n",
    "Although for poisson distribution $\\lambda$ is also the variance, here the estimator we get is the mean"
   ]
  },
  {
   "cell_type": "markdown",
   "metadata": {},
   "source": [
    "# Bootstrap MC (establishing confidence intervals)\n",
    "\n",
    "N: i.i.d(independent identically distributed) \"point\"(order of these variables doesn't matter)\n",
    "\n",
    "We assume $a_{(0)}$ well reprensents the real distribution\n",
    "\n",
    "Now we generate artificially new samples of the same size by drawing from the old samples with replacement. Repeat this procedure for $B$ times.\n",
    "\n",
    "$(a_{(0)}-a_{true})$\"distrubuted as\"$(a_{(i)}-a_{(0)})$\n",
    "\n",
    "$B\\gtrsim N(\\ln N)^2$\n",
    "\n",
    "Example:"
   ]
  },
  {
   "cell_type": "code",
   "execution_count": 28,
   "metadata": {},
   "outputs": [
    {
     "name": "stdout",
     "output_type": "stream",
     "text": [
      "Standard popolution of (sample - reference value) \n",
      "Population:         24.68883 \n",
      "Bootstrap samples:  24.10064 \n"
     ]
    },
    {
     "data": {
      "image/png": "[encoded data removed]",
      "text/plain": [
       "Plot with title \"Histogram of statboo - estboo\""
      ]
     },
     "metadata": {},
     "output_type": "display_data"
    }
   ],
   "source": [
    "statistic <- function(x) {\n",
    "#  r <- rowMeans(x)    # mean\n",
    "  r <- rowSums( x^2 ) # sum of squares \n",
    "  return(r)\n",
    "}\n",
    "\n",
    "nmc   <- 10000\n",
    "N     <- 300\n",
    "apop    <- matrix(rnorm(nmc*N, 0, 1),nmc,N)\n",
    "statpop <- statistic(apop)\n",
    "truepop <- N # sum of squares\n",
    "#truepop <- 0.0\n",
    " \n",
    "#k <- floor((log(N))^2 * N)\n",
    "k <- nmc\n",
    "\n",
    "a0      <- rnorm(N, 0, 1)\n",
    "aboo    <- matrix(sample(a0,N*k,replace=TRUE), k, N)\n",
    "\n",
    "statboo <- statistic(aboo)\n",
    "estboo  <- statistic(matrix(a0,1,N))\n",
    "\n",
    "cat(\"Standard popolution of (sample - reference value)\", \"\\n\")\n",
    "cat(\"Population:        \", sd(statpop - truepop), \"\\n\")\n",
    "cat(\"Bootstrap samples: \", sd(statboo - estboo), \"\\n\")\n",
    "par(mfrow=c(1,2))\n",
    "xx <- range(statboo-estboo)\n",
    "xx <- mean(xx)+ 2.0*(xx-mean(xx))\n",
    "xx <- seq(xx[1],xx[2], (xx[2]-xx[1])/50.0)\n",
    "hist(statpop-truepop,breaks=xx)\n",
    "hist(statboo-estboo, breaks=xx)"
   ]
  },
  {
   "cell_type": "markdown",
   "metadata": {},
   "source": [
    "# Error estimation using the Bootstrap method\n",
    "\n",
    "In the file xlum_obs.txt you will find measurements of the X-ray flux emitted by 40 stars in the Orion nebula (in logarithmic units). Calculate the mean and median of logLX (referred to as $L_X$ from here on).\n",
    "\n",
    "* a. The standard deviation of the mean $<L_X>$ of $N = 40$ observations can be derived analytically from the standard expression $sd(<L_X>)=\\frac{sd(L_X)}{\\sqrt N}$. But here we want to use use the bootstrap method to calculate the standard deviation explicitly from the means of many observation sets. Since we only have this one sample of 40 stars and cannot easily repeat the “experiment”, we are going to create $B$ simulated observations. For this purpose, write a function that creates random bootstrap samples from the original observed data set (i.,e. each sample includes the same number of 40 observations, but may contain multiple instances of some stars). Save the means of the samples in an array and directly calculate their standard deviations for a range of bootstrap sample sizes B from ∼ 10 to at least several 100.\n",
    "  \n",
    "  Comparing the standard deviations thus obtained, and the analytical value, what is a reasonable value of B to obtain a good estimate of the actual error?"
   ]
  },
  {
   "cell_type": "code",
   "execution_count": 60,
   "metadata": {},
   "outputs": [
    {
     "data": {
      "text/html": [
       "0.266561919269214"
      ],
      "text/latex": [
       "0.266561919269214"
      ],
      "text/markdown": [
       "0.266561919269214"
      ],
      "text/plain": [
       "[1] 0.2665619"
      ]
     },
     "metadata": {},
     "output_type": "display_data"
    },
    {
     "name": "stdout",
     "output_type": "stream",
     "text": [
      "sd( 10 samples) = 0.1522242 \n",
      "sd( 60 samples) = 0.2681189 \n",
      "sd( 110 samples) = 0.2684217 \n",
      "sd( 160 samples) = 0.2377551 \n",
      "sd( 210 samples) = 0.2735336 \n",
      "sd( 260 samples) = 0.264952 \n",
      "sd( 310 samples) = 0.2749997 \n",
      "sd( 360 samples) = 0.2789913 \n",
      "sd( 410 samples) = 0.2633486 \n",
      "sd( 460 samples) = 0.2642767 \n",
      "sd( 510 samples) = 0.2542297 \n",
      "sd( 560 samples) = 0.2544971 \n",
      "sd( 610 samples) = 0.2597093 \n",
      "sd( 660 samples) = 0.2670975 \n",
      "sd( 710 samples) = 0.2616405 \n",
      "sd( 760 samples) = 0.267312 \n",
      "sd( 810 samples) = 0.2680851 \n",
      "sd( 860 samples) = 0.2683541 \n",
      "sd( 910 samples) = 0.264437 \n",
      "sd( 960 samples) = 0.2523832 \n"
     ]
    }
   ],
   "source": [
    "Orion <- read.table(\"xlum_obs.txt\", header=TRUE)\n",
    "logLX <- Orion[,4]\n",
    "sd_mean <- sd(logLX)/sqrt(length(logLX))\n",
    "sd_mean\n",
    "lalala <- function(x, q){\n",
    "    N <- length(x)\n",
    "    for(n in seq(10, 1000, 50)){\n",
    "        bootstrap <- matrix(sample(x, N*n, replace=TRUE), n, N)\n",
    "        means <- apply(bootstrap, 1, mean, trim=q)\n",
    "        cat(\"sd(\", n, \"samples) =\", sd(means),\"\\n\")\n",
    "        #cat(\"bias to sd_mean = \", sd(means)-sd_mean, \"\\n\")\n",
    "}\n",
    "}\n",
    "lalala(logLX, 0)\n",
    "# could create a plot out of it"
   ]
  },
  {
   "cell_type": "markdown",
   "metadata": {},
   "source": [
    "* b. Next we are applying the bootstrap method to estimate the error of another estimator, which cannot be derived analytically. Consider the **n% trimmed mean** $<L_X>\\{p\\}$ as the mean of all data points excluding both the $(n = 100 p)%$ highest and lowest values. Since this quantity is only sampling the central parts of the distribution, the above equation for the standard deviation of the mean does not apply. \n",
    "  \n",
    "  Create a function to calculate the $10–40%$ trimmed means, i.e. $<L_X>\\{0.1\\}$, $<L_X>\\{0.2\\}$, $<L_X>\\{0.3\\}$, $<L_X>\\{0.4\\}$. \n",
    "  \n",
    "  Apply the bootstrap procedure on these means, using a robust value of B as found in the first part, and calculate their standard deviations. Have a look at the documentation mean() for getting trimmed means."
   ]
  },
  {
   "cell_type": "code",
   "execution_count": null,
   "metadata": {
    "collapsed": true
   },
   "outputs": [],
   "source": []
  },
  {
   "cell_type": "markdown",
   "metadata": {},
   "source": [
    "* c. Now test the validity of the bootstrap method by calculating the error of the trimmed means from a sample of real data sets. Fortunately, we could now obtain a full catalogue of over 400 observations of stars in the Orion Nebula Cluster. Read these in from the file xlum_core.txt. Then select a number of observation subsets of 40 (unique) stars each from this sample. You may consider the correlation of the catalogue numbers COUP and the celestial coordinates RAJ2000, DEJ2000 with logLX to check if you can simply select the stars by number or coordinate, or you can devise a function to randomly draw your subsamples. \n",
    "\n",
    "  Calculate the means and the four trimmed means and their errors from this set of subsamples, and plot them in comparison with the errors derived from bootstrapping in the previous part. \n",
    "  \n",
    "  A useful application of the truncated mean are non-normally distributed data sets, e. g. samples with extended tails or outliers. Does any of the truncated means produce a more accurate measurement than the plain mean for this data set?"
   ]
  },
  {
   "cell_type": "code",
   "execution_count": 58,
   "metadata": {},
   "outputs": [
    {
     "data": {
      "text/html": [
       "<ol class=list-inline>\n",
       "\t<li>29.5576</li>\n",
       "\t<li>27.6675</li>\n",
       "\t<li>29.8676</li>\n",
       "\t<li>29.6876</li>\n",
       "\t<li>28.0539</li>\n",
       "\t<li>29.5676</li>\n",
       "\t<li>27.8671</li>\n",
       "\t<li>29.6876</li>\n",
       "\t<li>31.6432</li>\n",
       "\t<li>30.2376</li>\n",
       "\t<li>29.7976</li>\n",
       "\t<li>28.7376</li>\n",
       "\t<li>29.7576</li>\n",
       "\t<li>29.1176</li>\n",
       "\t<li>30.0876</li>\n",
       "\t<li>29.0676</li>\n",
       "\t<li>28.9276</li>\n",
       "\t<li>28.9676</li>\n",
       "\t<li>29.3676</li>\n",
       "\t<li>31.0217</li>\n",
       "\t<li>29.6876</li>\n",
       "\t<li>28.6676</li>\n",
       "\t<li>29.7076</li>\n",
       "\t<li>30.0876</li>\n",
       "\t<li>29.0076</li>\n",
       "\t<li>29.2776</li>\n",
       "\t<li>29.5076</li>\n",
       "\t<li>29.8876</li>\n",
       "\t<li>29.0176</li>\n",
       "\t<li>28.4376</li>\n",
       "\t<li>32.1898</li>\n",
       "\t<li>28.9376</li>\n",
       "\t<li>28.6576</li>\n",
       "\t<li>32.467</li>\n",
       "\t<li>27.2009</li>\n",
       "\t<li>28.9776</li>\n",
       "\t<li>29.3876</li>\n",
       "\t<li>28.8076</li>\n",
       "\t<li>29.2476</li>\n",
       "\t<li>31.3773</li>\n",
       "</ol>\n"
      ],
      "text/latex": [
       "\\begin{enumerate*}\n",
       "\\item 29.5576\n",
       "\\item 27.6675\n",
       "\\item 29.8676\n",
       "\\item 29.6876\n",
       "\\item 28.0539\n",
       "\\item 29.5676\n",
       "\\item 27.8671\n",
       "\\item 29.6876\n",
       "\\item 31.6432\n",
       "\\item 30.2376\n",
       "\\item 29.7976\n",
       "\\item 28.7376\n",
       "\\item 29.7576\n",
       "\\item 29.1176\n",
       "\\item 30.0876\n",
       "\\item 29.0676\n",
       "\\item 28.9276\n",
       "\\item 28.9676\n",
       "\\item 29.3676\n",
       "\\item 31.0217\n",
       "\\item 29.6876\n",
       "\\item 28.6676\n",
       "\\item 29.7076\n",
       "\\item 30.0876\n",
       "\\item 29.0076\n",
       "\\item 29.2776\n",
       "\\item 29.5076\n",
       "\\item 29.8876\n",
       "\\item 29.0176\n",
       "\\item 28.4376\n",
       "\\item 32.1898\n",
       "\\item 28.9376\n",
       "\\item 28.6576\n",
       "\\item 32.467\n",
       "\\item 27.2009\n",
       "\\item 28.9776\n",
       "\\item 29.3876\n",
       "\\item 28.8076\n",
       "\\item 29.2476\n",
       "\\item 31.3773\n",
       "\\end{enumerate*}\n"
      ],
      "text/markdown": [
       "1. 29.5576\n",
       "2. 27.6675\n",
       "3. 29.8676\n",
       "4. 29.6876\n",
       "5. 28.0539\n",
       "6. 29.5676\n",
       "7. 27.8671\n",
       "8. 29.6876\n",
       "9. 31.6432\n",
       "10. 30.2376\n",
       "11. 29.7976\n",
       "12. 28.7376\n",
       "13. 29.7576\n",
       "14. 29.1176\n",
       "15. 30.0876\n",
       "16. 29.0676\n",
       "17. 28.9276\n",
       "18. 28.9676\n",
       "19. 29.3676\n",
       "20. 31.0217\n",
       "21. 29.6876\n",
       "22. 28.6676\n",
       "23. 29.7076\n",
       "24. 30.0876\n",
       "25. 29.0076\n",
       "26. 29.2776\n",
       "27. 29.5076\n",
       "28. 29.8876\n",
       "29. 29.0176\n",
       "30. 28.4376\n",
       "31. 32.1898\n",
       "32. 28.9376\n",
       "33. 28.6576\n",
       "34. 32.467\n",
       "35. 27.2009\n",
       "36. 28.9776\n",
       "37. 29.3876\n",
       "38. 28.8076\n",
       "39. 29.2476\n",
       "40. 31.3773\n",
       "\n",
       "\n"
      ],
      "text/plain": [
       " [1] 29.5576 27.6675 29.8676 29.6876 28.0539 29.5676 27.8671 29.6876 31.6432\n",
       "[10] 30.2376 29.7976 28.7376 29.7576 29.1176 30.0876 29.0676 28.9276 28.9676\n",
       "[19] 29.3676 31.0217 29.6876 28.6676 29.7076 30.0876 29.0076 29.2776 29.5076\n",
       "[28] 29.8876 29.0176 28.4376 32.1898 28.9376 28.6576 32.4670 27.2009 28.9776\n",
       "[37] 29.3876 28.8076 29.2476 31.3773"
      ]
     },
     "metadata": {},
     "output_type": "display_data"
    }
   ],
   "source": [
    "Orion_full <- read.table(\"xlum_core.txt\", header=TRUE)\n",
    "logLX_40 <- sample(Orion_full[,4], 40)\n",
    "logLX_40"
   ]
  }
 ],
 "metadata": {
  "kernelspec": {
   "display_name": "R",
   "language": "R",
   "name": "ir"
  },
  "language_info": {
   "codemirror_mode": "r",
   "file_extension": ".r",
   "mimetype": "text/x-r-source",
   "name": "R",
   "pygments_lexer": "r",
   "version": "3.5.1"
  }
 },
 "nbformat": 4,
 "nbformat_minor": 2
}
