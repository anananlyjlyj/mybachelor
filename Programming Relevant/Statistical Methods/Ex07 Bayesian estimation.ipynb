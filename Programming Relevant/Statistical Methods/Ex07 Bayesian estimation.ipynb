{
 "cells": [
  {
   "cell_type": "markdown",
   "metadata": {},
   "source": [
    "# Exercise: Bayesian estimation – first try\n",
    "\n",
    "Suppose we want to measure the intensity $λ$ of a light source by counting the number of photons, n, detected in a certain time interval. We assume that n ∼ Poisson($λ$)\n",
    "\n",
    "Given $n = 10$ what is the estimate of $λ$? $\\mathcal{L}(\\lambda|n)=\\frac{\\lambda^{n}\\exp(-\\lambda)}{n!}$ MLE: $\\hat{\\lambda} = n = 10$\n",
    "\n",
    "The MAP in Bayesian estimation gives the same result if the prior is flat -> here – say – between 0 and 100\n",
    "\n",
    "But if the prior state of knowledge is that we have no idea of the _order of magnitude_ of $λ$ then it can be argued that the cumulative probability of the prior should be flat in $\\log λ$ (Why? -> scale-free) implying a PDF inversely proportional to $λ$ meaning posterior PDF $\\lambda^{-1}\\mathcal{L}(\\lambda|n)\\propto\\lambda^{n-1}\\exp(-\\lambda)$\n",
    "\n",
    "Genrally, one can write posterior $P(\\lambda|n)\\propto\\lambda^k \\mathcal{L}(\\lambda|n)\\propto\\lambda^{n+k}\\exp(-\\lambda)$\n",
    "\n",
    "| prior($\\lambda^k$) | MAP|$E(\\lambda|n)$(mean)|median|\n",
    "|------|------|---|\n",
    "|  $\\lambda^0=$ const  |n  |n+1                |n+2/3|\n",
    "|$\\lambda^{-1}=$ const |n-1|n                  |n-1/3($n>0$)|\n",
    "\n",
    "Note, that the priors we are using are improper, i.e. cannot be normalized\n",
    "\n",
    "Hint: using the $\\Gamma$ function $\\int_0^{\\infty}{\\lambda^n\\exp{(-\\lambda)}d\\lambda=n!}$\n",
    "\n",
    "First $post(\\lambda|n)$ must be normalized, normalization constant is $N=\\int_0^{\\infty}{\\lambda^{n+k}e^{-\\lambda}d\\lambda=(n+k)!}$. Thus $post(\\lambda|n)=\\frac{\\lambda^{n+k}e^{-\\lambda}}{(n+k)!}$ $\\Rightarrow E(\\lambda|n)=\\int_0^{\\infty}{\\lambda \\cdot post(\\lambda|n) \\cdot d\\lambda}=n+k+1$\n",
    "\n",
    "$\\ln{post} = (n+k)\\ln \\lambda - \\lambda$\n",
    "\n",
    "$\\frac{\\partial P}{\\partial \\lambda}=(n+k)\\frac{1}{\\lambda}-1 =0\\Rightarrow \\lambda_{MAP}=n+k$\n",
    "\n",
    "\n",
    "CDF$P(\\alpha x) - P(x)=c \\Rightarrow P(x)=\\ln x \\Rightarrow p = \\frac{dP}{dx}=\\frac{1}{x}$"
   ]
  },
  {
   "cell_type": "markdown",
   "metadata": {},
   "source": [
    "# Example: normalized Gaussian variables\n",
    "\n",
    "x ~ $N(\\mu|\\sigma^2)$, $y = \\frac{x-\\mu}{\\sigma}$, $p(y)=?$\n",
    "\n",
    "$\\frac{\\partial y}{\\partial x}=\\frac{1}{\\sigma} \\Rightarrow p(y)=\\frac{1}{\\sqrt{2\\pi}}e^{-\\frac{1}{2}y^2}=N(0,1)$\n",
    "\n",
    "\n",
    "\n",
    "## calculate convolution: use Fourier-transformation and at the end transform it back\n",
    "\n",
    "convolution of two gaussian -> gaussian"
   ]
  },
  {
   "cell_type": "markdown",
   "metadata": {},
   "source": [
    "# Example: Should Dirk Nowitzki play?\n",
    "\n",
    "Dirk Nowitzki is a German basketball player who has successfully played and is playing (at the time of writing: 2017) in the American NBA league. By now Nowitzki reached an age of 39 which is quite advanced for a professional basketball player. In the season of 2016 he performed very well by NBA standards in view of his successes in 3-point shots, namely having 79 hits in 209 shots (actual numbers). After the first quarter of the current season his perfomance was not as good, only 15 hits in 50 shots (this story is made up by me). If you were the coach of Nowitzki’s team (the Dallas Mavericks) would you let him continue to play in forthcoming matches, or would you leave him out? What does statistics tell you?\n",
    "\n",
    "We want, of course, consider Nowitzki’s scoring performance as random experiment. Hitting or not-hitting is obviously a Bernoulli experiment, following binomial statistics. We are not so much interested in the actual number of hits but rather in Nowitzki’s “hitting probability”, i.e., the probality that he hits. Let’s call it p. The question is then: what p can we expect of Nowitzki in the current season, after he hit rather poorly during the first quarter of the season?\n",
    "\n",
    "Before let you going into this, first a story about conjugate priors and the Beta distribution . . .\n",
    "\n",
    "1. Consider Nowitzki’s scoring performance in 2016 and 2017 as separate random experiments, and plot their binomial distributions which describe his “hitting statistics” in these seasons.\n",
    "2. Looking at Nowitzki’s performance of the current season only: would you let him play? Any hit-rate below 30% is considered below NBA standards.\n",
    "3. Assuming an uninformative prior (using the β-distribution), plot the posterior distributions of the hitting probabilities p in both cases.\n",
    "4. Now use the posterior of 2016 as prior for the season 2017. Based on the new combined posterior: would you let Nowitzki play?\n",
    "5. Any further thoughts on this?\n",
    "\n",
    "Bernoulli: $B(k|p,n)=\\binom{n}{k} p^k (1-p)^{n-k}$\n",
    "\n",
    "Beta: $\\beta(p|\\alpha, \\beta)=\\frac{\\Gamma(\\alpha+\\beta)}{\\Gamma(\\alpha)\\Gamma(\\beta)}p^{\\alpha-1}(1-p)^{\\beta-1}$, mode $=\\frac{\\alpha-1}{\\alpha+\\beta-2}$, mean $=\\frac{\\alpha}{\\alpha+\\beta}$ -> Laplace rule of succession\n",
    "\n",
    "here prior: Beta distribution of $\\alpha=\\beta=1 \\Rightarrow U(0,1)$ because I'm a coach who knows nothing about him and we expect in a simple way. But since he plays in NBA, it is also reasonable to design a beta distribution ~ (0.35+-0.1)\n",
    "\n",
    "(For coin we believe a sharf distribution centered around 0.5, which corresponds to e.g. dbinom(,2000,2000))\n",
    "\n",
    "here likelihood: Bernoulli(likelihood is always a function of data)\n",
    "\n",
    "Thus we get the posterior: $P(p|n,k)=\\frac{1}{z}p^k(1-p)^{n-k}p^{\\alpha-1}(1-p)^{\\beta-1}=\\frac{1}{z}p^{\\alpha+k-1}k(1-p)^{n+\\beta-k-1}$ (z is normalization) We say: Beta distribution is conjugate prior of the Bernolli \n",
    "\n",
    "$\\beta \\cdot B$ again a beta distribution -> if more trials still beta distribution, the model would get better(more close to reality)\n",
    "\n",
    "$\\beta(p|\\alpha=k+1, \\beta=n-k+1) \\Rightarrow$ mode $=\\frac{k}{n}$, mean $=\\frac{1+k}{2+n}$)\n",
    "\n",
    "$\\alpha = \\alpha_{prior}+k$ (+Success)\n",
    "\n",
    "$\\beta = \\beta_{prior}+(n-k)$ (+Failure)"
   ]
  },
  {
   "cell_type": "code",
   "execution_count": 15,
   "metadata": {},
   "outputs": [
    {
     "data": {
      "image/png": "[encoded data removed]",
      "text/plain": [
       "plot without title"
      ]
     },
     "metadata": {},
     "output_type": "display_data"
    }
   ],
   "source": [
    "x <- seq(0, 200, by=1)\n",
    "plot(x, dbinom(x, 209, 79/209))\n",
    "y <- seq(0,50,by=1)\n",
    "points(y, dbinom(y, 50, 15/50))"
   ]
  },
  {
   "cell_type": "code",
   "execution_count": 22,
   "metadata": {},
   "outputs": [
    {
     "data": {
      "text/html": [
       "0.378"
      ],
      "text/latex": [
       "0.378"
      ],
      "text/markdown": [
       "0.378"
      ],
      "text/plain": [
       "[1] 0.378"
      ]
     },
     "metadata": {},
     "output_type": "display_data"
    },
    {
     "data": {
      "text/html": [
       "0.3"
      ],
      "text/latex": [
       "0.3"
      ],
      "text/markdown": [
       "0.3"
      ],
      "text/plain": [
       "[1] 0.3"
      ]
     },
     "metadata": {},
     "output_type": "display_data"
    },
    {
     "data": {
      "image/png": "[encoded data removed]",
      "text/plain": [
       "plot without title"
      ]
     },
     "metadata": {},
     "output_type": "display_data"
    }
   ],
   "source": [
    "t <- seq(0, 1, by=0.001)\n",
    "plot(t, dbeta(t,79+1,209-79+1),col=\"green\")#, type = \"l\")\n",
    "t[which(dbeta(t,80,131)==max(dbeta(t,80,131)))]\n",
    "points(t, dbeta(t,15+1,150-15+1),col=\"blue\")#, type = \"l\")\n",
    "t[which(dbeta(t,16,36)==max(dbeta(t,16,36)))]\n",
    "points(t, dbeta(t,15+79,209+50-15-79+1),col=\"red\")"
   ]
  },
  {
   "cell_type": "code",
   "execution_count": 27,
   "metadata": {},
   "outputs": [
    {
     "name": "stdout",
     "output_type": "stream",
     "text": [
      "[1] \"Mean 2016, hits/tries \" \"0.37799043062201\"      \n",
      "[1] \"Standard deviation    \" \"7.00990413492661\"      \n"
     ]
    },
    {
     "data": {
      "image/png": "[encoded data removed]",
      "text/plain": [
       "Plot with title \"Binomial distributions, estimating p=hits/tries\""
      ]
     },
     "metadata": {},
     "output_type": "display_data"
    }
   ],
   "source": [
    "# Dirk Novitzki, age 39 in 2017\n",
    "# Season 2016, 3-point field goal stats\n",
    "tries <- 209\n",
    "hits  <- 79\n",
    "miss  <- tries-hits\n",
    "\n",
    "# Hypothetical current season\n",
    "ctries <- 50\n",
    "chits  <- 15\n",
    "cmiss  <- ctries-chits\n",
    "\n",
    "# assuming binomial statistical behavior\n",
    "# probability to hit\n",
    "p <- hits/tries\n",
    "# variance\n",
    "v <- tries *  p * (1-p) \n",
    "print(c(\"Mean 2016, hits/tries \", p))\n",
    "print(c(\"Standard deviation    \", sqrt(v)))\n",
    "\n",
    "x <- 5:110            # range of possible outcome for plots\n",
    "y <- dbinom(x, tries, p)\n",
    "\n",
    "#graphics.off()\n",
    "plot(x,y,xlab=\"Number of hits\", ylab=\"Probability of this outcome\",\n",
    "     main=\"Binomial distributions, estimating p=hits/tries\", ylim=c(0.0, 0.1),\n",
    "     pch=19, col=\"green\")\n",
    "cp <- chits/ctries\n",
    "# prefix \"c\" is used for \"current\", i.e., 2017 season\n",
    "points(5:50,dbinom(5:50, ctries, cp), col=\"red\", pch=19)\n",
    "legend(40, 0.09, legend=c(\"season 2016\", \"season 2017\"),\n",
    "       col=c(\"green\", \"red\"), pch=19)\n",
    "dev.new()\n",
    "\n",
    "\n",
    "nsteps <- 400\n",
    "\n",
    "plot(0, -1, xlab=\"Probability p\", xlim=c(0.0,1.0), \n",
    "     ylab=\"PDF(Probability)\", lty=0, col=\"green\", ylim=c(0.0,13.0))\n",
    "curve(dbeta(x,hits+1,miss+1), add=T, col=\"green\", n=nsteps, lwd=2)\n",
    "curve(dbeta(x,chits+1,cmiss+1), add=T, col=\"red\", n=nsteps, lwd=2)\n",
    "# Bayesian estimate believing that Nowitzki performs as before\n",
    "curve(dbeta(x, hits+1+chits, miss+1+cmiss), add=T, col=\"blue\", n=nsteps,lwd=2)\n",
    "lines(0.3*c(1,1), c(0,20), lty=2)\n",
    "legend(0.5, 12.0, legend=c(\"Beta(p,79+1,209-79+1) - 2016\",\n",
    "                           \"Beta(p,15+1,50 -15+1) - current\",\n",
    "\t\t\t   \"Beta(p,94+1,259-94+1) - combined\"),\n",
    "       col=c(\"green\",\"red\", \"blue\"), lty=1, cex=0.8)"
   ]
  },
  {
   "cell_type": "markdown",
   "metadata": {},
   "source": [
    "# TODO: Exercise: confirming MLE relations on parameter uncertainties"
   ]
  }
 ],
 "metadata": {
  "kernelspec": {
   "display_name": "R",
   "language": "R",
   "name": "ir"
  },
  "language_info": {
   "codemirror_mode": "r",
   "file_extension": ".r",
   "mimetype": "text/x-r-source",
   "name": "R",
   "pygments_lexer": "r",
   "version": "3.5.1"
  }
 },
 "nbformat": 4,
 "nbformat_minor": 2
}
