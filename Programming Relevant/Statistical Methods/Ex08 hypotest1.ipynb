{
 "cells": [
  {
   "cell_type": "markdown",
   "metadata": {},
   "source": [
    "# Coin tossing "
   ]
  },
  {
   "cell_type": "code",
   "execution_count": 10,
   "metadata": {},
   "outputs": [
    {
     "name": "stdout",
     "output_type": "stream",
     "text": [
      "type I error, “false positive”:  0.171875 \n",
      "type II error, “false negative”:  0.3503893"
     ]
    },
    {
     "data": {
      "text/html": [
       "<ol class=list-inline>\n",
       "\t<li>165.381716879202</li>\n",
       "\t<li>70.8778786625152</li>\n",
       "\t<li>30.3762337125065</li>\n",
       "\t<li>13.0183858767885</li>\n",
       "\t<li>5.57930823290936</li>\n",
       "\t<li>2.3911320998183</li>\n",
       "\t<li>1.02477089992213</li>\n",
       "\t<li>0.439187528538054</li>\n",
       "\t<li>0.188223226516309</li>\n",
       "\t<li>0.0806670970784182</li>\n",
       "\t<li>0.0345716130336078</li>\n",
       "</ol>\n"
      ],
      "text/latex": [
       "\\begin{enumerate*}\n",
       "\\item 165.381716879202\n",
       "\\item 70.8778786625152\n",
       "\\item 30.3762337125065\n",
       "\\item 13.0183858767885\n",
       "\\item 5.57930823290936\n",
       "\\item 2.3911320998183\n",
       "\\item 1.02477089992213\n",
       "\\item 0.439187528538054\n",
       "\\item 0.188223226516309\n",
       "\\item 0.0806670970784182\n",
       "\\item 0.0345716130336078\n",
       "\\end{enumerate*}\n"
      ],
      "text/markdown": [
       "1. 165.381716879202\n",
       "2. 70.8778786625152\n",
       "3. 30.3762337125065\n",
       "4. 13.0183858767885\n",
       "5. 5.57930823290936\n",
       "6. 2.3911320998183\n",
       "7. 1.02477089992213\n",
       "8. 0.439187528538054\n",
       "9. 0.188223226516309\n",
       "10. 0.0806670970784182\n",
       "11. 0.0345716130336078\n",
       "\n",
       "\n"
      ],
      "text/plain": [
       " [1] 165.38171688  70.87787866  30.37623371  13.01838588   5.57930823\n",
       " [6]   2.39113210   1.02477090   0.43918753   0.18822323   0.08066710\n",
       "[11]   0.03457161"
      ]
     },
     "metadata": {},
     "output_type": "display_data"
    }
   ],
   "source": [
    "t <- 0:10\n",
    "P0 <- 0.5^10*choose(10, t)\n",
    "P1 <- 0.7^t*0.3^(10-t)*choose(10,t)\n",
    "cat(\"type I error, “false positive”: \", sum(P0[8:11]), \"\\n\")\n",
    "cat(\"type II error, “false negative”: \",sum(P1[1:7]))\n",
    "Px <- 0.5*P0+0.5*P1\n",
    "P0/P1"
   ]
  },
  {
   "cell_type": "markdown",
   "metadata": {},
   "source": [
    "# Comparing models when tossing a coin – again\n",
    "\n",
    "Formal model setup for coin 1 and 2: 10 tosses are performed \n",
    "\n",
    "Likelihood 1: binomial with some p; Likelihood 2: binomial with some p\n",
    "\n",
    "Prior 1: = 2.0 if $0 ≤ p < 0.5$, zero otherwise; Prior 2: = 2.0 if $0.5 ≤ p ≤ 1.0$, zero otherwise\n",
    "\n",
    "A priori: both coins should be thrown equally likely $\\Rightarrow $\n",
    "\n",
    "Setup simple: all possible data $x ∈ {0, . . . , 10}$ can be investigated finite parameter interval $p ∈ [0, 1]$\n",
    "\n",
    "In this set-up the preference for one of the coins is entirely driven by the priors. Parameter estimation does not play a role anywhere here\n",
    "\n",
    "Why is there a non-zero evidence for coin 1 for $x > 5$, and $x < 5$ for coin 2? \n",
    "\n",
    "Exercise: confirm the numbers"
   ]
  },
  {
   "cell_type": "code",
   "execution_count": 20,
   "metadata": {},
   "outputs": [
    {
     "name": "stdout",
     "output_type": "stream",
     "text": [
      "x 0 1 2 3 4 5 6 7 8 9 10 \n",
      "evid.1 .183 .181 .176 .161 .132 .091 .050 .020 .006 .001 .000 \n",
      "evid.2 .000 .001 .006 .021 .050 .091 .132 .161 .176 .181 .183 \n",
      "log(Bayes1/2) 3.3 2.2 1.5 0.9 0.4 0 -0.4 -0.9 -1.5 -2.2 -3.3 \n",
      "p_MAP_1 0 0.1 0.2 0.3 0.4 0.5 0.5 0.5 0.5 0.5 0.5 \n",
      "p_MAP_2 0.5 0.5 0.5 0.5 0.5 0.5 0.6 0.7 0.8 0.9 1 \n"
     ]
    },
    {
     "data": {
      "image/png": "[encoded data removed]",
      "text/plain": [
       "plot without title"
      ]
     },
     "metadata": {},
     "output_type": "display_data"
    }
   ],
   "source": [
    "ntoss <- 10\n",
    "x     <- 0:ntoss\n",
    "nx    <- length(x)\n",
    "dp    <- 0.001\n",
    "p     <- seq(0.0,1.0,dp)\n",
    "np    <- length(p)\n",
    "\n",
    "numformat <- function(val) { sub(\"^(-?)0.\", \"\\\\1.\", sprintf(\"%.3f\", val)) }\n",
    "\n",
    "prior1 <- function(p) if (p <  0.5) return(2.0) else return(0.0)\n",
    "prior2 <- function(p) if (p >= 0.5) return(2.0) else return(0.0)\n",
    "like1  <- function(x,p) return(dbinom(x,ntoss,p))\n",
    "like2  <- function(x,p) return(dbinom(x,ntoss,p))\n",
    "aprio1 <- 0.5\n",
    "aprio2 <- 0.5\n",
    "\n",
    "d1 <- matrix(ncol=nx,nrow=np)\n",
    "d2 <- matrix(ncol=nx,nrow=np)\n",
    "\n",
    "for (i in 1:np) {\n",
    "  d1[i,] <- like1(x,p[i])*prior1(p[i]) \n",
    "  d2[i,] <- like2(x,p[i])*prior2(p[i]) \n",
    "}\n",
    "\n",
    "evidence1 <- dp*colSums(d1)\n",
    "evidence2 <- dp*colSums(d2)\n",
    "bayes12   <- evidence1/evidence2\n",
    "\n",
    "cat(\"x\",x, \"\\n\")\n",
    "cat(\"evid.1\",numformat(evidence1), \"\\n\")\n",
    "cat(\"evid.2\",numformat(evidence2), \"\\n\")\n",
    "cat(\"log(Bayes1/2)\",round(log10(bayes12),1), \"\\n\")\n",
    "\n",
    "plot(p,d1[,1],type='n', ylab=\"Likelihood x Prior\")\n",
    "lines(p,d1[,1], col='red')\n",
    "for (i in 1:ntoss+1) lines(p,d1[,i], col='red')\n",
    "for (i in 1:ntoss+1) lines(p,d2[,i], col='blue')\n",
    "text(0.2,1.0,\"Model 1\", col='red',adj=0.5)\n",
    "text(0.8,1.0,\"Model 2\", col='blue',adj=0.5)\n",
    "text(0.07,1.7,\"x=0\",adj=0.5)\n",
    "text(0.5 ,0.55,\"x=5\",adj=0.5)\n",
    "text(0.92,1.7,\"x=10\",adj=0.5)\n",
    "\n",
    "p1 <- vector(length=nx)\n",
    "p2 <- vector(length=nx)\n",
    "for (i in 1:11) {\n",
    "  d     <- d1[,i]\n",
    "  p1[i] <- p[d==max(d)]\n",
    "  d     <- d2[,i]\n",
    "  p2[i] <- p[d==max(d)]\n",
    "}\n",
    "\n",
    "cat(\"p_MAP_1\",round(p1,2), \"\\n\")\n",
    "cat(\"p_MAP_2\",round(p2,2), \"\\n\")"
   ]
  },
  {
   "cell_type": "markdown",
   "metadata": {},
   "source": [
    "# TODO: Exercise – returning to the lighthouse\n",
    "\n",
    "You worked on the lighthouse problem in the exercises\n",
    "\n",
    "Suppose you meet somebody claiming that the distance estimate of the lighthouse keeper is wrong and the distance from the shore is rather 1 mile. The lighthouse keeper as well as the other person appear to you equally trustworthy. \n",
    "\n",
    "What proposition (dt. Behauptung) is more plausible?"
   ]
  },
  {
   "cell_type": "markdown",
   "metadata": {},
   "source": [
    "# Z test \n",
    "\n",
    "A random variable X is normally distributed with $\\sigma^2=9$ and unknown mean $\\mu$. You have $n = 10$ samples available drawn from the distribution of X.\n",
    "\n",
    "Test the hypothesis $\\mu = \\mu_0 = 24$ against the alternative hypothesis $\\mu > \\mu_0$ with a significance level $\\alpha = 0.05$\n",
    "\n",
    "$H_0: \\mu_0=24, \\sigma^2=9, n=10$ samples, $\\sigma_{\\bar x}=\\frac{\\sigma}{\\sqrt n}=\\sqrt {0.9}$\n",
    "\n",
    "$\\alpha=0.05$ significancy number\n",
    "\n",
    "Alternativ $H_1: \\mu_1 > \\mu_0$\n",
    "\n",
    "Question: what is the $\\bar x$ threshold?\n",
    "\n",
    "\n",
    "$P(\\bar x > \\bar{x}_{crit})=\\alpha$\n",
    "\n",
    "by $\\bar{x}_{crit} $ <- qnorm($1-\\alpha$, mean = $\\mu$, sd = $\\sigma_{\\bar x}$) we get $\\bar{x}_{crit}=25.56$\n",
    "\n",
    "by $\\bar{x}_{crit} $ <- qnorm($1-\\alpha$, mean = 0, sd = 1) we get $x_{crit}=1.6$\n",
    "\n",
    "$\\beta=P(\\bar x > \\bar{x}_{crit}$ | mean = $\\mu_1$, sd = $\\sigma_{\\bar x}$)\n",
    "\n",
    "In z space: $z = \\frac{\\bar x - \\mu_0}{\\sigma_{\\bar x}}$ -> N(0, 1) standard normal distribution -> universality of $z_{crit}$\n",
    "\n",
    "\n",
    "One-sided test: $\\alpha$ only on the right side of the curve\n",
    "\n",
    "Two-sided test: both side 2.5%\n",
    "\n",
    "\n",
    "operating characteristik statistics"
   ]
  },
  {
   "cell_type": "markdown",
   "metadata": {},
   "source": [
    "$\\int dx \\int {dy x P(x,y)}=\\int {dx x} \\int {dy P(x,y)}$ marginlization $=\\int {dx\\cdot x\\cdot P_Y(x)}$\n",
    "\n",
    "$\\approx \\Delta A \\sum_i \\sum_j {P_{i,j}x_{i,1}}=\\Delta A \\sum_i {x_{i,1}} \\sum_j P_{i,j} =\\Delta A \\sum_i {x_{i,1}}$colsum($P_{i,j}$)"
   ]
  }
 ],
 "metadata": {
  "kernelspec": {
   "display_name": "R",
   "language": "R",
   "name": "ir"
  },
  "language_info": {
   "codemirror_mode": "r",
   "file_extension": ".r",
   "mimetype": "text/x-r-source",
   "name": "R",
   "pygments_lexer": "r",
   "version": "3.5.1"
  }
 },
 "nbformat": 4,
 "nbformat_minor": 2
}
