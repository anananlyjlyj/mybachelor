{
 "cells": [
  {
   "cell_type": "markdown",
   "metadata": {},
   "source": [
    "# Covariance of variables in a time series of measurements\n",
    "using the data file _weathergraz.txt_, which contains measurements of the duration of sunshine over a month in the morning and afternoon (in hours) taken at the weather station of the University of Graz in 1961.\n",
    "\n",
    "* a. First we read the data in and create a plot of afternoon vs. morning sunshine hours."
   ]
  },
  {
   "cell_type": "code",
   "execution_count": 1,
   "metadata": {},
   "outputs": [
    {
     "data": {
      "image/png": "[encoded data removed]",
      "text/plain": [
       "Plot with title \"Duration of sunshine over a month in the University of Graz in 1961\""
      ]
     },
     "metadata": {},
     "output_type": "display_data"
    }
   ],
   "source": [
    "hours <- read.table(\"weathergraz.txt\", header = TRUE, row.names = 1)\n",
    "vorm <- hours[,1]\n",
    "nachm <- hours[,2]\n",
    "plot(1:12, vorm, pch = 2, xlab=\"Month\", ylab=\"duration of sunshine(hours)\",xaxt=\"n\", main=\"Duration of sunshine over a month in the University of Graz in 1961\")\n",
    "points(1:12, nachm, pch = 4, xlab=\"Month\", ylab=\"duration of sunshine(hours)\",xaxt=\"n\")\n",
    "lines(1:12, vorm, col=\"red\")\n",
    "lines(1:12, nachm, col=\"blue\")\n",
    "axis(1,at=1:12,labels=rownames(hours))\n",
    "legend(\"topright\", legend=c(\"Morning\", \"Afternoon\"),col=c(\"red\", \"blue\"), lty=1:1, cex=0.8)"
   ]
  },
  {
   "cell_type": "code",
   "execution_count": 2,
   "metadata": {},
   "outputs": [
    {
     "name": "stdout",
     "output_type": "stream",
     "text": [
      "the covariance matrix between morning to afternoon sunshine hours: "
     ]
    },
    {
     "data": {
      "text/html": [
       "<table>\n",
       "<tbody>\n",
       "\t<tr><td>2181.720</td><td>1732.826</td></tr>\n",
       "\t<tr><td>1732.826</td><td>1430.083</td></tr>\n",
       "</tbody>\n",
       "</table>\n"
      ],
      "text/latex": [
       "\\begin{tabular}{ll}\n",
       "\t 2181.720 & 1732.826\\\\\n",
       "\t 1732.826 & 1430.083\\\\\n",
       "\\end{tabular}\n"
      ],
      "text/markdown": [
       "\n",
       "| 2181.720 | 1732.826 | \n",
       "| 1732.826 | 1430.083 | \n",
       "\n",
       "\n"
      ],
      "text/plain": [
       "     [,1]     [,2]    \n",
       "[1,] 2181.720 1732.826\n",
       "[2,] 1732.826 1430.083"
      ]
     },
     "metadata": {},
     "output_type": "display_data"
    },
    {
     "name": "stdout",
     "output_type": "stream",
     "text": [
      "the correlation coefficient =  0.981013"
     ]
    }
   ],
   "source": [
    "cat(\"the covariance matrix between morning to afternoon sunshine hours: \")\n",
    "matrix(c(var(vorm),cov(vorm, nachm),cov(vorm, nachm), var(nachm)),2,2)\n",
    "cat(\"the correlation coefficient = \", cor(vorm, nachm))"
   ]
  },
  {
   "cell_type": "markdown",
   "metadata": {},
   "source": [
    "The way we estimated the covariance matrix doesn't give an unbiased estimate of the underlying true covariance of the “sunshine population”. Because they are not random variables. \n",
    "\n",
    "# Performance of Monte Carlo integration in different dimensions\n",
    "\n",
    "We would like to compare the performance of the Monte Carlo integration technique with the regular midpoint method. To this end, consider the integral \n",
    "$$ I = \\int_V f(\\boldsymbol{x})d\\boldsymbol{x} $$\n",
    "where the integration domain V is a d-dimensional hypercube with $0 ≤ x_i ≤ 1$ for each component of the vector $x = (x_1, x_2,..., x_d)$. The function we want to integrate is given by\n",
    "$$f(\\boldsymbol{x})=\\prod_{i=1}^d \\frac{3}{2}(1-x_i^2)$$\n",
    "This has an analytic solution of course, which is $<f>= I = 1$ independent of d and $<f^2>= (6/5)^d$,but we want to ignore this for the moment and use the problem as a test of the relative performance of Monte Carlo integration and ordinary integration techniques. To this end, calculate the integral in dimensions $d = 1, 2, 3, . . . , 10$, using\n",
    "\n",
    "* a: the midpoint method with the help of _xmidpoints.R_, where you divide the volume into a set of much smaller hypercubes obtained by subdividing each axis into n intervals, and where you approximate the integral by evaluating the function at the centers of the small cubes. Be aware that one can very easily fill up the whole computer memory with it. So, handle the number of dimensions with care! Alternative, think about a way of splitting the integration into smaller pieces.\n",
    "\n",
    "\n",
    "* b: standard Monte Carlo integration in d dimensions, using N random vectors\n",
    "\n",
    "For definiteness, adopt $n = 6$ and $N = 20000$. For both of the methods, report the numerical result for I, estimated uncertainty, and the CPU-time needed for each of the dimensions $d = 1, 2, . . . , 10$. (If you manage, you can also go to higher dimension. If you run into memeory problems stop at dimension smaller than 10.)"
   ]
  },
  {
   "cell_type": "code",
   "execution_count": 4,
   "metadata": {},
   "outputs": [
    {
     "name": "stdout",
     "output_type": "stream",
     "text": [
      "the integral I for 1 dimension is 1.003472 \n",
      "the consumed CPU-time is 0.05384278 s\n",
      "the integral I for 2 dimension is 1.006957 \n",
      "the consumed CPU-time is 0.03589582 s\n",
      "the integral I for 3 dimension is 1.010453 \n",
      "the consumed CPU-time is 0.001002073 s\n",
      "the integral I for 4 dimension is 1.013961 \n",
      "the consumed CPU-time is 0.007976055 s\n",
      "the integral I for 5 dimension is 1.017482 \n",
      "the consumed CPU-time is 0.03788996 s\n",
      "the integral I for 6 dimension is 1.021015 \n",
      "the consumed CPU-time is 0.284512 s\n",
      "the integral I for 7 dimension is 1.02456 \n",
      "the consumed CPU-time is 0.524749 s\n",
      "the integral I for 8 dimension is 1.028118 \n",
      "the consumed CPU-time is 3.449731 s\n"
     ]
    }
   ],
   "source": [
    "# integrand\n",
    "fx <- function(x){\n",
    "    # x is a matrix\n",
    "    return(apply(3*(1-x^2)/2, 1, prod))\n",
    "}\n",
    "# midpoint method\n",
    "xmidpoints <- function(n,dim) {\n",
    "  # n:   number of points per dimension (>= 1)\n",
    "  # dim: number of dimension            (>= 1)\n",
    "  # returns a (2D) of matrix(n^dim, dim) x\n",
    "  # located at midpoints of a unit hypercube\n",
    "  n1 <- n^dim\n",
    "  ii <- matrix(nrow=n1,ncol=dim)\n",
    "  d  <- 0:(n1-1)\n",
    "  for (j in 0:dim-1) ii[,j+1]<-(d%/%(n^j)) %% n \n",
    "  ii <- ii/as.double(n) + 1.0/as.double(2.0*n) # shift to midpoint\n",
    "  return(ii)\n",
    "}\n",
    "# integral\n",
    "integ <- function(n, dim){\n",
    "    return(sum(fx(xmidpoints(n, dim)))/n^dim)\n",
    "}\n",
    "for (i in 1:8){\n",
    "    start_time <- Sys.time()\n",
    "    cat(\"the integral I for\", i, \"dimension is\", integ(6, i), \"\\n\")\n",
    "    end_time <- Sys.time()\n",
    "    cat(\"the consumed CPU-time is\", end_time - start_time, \"s\\n\")\n",
    "}"
   ]
  },
  {
   "cell_type": "code",
   "execution_count": 5,
   "metadata": {},
   "outputs": [
    {
     "name": "stdout",
     "output_type": "stream",
     "text": [
      "the integral I for 1 dimension is 0.9976579 \n",
      "the consumed CPU-time is 0.05186415 s\n",
      "the integral I for 2 dimension is 0.9998751 \n",
      "the consumed CPU-time is 0.02795196 s\n",
      "the integral I for 3 dimension is 0.9992948 \n",
      "the consumed CPU-time is 0.02792788 s\n",
      "the integral I for 4 dimension is 0.9953377 \n",
      "the consumed CPU-time is 0.04886794 s\n",
      "the integral I for 5 dimension is 0.9971796 \n",
      "the consumed CPU-time is 0.03088808 s\n",
      "the integral I for 6 dimension is 1.007829 \n",
      "the consumed CPU-time is 0.02695298 s\n",
      "the integral I for 7 dimension is 1.007801 \n",
      "the consumed CPU-time is 0.04787803 s\n",
      "the integral I for 8 dimension is 0.9985295 \n",
      "the consumed CPU-time is 0.03291011 s\n",
      "the integral I for 9 dimension is 0.9800618 \n",
      "the consumed CPU-time is 0.03094792 s\n",
      "the integral I for 10 dimension is 0.9892015 \n",
      "the consumed CPU-time is 0.05083418 s\n"
     ]
    }
   ],
   "source": [
    "# standard Monte Carlo\n",
    "N <- 20000\n",
    "for (n in 1:10){\n",
    "    start_time <- Sys.time()\n",
    "    x <- matrix(runif(N*n), N, n)\n",
    "    cat(\"the integral I for\", n, \"dimension is\", mean(fx(x)), \"\\n\")\n",
    "    # we could also calculte variance and compare to analytical results here\n",
    "    end_time <- Sys.time()\n",
    "    cat(\"the consumed CPU-time is\", end_time - start_time, \"s\\n\")\n",
    "}"
   ]
  },
  {
   "cell_type": "markdown",
   "metadata": {},
   "source": [
    "For the MC integration in 1d case we can estimate the variance as $$\\sigma_{I}=\\sqrt{\\frac{<f^2>-<f>^2}{N}}=\\frac{0.2}{\\sqrt N}$$"
   ]
  }
 ],
 "metadata": {
  "kernelspec": {
   "display_name": "R",
   "language": "R",
   "name": "ir"
  },
  "language_info": {
   "codemirror_mode": "r",
   "file_extension": ".r",
   "mimetype": "text/x-r-source",
   "name": "R",
   "pygments_lexer": "r",
   "version": "3.5.1"
  }
 },
 "nbformat": 4,
 "nbformat_minor": 2
}
