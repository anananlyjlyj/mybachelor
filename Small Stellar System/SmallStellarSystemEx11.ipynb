{
 "cells": [
  {
   "cell_type": "code",
   "execution_count": 2,
   "metadata": {},
   "outputs": [
    {
     "name": "stdout",
     "output_type": "stream",
     "text": [
      "206.65833333333333\n",
      "5.77400183773977\n"
     ]
    }
   ],
   "source": [
    "import numpy as np\n",
    "\n",
    "vel = [204.1, 210.5, 200.4, 198.9, 207.8, 215.6, 213.0, 216.8, 212.8, 203.6, 206.6, 205.5, 198.7, 208.7, 200.4, 206.5, 205.2, 207.2, 206.3, 206.4, 198.4, 197.1, 216.9, 212.4]\n",
    "\n",
    "print(np.mean(vel))\n",
    "print(np.std(vel))"
   ]
  }
 ],
 "metadata": {
  "kernelspec": {
   "display_name": "Python 3",
   "language": "python",
   "name": "python3"
  },
  "language_info": {
   "codemirror_mode": {
    "name": "ipython",
    "version": 3
   },
   "file_extension": ".py",
   "mimetype": "text/x-python",
   "name": "python",
   "nbconvert_exporter": "python",
   "pygments_lexer": "ipython3",
   "version": "3.7.7"
  }
 },
 "nbformat": 4,
 "nbformat_minor": 4
}
